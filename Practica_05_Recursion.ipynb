{
  "nbformat": 4,
  "nbformat_minor": 0,
  "metadata": {
    "colab": {
      "provenance": [],
      "collapsed_sections": [
        "8KSSAoUZKqqb"
      ],
      "include_colab_link": true
    },
    "kernelspec": {
      "name": "python3",
      "display_name": "Python 3"
    }
  },
  "cells": [
    {
      "cell_type": "markdown",
      "metadata": {
        "id": "view-in-github",
        "colab_type": "text"
      },
      "source": [
        "<a href=\"https://colab.research.google.com/github/B-Lina/ProgramacionII-UNAHUR/blob/main/Practica_05_Recursion.ipynb\" target=\"_parent\"><img src=\"https://colab.research.google.com/assets/colab-badge.svg\" alt=\"Open In Colab\"/></a>"
      ]
    },
    {
      "cell_type": "markdown",
      "metadata": {
        "id": "42630xxYD0gZ"
      },
      "source": [
        "# ![alt text](https://upload.wikimedia.org/wikipedia/commons/thumb/c/c3/Python-logo-notext.svg/50px-Python-logo-notext.svg.png) **Trabajo Práctico 5: Recursividad** ![alt text](https://upload.wikimedia.org/wikipedia/commons/thumb/c/c3/Python-logo-notext.svg/50px-Python-logo-notext.svg.png)\n",
        "\n",
        "En este trabajo práctico, vamos a trabajar con el concepto de recursividad en Python. Recuerden crear una copia de este archivo en su ***Google Drive*** para tener permisos de edición.\n",
        "\n",
        "### Martin: **martin.pustilnik@unahur.edu.ar** ###\n"
      ]
    },
    {
      "cell_type": "markdown",
      "metadata": {
        "id": "xjXgmD3mskbR"
      },
      "source": [
        "### **Ejercicio 1**\n",
        "\n",
        "Implementar una función que calcule el factorial de un número de forma recursiva"
      ]
    },
    {
      "cell_type": "code",
      "source": [],
      "metadata": {
        "id": "2-ebVoLdly-b"
      },
      "execution_count": null,
      "outputs": []
    },
    {
      "cell_type": "markdown",
      "metadata": {
        "id": "oQU_Yv1QuOXm"
      },
      "source": [
        "### **Ejercicio 2**\n",
        "\n",
        "Una canilla de una casa pierde agua de forma que todos los días pierde 2 gotas más que el día anterior. Escribir una función recursiva que calcule cuantas gotas perderá la canilla el día N. El primer día solo perdía dos gotas.\n",
        "\n",
        "De manera opcional, con un ciclo que llame N veces a la función recursiva,calcular la cantidad de gotas acumuladas en N días."
      ]
    },
    {
      "cell_type": "code",
      "metadata": {
        "id": "3QmA2qDGvs2d",
        "colab": {
          "base_uri": "https://localhost:8080/"
        },
        "outputId": "fb8244f9-4c38-4f75-fb48-1d80904dd41f"
      },
      "source": [
        "# dia     cantgotas   cant acum\n",
        "#  1          2           2\n",
        "#  2          4           6\n",
        "#  3          6           12\n",
        "#  4          8           20\n",
        "\n",
        "def cantGotas(N:int)->int:\n",
        "  ret = 2\n",
        "  if n > 1:\n",
        "    ret =  2 + cantGotas(n-1)\n",
        "  return ret\n",
        "\n",
        "def cantGotasNDias(N:int)->int:\n",
        "  acum = 0\n",
        "  for i in range(1,N+1):\n",
        "    acum = acum + cantGotas(i)\n",
        "  return acum\n",
        "\n",
        "print(acum)"
      ],
      "execution_count": null,
      "outputs": [
        {
          "output_type": "stream",
          "name": "stdout",
          "text": [
            "20\n",
            "14\n"
          ]
        }
      ]
    },
    {
      "cell_type": "markdown",
      "metadata": {
        "id": "mJwO1DVLJ5q2"
      },
      "source": [
        "### **Ejercicio 3**\n",
        "\n",
        "Implementar una función recursiva que calcule los números de la serie de Fibonacci. La función para generar la serie de Fibonacci es la siguiente (donde N es el índice del número en la serie):\n",
        "\n",
        "<img src=\"https://blog.kakaocdn.net/dn/Fn13B/btretb0ZSLZ/qhgI2mFGD4cRCEVLN7PSKK/img.gif\" width=\"300\">\n",
        "\n",
        "Luego escribir un programa que pida un número N (mayor o igual a 0) al usuario e imprima por pantalla los primeros N números de la serie de Fibonacci\n",
        "\n",
        "Sobre la sucesion de Fibonacci: https://www.vix.com/es/btg/curiosidades/4461/que-es-la-sucesion-de-fibonacci\n",
        "\n",
        "\n"
      ]
    },
    {
      "cell_type": "code",
      "metadata": {
        "id": "Hg30Eej9pP3Q",
        "colab": {
          "base_uri": "https://localhost:8080/"
        },
        "outputId": "df45c803-54c7-4bf8-86a9-ddfc5340268b"
      },
      "source": [
        "import time\n",
        "\n",
        "\n",
        "def cantConejos(mes):\n",
        "  if mes == 0:\n",
        "    ret = 0\n",
        "  if mes == 1:\n",
        "    ret = 1\n",
        "  if mes > 2:\n",
        "    ret = cantConejos(mes-1) + cantConejos(mes-2)\n",
        "  return ret\n",
        "\n",
        "\n",
        "\n",
        "def fiboIter(n):\n",
        " n0 = 0\n",
        " n1 = 1\n",
        " n2 = n0 + n1\n",
        " if n==0:\n",
        "  return n0\n",
        " if n==1:\n",
        "  return n1\n",
        " if n>2:\n",
        "  for i in range(2,n+1):\n",
        "    n2 = n1 + n0\n",
        "    n0 = n1\n",
        "    n1 = n2\n",
        " return n2\n",
        "\n",
        "print(fiboIter(70))\n",
        "\n",
        "#inicio = time.perf_counter()\n",
        "#print(fibo(N))\n",
        "#fin = time.perf_counter()\n",
        "\n",
        "#Version recursiva\n",
        "\n",
        "\n",
        "#Version iterativa\n"
      ],
      "execution_count": null,
      "outputs": [
        {
          "output_type": "stream",
          "name": "stdout",
          "text": [
            "190392490709135\n"
          ]
        }
      ]
    },
    {
      "cell_type": "code",
      "source": [
        "\n",
        "def cantConejos(mes):\n",
        "  if mes == 0:\n",
        "    ret = 0\n",
        "  if mes == 1:\n",
        "    ret = 1\n",
        "  if mes > 1:\n",
        "    ret = cantConejos(mes-1) + cantConejos(mes-2)\n",
        "  return ret\n",
        "\n",
        "print(cantConejos(70))\n"
      ],
      "metadata": {
        "colab": {
          "base_uri": "https://localhost:8080/",
          "height": 321
        },
        "id": "Az--NPeaUFDq",
        "outputId": "23ce4c53-fa46-4c7e-e8c5-e9a1025d981c"
      },
      "execution_count": null,
      "outputs": [
        {
          "output_type": "error",
          "ename": "KeyboardInterrupt",
          "evalue": "",
          "traceback": [
            "\u001b[0;31m---------------------------------------------------------------------------\u001b[0m",
            "\u001b[0;31mKeyboardInterrupt\u001b[0m                         Traceback (most recent call last)",
            "\u001b[0;32m/tmp/ipython-input-3300144082.py\u001b[0m in \u001b[0;36m<cell line: 0>\u001b[0;34m()\u001b[0m\n\u001b[1;32m      8\u001b[0m   \u001b[0;32mreturn\u001b[0m \u001b[0mret\u001b[0m\u001b[0;34m\u001b[0m\u001b[0;34m\u001b[0m\u001b[0m\n\u001b[1;32m      9\u001b[0m \u001b[0;34m\u001b[0m\u001b[0m\n\u001b[0;32m---> 10\u001b[0;31m \u001b[0mprint\u001b[0m\u001b[0;34m(\u001b[0m\u001b[0mcantConejos\u001b[0m\u001b[0;34m(\u001b[0m\u001b[0;36m70\u001b[0m\u001b[0;34m)\u001b[0m\u001b[0;34m)\u001b[0m\u001b[0;34m\u001b[0m\u001b[0;34m\u001b[0m\u001b[0m\n\u001b[0m",
            "\u001b[0;32m/tmp/ipython-input-3300144082.py\u001b[0m in \u001b[0;36mcantConejos\u001b[0;34m(mes)\u001b[0m\n\u001b[1;32m      5\u001b[0m     \u001b[0mret\u001b[0m \u001b[0;34m=\u001b[0m \u001b[0;36m1\u001b[0m\u001b[0;34m\u001b[0m\u001b[0;34m\u001b[0m\u001b[0m\n\u001b[1;32m      6\u001b[0m   \u001b[0;32mif\u001b[0m \u001b[0mmes\u001b[0m \u001b[0;34m>\u001b[0m \u001b[0;36m1\u001b[0m\u001b[0;34m:\u001b[0m\u001b[0;34m\u001b[0m\u001b[0;34m\u001b[0m\u001b[0m\n\u001b[0;32m----> 7\u001b[0;31m     \u001b[0mret\u001b[0m \u001b[0;34m=\u001b[0m \u001b[0mcantConejos\u001b[0m\u001b[0;34m(\u001b[0m\u001b[0mmes\u001b[0m\u001b[0;34m-\u001b[0m\u001b[0;36m1\u001b[0m\u001b[0;34m)\u001b[0m \u001b[0;34m+\u001b[0m \u001b[0mcantConejos\u001b[0m\u001b[0;34m(\u001b[0m\u001b[0mmes\u001b[0m\u001b[0;34m-\u001b[0m\u001b[0;36m2\u001b[0m\u001b[0;34m)\u001b[0m\u001b[0;34m\u001b[0m\u001b[0;34m\u001b[0m\u001b[0m\n\u001b[0m\u001b[1;32m      8\u001b[0m   \u001b[0;32mreturn\u001b[0m \u001b[0mret\u001b[0m\u001b[0;34m\u001b[0m\u001b[0;34m\u001b[0m\u001b[0m\n\u001b[1;32m      9\u001b[0m \u001b[0;34m\u001b[0m\u001b[0m\n",
            "\u001b[0;32m/tmp/ipython-input-3300144082.py\u001b[0m in \u001b[0;36mcantConejos\u001b[0;34m(mes)\u001b[0m\n\u001b[1;32m      5\u001b[0m     \u001b[0mret\u001b[0m \u001b[0;34m=\u001b[0m \u001b[0;36m1\u001b[0m\u001b[0;34m\u001b[0m\u001b[0;34m\u001b[0m\u001b[0m\n\u001b[1;32m      6\u001b[0m   \u001b[0;32mif\u001b[0m \u001b[0mmes\u001b[0m \u001b[0;34m>\u001b[0m \u001b[0;36m1\u001b[0m\u001b[0;34m:\u001b[0m\u001b[0;34m\u001b[0m\u001b[0;34m\u001b[0m\u001b[0m\n\u001b[0;32m----> 7\u001b[0;31m     \u001b[0mret\u001b[0m \u001b[0;34m=\u001b[0m \u001b[0mcantConejos\u001b[0m\u001b[0;34m(\u001b[0m\u001b[0mmes\u001b[0m\u001b[0;34m-\u001b[0m\u001b[0;36m1\u001b[0m\u001b[0;34m)\u001b[0m \u001b[0;34m+\u001b[0m \u001b[0mcantConejos\u001b[0m\u001b[0;34m(\u001b[0m\u001b[0mmes\u001b[0m\u001b[0;34m-\u001b[0m\u001b[0;36m2\u001b[0m\u001b[0;34m)\u001b[0m\u001b[0;34m\u001b[0m\u001b[0;34m\u001b[0m\u001b[0m\n\u001b[0m\u001b[1;32m      8\u001b[0m   \u001b[0;32mreturn\u001b[0m \u001b[0mret\u001b[0m\u001b[0;34m\u001b[0m\u001b[0;34m\u001b[0m\u001b[0m\n\u001b[1;32m      9\u001b[0m \u001b[0;34m\u001b[0m\u001b[0m\n",
            "\u001b[0;32m/tmp/ipython-input-3300144082.py\u001b[0m in \u001b[0;36mcantConejos\u001b[0;34m(mes)\u001b[0m\n\u001b[1;32m      5\u001b[0m     \u001b[0mret\u001b[0m \u001b[0;34m=\u001b[0m \u001b[0;36m1\u001b[0m\u001b[0;34m\u001b[0m\u001b[0;34m\u001b[0m\u001b[0m\n\u001b[1;32m      6\u001b[0m   \u001b[0;32mif\u001b[0m \u001b[0mmes\u001b[0m \u001b[0;34m>\u001b[0m \u001b[0;36m1\u001b[0m\u001b[0;34m:\u001b[0m\u001b[0;34m\u001b[0m\u001b[0;34m\u001b[0m\u001b[0m\n\u001b[0;32m----> 7\u001b[0;31m     \u001b[0mret\u001b[0m \u001b[0;34m=\u001b[0m \u001b[0mcantConejos\u001b[0m\u001b[0;34m(\u001b[0m\u001b[0mmes\u001b[0m\u001b[0;34m-\u001b[0m\u001b[0;36m1\u001b[0m\u001b[0;34m)\u001b[0m \u001b[0;34m+\u001b[0m \u001b[0mcantConejos\u001b[0m\u001b[0;34m(\u001b[0m\u001b[0mmes\u001b[0m\u001b[0;34m-\u001b[0m\u001b[0;36m2\u001b[0m\u001b[0;34m)\u001b[0m\u001b[0;34m\u001b[0m\u001b[0;34m\u001b[0m\u001b[0m\n\u001b[0m\u001b[1;32m      8\u001b[0m   \u001b[0;32mreturn\u001b[0m \u001b[0mret\u001b[0m\u001b[0;34m\u001b[0m\u001b[0;34m\u001b[0m\u001b[0m\n\u001b[1;32m      9\u001b[0m \u001b[0;34m\u001b[0m\u001b[0m\n",
            "\u001b[0;32m/tmp/ipython-input-3300144082.py\u001b[0m in \u001b[0;36mcantConejos\u001b[0;34m(mes)\u001b[0m\n\u001b[1;32m      5\u001b[0m     \u001b[0mret\u001b[0m \u001b[0;34m=\u001b[0m \u001b[0;36m1\u001b[0m\u001b[0;34m\u001b[0m\u001b[0;34m\u001b[0m\u001b[0m\n\u001b[1;32m      6\u001b[0m   \u001b[0;32mif\u001b[0m \u001b[0mmes\u001b[0m \u001b[0;34m>\u001b[0m \u001b[0;36m1\u001b[0m\u001b[0;34m:\u001b[0m\u001b[0;34m\u001b[0m\u001b[0;34m\u001b[0m\u001b[0m\n\u001b[0;32m----> 7\u001b[0;31m     \u001b[0mret\u001b[0m \u001b[0;34m=\u001b[0m \u001b[0mcantConejos\u001b[0m\u001b[0;34m(\u001b[0m\u001b[0mmes\u001b[0m\u001b[0;34m-\u001b[0m\u001b[0;36m1\u001b[0m\u001b[0;34m)\u001b[0m \u001b[0;34m+\u001b[0m \u001b[0mcantConejos\u001b[0m\u001b[0;34m(\u001b[0m\u001b[0mmes\u001b[0m\u001b[0;34m-\u001b[0m\u001b[0;36m2\u001b[0m\u001b[0;34m)\u001b[0m\u001b[0;34m\u001b[0m\u001b[0;34m\u001b[0m\u001b[0m\n\u001b[0m\u001b[1;32m      8\u001b[0m   \u001b[0;32mreturn\u001b[0m \u001b[0mret\u001b[0m\u001b[0;34m\u001b[0m\u001b[0;34m\u001b[0m\u001b[0m\n\u001b[1;32m      9\u001b[0m \u001b[0;34m\u001b[0m\u001b[0m\n",
            "\u001b[0;32m/tmp/ipython-input-3300144082.py\u001b[0m in \u001b[0;36mcantConejos\u001b[0;34m(mes)\u001b[0m\n\u001b[1;32m      5\u001b[0m     \u001b[0mret\u001b[0m \u001b[0;34m=\u001b[0m \u001b[0;36m1\u001b[0m\u001b[0;34m\u001b[0m\u001b[0;34m\u001b[0m\u001b[0m\n\u001b[1;32m      6\u001b[0m   \u001b[0;32mif\u001b[0m \u001b[0mmes\u001b[0m \u001b[0;34m>\u001b[0m \u001b[0;36m1\u001b[0m\u001b[0;34m:\u001b[0m\u001b[0;34m\u001b[0m\u001b[0;34m\u001b[0m\u001b[0m\n\u001b[0;32m----> 7\u001b[0;31m     \u001b[0mret\u001b[0m \u001b[0;34m=\u001b[0m \u001b[0mcantConejos\u001b[0m\u001b[0;34m(\u001b[0m\u001b[0mmes\u001b[0m\u001b[0;34m-\u001b[0m\u001b[0;36m1\u001b[0m\u001b[0;34m)\u001b[0m \u001b[0;34m+\u001b[0m \u001b[0mcantConejos\u001b[0m\u001b[0;34m(\u001b[0m\u001b[0mmes\u001b[0m\u001b[0;34m-\u001b[0m\u001b[0;36m2\u001b[0m\u001b[0;34m)\u001b[0m\u001b[0;34m\u001b[0m\u001b[0;34m\u001b[0m\u001b[0m\n\u001b[0m\u001b[1;32m      8\u001b[0m   \u001b[0;32mreturn\u001b[0m \u001b[0mret\u001b[0m\u001b[0;34m\u001b[0m\u001b[0;34m\u001b[0m\u001b[0m\n\u001b[1;32m      9\u001b[0m \u001b[0;34m\u001b[0m\u001b[0m\n",
            "\u001b[0;32m/tmp/ipython-input-3300144082.py\u001b[0m in \u001b[0;36mcantConejos\u001b[0;34m(mes)\u001b[0m\n\u001b[1;32m      5\u001b[0m     \u001b[0mret\u001b[0m \u001b[0;34m=\u001b[0m \u001b[0;36m1\u001b[0m\u001b[0;34m\u001b[0m\u001b[0;34m\u001b[0m\u001b[0m\n\u001b[1;32m      6\u001b[0m   \u001b[0;32mif\u001b[0m \u001b[0mmes\u001b[0m \u001b[0;34m>\u001b[0m \u001b[0;36m1\u001b[0m\u001b[0;34m:\u001b[0m\u001b[0;34m\u001b[0m\u001b[0;34m\u001b[0m\u001b[0m\n\u001b[0;32m----> 7\u001b[0;31m     \u001b[0mret\u001b[0m \u001b[0;34m=\u001b[0m \u001b[0mcantConejos\u001b[0m\u001b[0;34m(\u001b[0m\u001b[0mmes\u001b[0m\u001b[0;34m-\u001b[0m\u001b[0;36m1\u001b[0m\u001b[0;34m)\u001b[0m \u001b[0;34m+\u001b[0m \u001b[0mcantConejos\u001b[0m\u001b[0;34m(\u001b[0m\u001b[0mmes\u001b[0m\u001b[0;34m-\u001b[0m\u001b[0;36m2\u001b[0m\u001b[0;34m)\u001b[0m\u001b[0;34m\u001b[0m\u001b[0;34m\u001b[0m\u001b[0m\n\u001b[0m\u001b[1;32m      8\u001b[0m   \u001b[0;32mreturn\u001b[0m \u001b[0mret\u001b[0m\u001b[0;34m\u001b[0m\u001b[0;34m\u001b[0m\u001b[0m\n\u001b[1;32m      9\u001b[0m \u001b[0;34m\u001b[0m\u001b[0m\n",
            "\u001b[0;32m/tmp/ipython-input-3300144082.py\u001b[0m in \u001b[0;36mcantConejos\u001b[0;34m(mes)\u001b[0m\n\u001b[1;32m      5\u001b[0m     \u001b[0mret\u001b[0m \u001b[0;34m=\u001b[0m \u001b[0;36m1\u001b[0m\u001b[0;34m\u001b[0m\u001b[0;34m\u001b[0m\u001b[0m\n\u001b[1;32m      6\u001b[0m   \u001b[0;32mif\u001b[0m \u001b[0mmes\u001b[0m \u001b[0;34m>\u001b[0m \u001b[0;36m1\u001b[0m\u001b[0;34m:\u001b[0m\u001b[0;34m\u001b[0m\u001b[0;34m\u001b[0m\u001b[0m\n\u001b[0;32m----> 7\u001b[0;31m     \u001b[0mret\u001b[0m \u001b[0;34m=\u001b[0m \u001b[0mcantConejos\u001b[0m\u001b[0;34m(\u001b[0m\u001b[0mmes\u001b[0m\u001b[0;34m-\u001b[0m\u001b[0;36m1\u001b[0m\u001b[0;34m)\u001b[0m \u001b[0;34m+\u001b[0m \u001b[0mcantConejos\u001b[0m\u001b[0;34m(\u001b[0m\u001b[0mmes\u001b[0m\u001b[0;34m-\u001b[0m\u001b[0;36m2\u001b[0m\u001b[0;34m)\u001b[0m\u001b[0;34m\u001b[0m\u001b[0;34m\u001b[0m\u001b[0m\n\u001b[0m\u001b[1;32m      8\u001b[0m   \u001b[0;32mreturn\u001b[0m \u001b[0mret\u001b[0m\u001b[0;34m\u001b[0m\u001b[0;34m\u001b[0m\u001b[0m\n\u001b[1;32m      9\u001b[0m \u001b[0;34m\u001b[0m\u001b[0m\n",
            "\u001b[0;32m/tmp/ipython-input-3300144082.py\u001b[0m in \u001b[0;36mcantConejos\u001b[0;34m(mes)\u001b[0m\n\u001b[1;32m      5\u001b[0m     \u001b[0mret\u001b[0m \u001b[0;34m=\u001b[0m \u001b[0;36m1\u001b[0m\u001b[0;34m\u001b[0m\u001b[0;34m\u001b[0m\u001b[0m\n\u001b[1;32m      6\u001b[0m   \u001b[0;32mif\u001b[0m \u001b[0mmes\u001b[0m \u001b[0;34m>\u001b[0m \u001b[0;36m1\u001b[0m\u001b[0;34m:\u001b[0m\u001b[0;34m\u001b[0m\u001b[0;34m\u001b[0m\u001b[0m\n\u001b[0;32m----> 7\u001b[0;31m     \u001b[0mret\u001b[0m \u001b[0;34m=\u001b[0m \u001b[0mcantConejos\u001b[0m\u001b[0;34m(\u001b[0m\u001b[0mmes\u001b[0m\u001b[0;34m-\u001b[0m\u001b[0;36m1\u001b[0m\u001b[0;34m)\u001b[0m \u001b[0;34m+\u001b[0m \u001b[0mcantConejos\u001b[0m\u001b[0;34m(\u001b[0m\u001b[0mmes\u001b[0m\u001b[0;34m-\u001b[0m\u001b[0;36m2\u001b[0m\u001b[0;34m)\u001b[0m\u001b[0;34m\u001b[0m\u001b[0;34m\u001b[0m\u001b[0m\n\u001b[0m\u001b[1;32m      8\u001b[0m   \u001b[0;32mreturn\u001b[0m \u001b[0mret\u001b[0m\u001b[0;34m\u001b[0m\u001b[0;34m\u001b[0m\u001b[0m\n\u001b[1;32m      9\u001b[0m \u001b[0;34m\u001b[0m\u001b[0m\n",
            "\u001b[0;32m/tmp/ipython-input-3300144082.py\u001b[0m in \u001b[0;36mcantConejos\u001b[0;34m(mes)\u001b[0m\n\u001b[1;32m      5\u001b[0m     \u001b[0mret\u001b[0m \u001b[0;34m=\u001b[0m \u001b[0;36m1\u001b[0m\u001b[0;34m\u001b[0m\u001b[0;34m\u001b[0m\u001b[0m\n\u001b[1;32m      6\u001b[0m   \u001b[0;32mif\u001b[0m \u001b[0mmes\u001b[0m \u001b[0;34m>\u001b[0m \u001b[0;36m1\u001b[0m\u001b[0;34m:\u001b[0m\u001b[0;34m\u001b[0m\u001b[0;34m\u001b[0m\u001b[0m\n\u001b[0;32m----> 7\u001b[0;31m     \u001b[0mret\u001b[0m \u001b[0;34m=\u001b[0m \u001b[0mcantConejos\u001b[0m\u001b[0;34m(\u001b[0m\u001b[0mmes\u001b[0m\u001b[0;34m-\u001b[0m\u001b[0;36m1\u001b[0m\u001b[0;34m)\u001b[0m \u001b[0;34m+\u001b[0m \u001b[0mcantConejos\u001b[0m\u001b[0;34m(\u001b[0m\u001b[0mmes\u001b[0m\u001b[0;34m-\u001b[0m\u001b[0;36m2\u001b[0m\u001b[0;34m)\u001b[0m\u001b[0;34m\u001b[0m\u001b[0;34m\u001b[0m\u001b[0m\n\u001b[0m\u001b[1;32m      8\u001b[0m   \u001b[0;32mreturn\u001b[0m \u001b[0mret\u001b[0m\u001b[0;34m\u001b[0m\u001b[0;34m\u001b[0m\u001b[0m\n\u001b[1;32m      9\u001b[0m \u001b[0;34m\u001b[0m\u001b[0m\n",
            "\u001b[0;32m/tmp/ipython-input-3300144082.py\u001b[0m in \u001b[0;36mcantConejos\u001b[0;34m(mes)\u001b[0m\n\u001b[1;32m      5\u001b[0m     \u001b[0mret\u001b[0m \u001b[0;34m=\u001b[0m \u001b[0;36m1\u001b[0m\u001b[0;34m\u001b[0m\u001b[0;34m\u001b[0m\u001b[0m\n\u001b[1;32m      6\u001b[0m   \u001b[0;32mif\u001b[0m \u001b[0mmes\u001b[0m \u001b[0;34m>\u001b[0m \u001b[0;36m1\u001b[0m\u001b[0;34m:\u001b[0m\u001b[0;34m\u001b[0m\u001b[0;34m\u001b[0m\u001b[0m\n\u001b[0;32m----> 7\u001b[0;31m     \u001b[0mret\u001b[0m \u001b[0;34m=\u001b[0m \u001b[0mcantConejos\u001b[0m\u001b[0;34m(\u001b[0m\u001b[0mmes\u001b[0m\u001b[0;34m-\u001b[0m\u001b[0;36m1\u001b[0m\u001b[0;34m)\u001b[0m \u001b[0;34m+\u001b[0m \u001b[0mcantConejos\u001b[0m\u001b[0;34m(\u001b[0m\u001b[0mmes\u001b[0m\u001b[0;34m-\u001b[0m\u001b[0;36m2\u001b[0m\u001b[0;34m)\u001b[0m\u001b[0;34m\u001b[0m\u001b[0;34m\u001b[0m\u001b[0m\n\u001b[0m\u001b[1;32m      8\u001b[0m   \u001b[0;32mreturn\u001b[0m \u001b[0mret\u001b[0m\u001b[0;34m\u001b[0m\u001b[0;34m\u001b[0m\u001b[0m\n\u001b[1;32m      9\u001b[0m \u001b[0;34m\u001b[0m\u001b[0m\n",
            "\u001b[0;32m/tmp/ipython-input-3300144082.py\u001b[0m in \u001b[0;36mcantConejos\u001b[0;34m(mes)\u001b[0m\n\u001b[1;32m      5\u001b[0m     \u001b[0mret\u001b[0m \u001b[0;34m=\u001b[0m \u001b[0;36m1\u001b[0m\u001b[0;34m\u001b[0m\u001b[0;34m\u001b[0m\u001b[0m\n\u001b[1;32m      6\u001b[0m   \u001b[0;32mif\u001b[0m \u001b[0mmes\u001b[0m \u001b[0;34m>\u001b[0m \u001b[0;36m1\u001b[0m\u001b[0;34m:\u001b[0m\u001b[0;34m\u001b[0m\u001b[0;34m\u001b[0m\u001b[0m\n\u001b[0;32m----> 7\u001b[0;31m     \u001b[0mret\u001b[0m \u001b[0;34m=\u001b[0m \u001b[0mcantConejos\u001b[0m\u001b[0;34m(\u001b[0m\u001b[0mmes\u001b[0m\u001b[0;34m-\u001b[0m\u001b[0;36m1\u001b[0m\u001b[0;34m)\u001b[0m \u001b[0;34m+\u001b[0m \u001b[0mcantConejos\u001b[0m\u001b[0;34m(\u001b[0m\u001b[0mmes\u001b[0m\u001b[0;34m-\u001b[0m\u001b[0;36m2\u001b[0m\u001b[0;34m)\u001b[0m\u001b[0;34m\u001b[0m\u001b[0;34m\u001b[0m\u001b[0m\n\u001b[0m\u001b[1;32m      8\u001b[0m   \u001b[0;32mreturn\u001b[0m \u001b[0mret\u001b[0m\u001b[0;34m\u001b[0m\u001b[0;34m\u001b[0m\u001b[0m\n\u001b[1;32m      9\u001b[0m \u001b[0;34m\u001b[0m\u001b[0m\n",
            "\u001b[0;32m/tmp/ipython-input-3300144082.py\u001b[0m in \u001b[0;36mcantConejos\u001b[0;34m(mes)\u001b[0m\n\u001b[1;32m      5\u001b[0m     \u001b[0mret\u001b[0m \u001b[0;34m=\u001b[0m \u001b[0;36m1\u001b[0m\u001b[0;34m\u001b[0m\u001b[0;34m\u001b[0m\u001b[0m\n\u001b[1;32m      6\u001b[0m   \u001b[0;32mif\u001b[0m \u001b[0mmes\u001b[0m \u001b[0;34m>\u001b[0m \u001b[0;36m1\u001b[0m\u001b[0;34m:\u001b[0m\u001b[0;34m\u001b[0m\u001b[0;34m\u001b[0m\u001b[0m\n\u001b[0;32m----> 7\u001b[0;31m     \u001b[0mret\u001b[0m \u001b[0;34m=\u001b[0m \u001b[0mcantConejos\u001b[0m\u001b[0;34m(\u001b[0m\u001b[0mmes\u001b[0m\u001b[0;34m-\u001b[0m\u001b[0;36m1\u001b[0m\u001b[0;34m)\u001b[0m \u001b[0;34m+\u001b[0m \u001b[0mcantConejos\u001b[0m\u001b[0;34m(\u001b[0m\u001b[0mmes\u001b[0m\u001b[0;34m-\u001b[0m\u001b[0;36m2\u001b[0m\u001b[0;34m)\u001b[0m\u001b[0;34m\u001b[0m\u001b[0;34m\u001b[0m\u001b[0m\n\u001b[0m\u001b[1;32m      8\u001b[0m   \u001b[0;32mreturn\u001b[0m \u001b[0mret\u001b[0m\u001b[0;34m\u001b[0m\u001b[0;34m\u001b[0m\u001b[0m\n\u001b[1;32m      9\u001b[0m \u001b[0;34m\u001b[0m\u001b[0m\n",
            "\u001b[0;32m/tmp/ipython-input-3300144082.py\u001b[0m in \u001b[0;36mcantConejos\u001b[0;34m(mes)\u001b[0m\n\u001b[1;32m      5\u001b[0m     \u001b[0mret\u001b[0m \u001b[0;34m=\u001b[0m \u001b[0;36m1\u001b[0m\u001b[0;34m\u001b[0m\u001b[0;34m\u001b[0m\u001b[0m\n\u001b[1;32m      6\u001b[0m   \u001b[0;32mif\u001b[0m \u001b[0mmes\u001b[0m \u001b[0;34m>\u001b[0m \u001b[0;36m1\u001b[0m\u001b[0;34m:\u001b[0m\u001b[0;34m\u001b[0m\u001b[0;34m\u001b[0m\u001b[0m\n\u001b[0;32m----> 7\u001b[0;31m     \u001b[0mret\u001b[0m \u001b[0;34m=\u001b[0m \u001b[0mcantConejos\u001b[0m\u001b[0;34m(\u001b[0m\u001b[0mmes\u001b[0m\u001b[0;34m-\u001b[0m\u001b[0;36m1\u001b[0m\u001b[0;34m)\u001b[0m \u001b[0;34m+\u001b[0m \u001b[0mcantConejos\u001b[0m\u001b[0;34m(\u001b[0m\u001b[0mmes\u001b[0m\u001b[0;34m-\u001b[0m\u001b[0;36m2\u001b[0m\u001b[0;34m)\u001b[0m\u001b[0;34m\u001b[0m\u001b[0;34m\u001b[0m\u001b[0m\n\u001b[0m\u001b[1;32m      8\u001b[0m   \u001b[0;32mreturn\u001b[0m \u001b[0mret\u001b[0m\u001b[0;34m\u001b[0m\u001b[0;34m\u001b[0m\u001b[0m\n\u001b[1;32m      9\u001b[0m \u001b[0;34m\u001b[0m\u001b[0m\n",
            "\u001b[0;32m/tmp/ipython-input-3300144082.py\u001b[0m in \u001b[0;36mcantConejos\u001b[0;34m(mes)\u001b[0m\n\u001b[1;32m      5\u001b[0m     \u001b[0mret\u001b[0m \u001b[0;34m=\u001b[0m \u001b[0;36m1\u001b[0m\u001b[0;34m\u001b[0m\u001b[0;34m\u001b[0m\u001b[0m\n\u001b[1;32m      6\u001b[0m   \u001b[0;32mif\u001b[0m \u001b[0mmes\u001b[0m \u001b[0;34m>\u001b[0m \u001b[0;36m1\u001b[0m\u001b[0;34m:\u001b[0m\u001b[0;34m\u001b[0m\u001b[0;34m\u001b[0m\u001b[0m\n\u001b[0;32m----> 7\u001b[0;31m     \u001b[0mret\u001b[0m \u001b[0;34m=\u001b[0m \u001b[0mcantConejos\u001b[0m\u001b[0;34m(\u001b[0m\u001b[0mmes\u001b[0m\u001b[0;34m-\u001b[0m\u001b[0;36m1\u001b[0m\u001b[0;34m)\u001b[0m \u001b[0;34m+\u001b[0m \u001b[0mcantConejos\u001b[0m\u001b[0;34m(\u001b[0m\u001b[0mmes\u001b[0m\u001b[0;34m-\u001b[0m\u001b[0;36m2\u001b[0m\u001b[0;34m)\u001b[0m\u001b[0;34m\u001b[0m\u001b[0;34m\u001b[0m\u001b[0m\n\u001b[0m\u001b[1;32m      8\u001b[0m   \u001b[0;32mreturn\u001b[0m \u001b[0mret\u001b[0m\u001b[0;34m\u001b[0m\u001b[0;34m\u001b[0m\u001b[0m\n\u001b[1;32m      9\u001b[0m \u001b[0;34m\u001b[0m\u001b[0m\n",
            "\u001b[0;32m/tmp/ipython-input-3300144082.py\u001b[0m in \u001b[0;36mcantConejos\u001b[0;34m(mes)\u001b[0m\n\u001b[1;32m      5\u001b[0m     \u001b[0mret\u001b[0m \u001b[0;34m=\u001b[0m \u001b[0;36m1\u001b[0m\u001b[0;34m\u001b[0m\u001b[0;34m\u001b[0m\u001b[0m\n\u001b[1;32m      6\u001b[0m   \u001b[0;32mif\u001b[0m \u001b[0mmes\u001b[0m \u001b[0;34m>\u001b[0m \u001b[0;36m1\u001b[0m\u001b[0;34m:\u001b[0m\u001b[0;34m\u001b[0m\u001b[0;34m\u001b[0m\u001b[0m\n\u001b[0;32m----> 7\u001b[0;31m     \u001b[0mret\u001b[0m \u001b[0;34m=\u001b[0m \u001b[0mcantConejos\u001b[0m\u001b[0;34m(\u001b[0m\u001b[0mmes\u001b[0m\u001b[0;34m-\u001b[0m\u001b[0;36m1\u001b[0m\u001b[0;34m)\u001b[0m \u001b[0;34m+\u001b[0m \u001b[0mcantConejos\u001b[0m\u001b[0;34m(\u001b[0m\u001b[0mmes\u001b[0m\u001b[0;34m-\u001b[0m\u001b[0;36m2\u001b[0m\u001b[0;34m)\u001b[0m\u001b[0;34m\u001b[0m\u001b[0;34m\u001b[0m\u001b[0m\n\u001b[0m\u001b[1;32m      8\u001b[0m   \u001b[0;32mreturn\u001b[0m \u001b[0mret\u001b[0m\u001b[0;34m\u001b[0m\u001b[0;34m\u001b[0m\u001b[0m\n\u001b[1;32m      9\u001b[0m \u001b[0;34m\u001b[0m\u001b[0m\n",
            "\u001b[0;32m/tmp/ipython-input-3300144082.py\u001b[0m in \u001b[0;36mcantConejos\u001b[0;34m(mes)\u001b[0m\n\u001b[1;32m      5\u001b[0m     \u001b[0mret\u001b[0m \u001b[0;34m=\u001b[0m \u001b[0;36m1\u001b[0m\u001b[0;34m\u001b[0m\u001b[0;34m\u001b[0m\u001b[0m\n\u001b[1;32m      6\u001b[0m   \u001b[0;32mif\u001b[0m \u001b[0mmes\u001b[0m \u001b[0;34m>\u001b[0m \u001b[0;36m1\u001b[0m\u001b[0;34m:\u001b[0m\u001b[0;34m\u001b[0m\u001b[0;34m\u001b[0m\u001b[0m\n\u001b[0;32m----> 7\u001b[0;31m     \u001b[0mret\u001b[0m \u001b[0;34m=\u001b[0m \u001b[0mcantConejos\u001b[0m\u001b[0;34m(\u001b[0m\u001b[0mmes\u001b[0m\u001b[0;34m-\u001b[0m\u001b[0;36m1\u001b[0m\u001b[0;34m)\u001b[0m \u001b[0;34m+\u001b[0m \u001b[0mcantConejos\u001b[0m\u001b[0;34m(\u001b[0m\u001b[0mmes\u001b[0m\u001b[0;34m-\u001b[0m\u001b[0;36m2\u001b[0m\u001b[0;34m)\u001b[0m\u001b[0;34m\u001b[0m\u001b[0;34m\u001b[0m\u001b[0m\n\u001b[0m\u001b[1;32m      8\u001b[0m   \u001b[0;32mreturn\u001b[0m \u001b[0mret\u001b[0m\u001b[0;34m\u001b[0m\u001b[0;34m\u001b[0m\u001b[0m\n\u001b[1;32m      9\u001b[0m \u001b[0;34m\u001b[0m\u001b[0m\n",
            "\u001b[0;32m/tmp/ipython-input-3300144082.py\u001b[0m in \u001b[0;36mcantConejos\u001b[0;34m(mes)\u001b[0m\n\u001b[1;32m      5\u001b[0m     \u001b[0mret\u001b[0m \u001b[0;34m=\u001b[0m \u001b[0;36m1\u001b[0m\u001b[0;34m\u001b[0m\u001b[0;34m\u001b[0m\u001b[0m\n\u001b[1;32m      6\u001b[0m   \u001b[0;32mif\u001b[0m \u001b[0mmes\u001b[0m \u001b[0;34m>\u001b[0m \u001b[0;36m1\u001b[0m\u001b[0;34m:\u001b[0m\u001b[0;34m\u001b[0m\u001b[0;34m\u001b[0m\u001b[0m\n\u001b[0;32m----> 7\u001b[0;31m     \u001b[0mret\u001b[0m \u001b[0;34m=\u001b[0m \u001b[0mcantConejos\u001b[0m\u001b[0;34m(\u001b[0m\u001b[0mmes\u001b[0m\u001b[0;34m-\u001b[0m\u001b[0;36m1\u001b[0m\u001b[0;34m)\u001b[0m \u001b[0;34m+\u001b[0m \u001b[0mcantConejos\u001b[0m\u001b[0;34m(\u001b[0m\u001b[0mmes\u001b[0m\u001b[0;34m-\u001b[0m\u001b[0;36m2\u001b[0m\u001b[0;34m)\u001b[0m\u001b[0;34m\u001b[0m\u001b[0;34m\u001b[0m\u001b[0m\n\u001b[0m\u001b[1;32m      8\u001b[0m   \u001b[0;32mreturn\u001b[0m \u001b[0mret\u001b[0m\u001b[0;34m\u001b[0m\u001b[0;34m\u001b[0m\u001b[0m\n\u001b[1;32m      9\u001b[0m \u001b[0;34m\u001b[0m\u001b[0m\n",
            "\u001b[0;32m/tmp/ipython-input-3300144082.py\u001b[0m in \u001b[0;36mcantConejos\u001b[0;34m(mes)\u001b[0m\n\u001b[1;32m      5\u001b[0m     \u001b[0mret\u001b[0m \u001b[0;34m=\u001b[0m \u001b[0;36m1\u001b[0m\u001b[0;34m\u001b[0m\u001b[0;34m\u001b[0m\u001b[0m\n\u001b[1;32m      6\u001b[0m   \u001b[0;32mif\u001b[0m \u001b[0mmes\u001b[0m \u001b[0;34m>\u001b[0m \u001b[0;36m1\u001b[0m\u001b[0;34m:\u001b[0m\u001b[0;34m\u001b[0m\u001b[0;34m\u001b[0m\u001b[0m\n\u001b[0;32m----> 7\u001b[0;31m     \u001b[0mret\u001b[0m \u001b[0;34m=\u001b[0m \u001b[0mcantConejos\u001b[0m\u001b[0;34m(\u001b[0m\u001b[0mmes\u001b[0m\u001b[0;34m-\u001b[0m\u001b[0;36m1\u001b[0m\u001b[0;34m)\u001b[0m \u001b[0;34m+\u001b[0m \u001b[0mcantConejos\u001b[0m\u001b[0;34m(\u001b[0m\u001b[0mmes\u001b[0m\u001b[0;34m-\u001b[0m\u001b[0;36m2\u001b[0m\u001b[0;34m)\u001b[0m\u001b[0;34m\u001b[0m\u001b[0;34m\u001b[0m\u001b[0m\n\u001b[0m\u001b[1;32m      8\u001b[0m   \u001b[0;32mreturn\u001b[0m \u001b[0mret\u001b[0m\u001b[0;34m\u001b[0m\u001b[0;34m\u001b[0m\u001b[0m\n\u001b[1;32m      9\u001b[0m \u001b[0;34m\u001b[0m\u001b[0m\n",
            "\u001b[0;32m/tmp/ipython-input-3300144082.py\u001b[0m in \u001b[0;36mcantConejos\u001b[0;34m(mes)\u001b[0m\n\u001b[1;32m      5\u001b[0m     \u001b[0mret\u001b[0m \u001b[0;34m=\u001b[0m \u001b[0;36m1\u001b[0m\u001b[0;34m\u001b[0m\u001b[0;34m\u001b[0m\u001b[0m\n\u001b[1;32m      6\u001b[0m   \u001b[0;32mif\u001b[0m \u001b[0mmes\u001b[0m \u001b[0;34m>\u001b[0m \u001b[0;36m1\u001b[0m\u001b[0;34m:\u001b[0m\u001b[0;34m\u001b[0m\u001b[0;34m\u001b[0m\u001b[0m\n\u001b[0;32m----> 7\u001b[0;31m     \u001b[0mret\u001b[0m \u001b[0;34m=\u001b[0m \u001b[0mcantConejos\u001b[0m\u001b[0;34m(\u001b[0m\u001b[0mmes\u001b[0m\u001b[0;34m-\u001b[0m\u001b[0;36m1\u001b[0m\u001b[0;34m)\u001b[0m \u001b[0;34m+\u001b[0m \u001b[0mcantConejos\u001b[0m\u001b[0;34m(\u001b[0m\u001b[0mmes\u001b[0m\u001b[0;34m-\u001b[0m\u001b[0;36m2\u001b[0m\u001b[0;34m)\u001b[0m\u001b[0;34m\u001b[0m\u001b[0;34m\u001b[0m\u001b[0m\n\u001b[0m\u001b[1;32m      8\u001b[0m   \u001b[0;32mreturn\u001b[0m \u001b[0mret\u001b[0m\u001b[0;34m\u001b[0m\u001b[0;34m\u001b[0m\u001b[0m\n\u001b[1;32m      9\u001b[0m \u001b[0;34m\u001b[0m\u001b[0m\n",
            "\u001b[0;32m/tmp/ipython-input-3300144082.py\u001b[0m in \u001b[0;36mcantConejos\u001b[0;34m(mes)\u001b[0m\n\u001b[1;32m      5\u001b[0m     \u001b[0mret\u001b[0m \u001b[0;34m=\u001b[0m \u001b[0;36m1\u001b[0m\u001b[0;34m\u001b[0m\u001b[0;34m\u001b[0m\u001b[0m\n\u001b[1;32m      6\u001b[0m   \u001b[0;32mif\u001b[0m \u001b[0mmes\u001b[0m \u001b[0;34m>\u001b[0m \u001b[0;36m1\u001b[0m\u001b[0;34m:\u001b[0m\u001b[0;34m\u001b[0m\u001b[0;34m\u001b[0m\u001b[0m\n\u001b[0;32m----> 7\u001b[0;31m     \u001b[0mret\u001b[0m \u001b[0;34m=\u001b[0m \u001b[0mcantConejos\u001b[0m\u001b[0;34m(\u001b[0m\u001b[0mmes\u001b[0m\u001b[0;34m-\u001b[0m\u001b[0;36m1\u001b[0m\u001b[0;34m)\u001b[0m \u001b[0;34m+\u001b[0m \u001b[0mcantConejos\u001b[0m\u001b[0;34m(\u001b[0m\u001b[0mmes\u001b[0m\u001b[0;34m-\u001b[0m\u001b[0;36m2\u001b[0m\u001b[0;34m)\u001b[0m\u001b[0;34m\u001b[0m\u001b[0;34m\u001b[0m\u001b[0m\n\u001b[0m\u001b[1;32m      8\u001b[0m   \u001b[0;32mreturn\u001b[0m \u001b[0mret\u001b[0m\u001b[0;34m\u001b[0m\u001b[0;34m\u001b[0m\u001b[0m\n\u001b[1;32m      9\u001b[0m \u001b[0;34m\u001b[0m\u001b[0m\n",
            "\u001b[0;32m/tmp/ipython-input-3300144082.py\u001b[0m in \u001b[0;36mcantConejos\u001b[0;34m(mes)\u001b[0m\n\u001b[1;32m      5\u001b[0m     \u001b[0mret\u001b[0m \u001b[0;34m=\u001b[0m \u001b[0;36m1\u001b[0m\u001b[0;34m\u001b[0m\u001b[0;34m\u001b[0m\u001b[0m\n\u001b[1;32m      6\u001b[0m   \u001b[0;32mif\u001b[0m \u001b[0mmes\u001b[0m \u001b[0;34m>\u001b[0m \u001b[0;36m1\u001b[0m\u001b[0;34m:\u001b[0m\u001b[0;34m\u001b[0m\u001b[0;34m\u001b[0m\u001b[0m\n\u001b[0;32m----> 7\u001b[0;31m     \u001b[0mret\u001b[0m \u001b[0;34m=\u001b[0m \u001b[0mcantConejos\u001b[0m\u001b[0;34m(\u001b[0m\u001b[0mmes\u001b[0m\u001b[0;34m-\u001b[0m\u001b[0;36m1\u001b[0m\u001b[0;34m)\u001b[0m \u001b[0;34m+\u001b[0m \u001b[0mcantConejos\u001b[0m\u001b[0;34m(\u001b[0m\u001b[0mmes\u001b[0m\u001b[0;34m-\u001b[0m\u001b[0;36m2\u001b[0m\u001b[0;34m)\u001b[0m\u001b[0;34m\u001b[0m\u001b[0;34m\u001b[0m\u001b[0m\n\u001b[0m\u001b[1;32m      8\u001b[0m   \u001b[0;32mreturn\u001b[0m \u001b[0mret\u001b[0m\u001b[0;34m\u001b[0m\u001b[0;34m\u001b[0m\u001b[0m\n\u001b[1;32m      9\u001b[0m \u001b[0;34m\u001b[0m\u001b[0m\n",
            "\u001b[0;32m/tmp/ipython-input-3300144082.py\u001b[0m in \u001b[0;36mcantConejos\u001b[0;34m(mes)\u001b[0m\n\u001b[1;32m      5\u001b[0m     \u001b[0mret\u001b[0m \u001b[0;34m=\u001b[0m \u001b[0;36m1\u001b[0m\u001b[0;34m\u001b[0m\u001b[0;34m\u001b[0m\u001b[0m\n\u001b[1;32m      6\u001b[0m   \u001b[0;32mif\u001b[0m \u001b[0mmes\u001b[0m \u001b[0;34m>\u001b[0m \u001b[0;36m1\u001b[0m\u001b[0;34m:\u001b[0m\u001b[0;34m\u001b[0m\u001b[0;34m\u001b[0m\u001b[0m\n\u001b[0;32m----> 7\u001b[0;31m     \u001b[0mret\u001b[0m \u001b[0;34m=\u001b[0m \u001b[0mcantConejos\u001b[0m\u001b[0;34m(\u001b[0m\u001b[0mmes\u001b[0m\u001b[0;34m-\u001b[0m\u001b[0;36m1\u001b[0m\u001b[0;34m)\u001b[0m \u001b[0;34m+\u001b[0m \u001b[0mcantConejos\u001b[0m\u001b[0;34m(\u001b[0m\u001b[0mmes\u001b[0m\u001b[0;34m-\u001b[0m\u001b[0;36m2\u001b[0m\u001b[0;34m)\u001b[0m\u001b[0;34m\u001b[0m\u001b[0;34m\u001b[0m\u001b[0m\n\u001b[0m\u001b[1;32m      8\u001b[0m   \u001b[0;32mreturn\u001b[0m \u001b[0mret\u001b[0m\u001b[0;34m\u001b[0m\u001b[0;34m\u001b[0m\u001b[0m\n\u001b[1;32m      9\u001b[0m \u001b[0;34m\u001b[0m\u001b[0m\n",
            "\u001b[0;32m/tmp/ipython-input-3300144082.py\u001b[0m in \u001b[0;36mcantConejos\u001b[0;34m(mes)\u001b[0m\n\u001b[1;32m      5\u001b[0m     \u001b[0mret\u001b[0m \u001b[0;34m=\u001b[0m \u001b[0;36m1\u001b[0m\u001b[0;34m\u001b[0m\u001b[0;34m\u001b[0m\u001b[0m\n\u001b[1;32m      6\u001b[0m   \u001b[0;32mif\u001b[0m \u001b[0mmes\u001b[0m \u001b[0;34m>\u001b[0m \u001b[0;36m1\u001b[0m\u001b[0;34m:\u001b[0m\u001b[0;34m\u001b[0m\u001b[0;34m\u001b[0m\u001b[0m\n\u001b[0;32m----> 7\u001b[0;31m     \u001b[0mret\u001b[0m \u001b[0;34m=\u001b[0m \u001b[0mcantConejos\u001b[0m\u001b[0;34m(\u001b[0m\u001b[0mmes\u001b[0m\u001b[0;34m-\u001b[0m\u001b[0;36m1\u001b[0m\u001b[0;34m)\u001b[0m \u001b[0;34m+\u001b[0m \u001b[0mcantConejos\u001b[0m\u001b[0;34m(\u001b[0m\u001b[0mmes\u001b[0m\u001b[0;34m-\u001b[0m\u001b[0;36m2\u001b[0m\u001b[0;34m)\u001b[0m\u001b[0;34m\u001b[0m\u001b[0;34m\u001b[0m\u001b[0m\n\u001b[0m\u001b[1;32m      8\u001b[0m   \u001b[0;32mreturn\u001b[0m \u001b[0mret\u001b[0m\u001b[0;34m\u001b[0m\u001b[0;34m\u001b[0m\u001b[0m\n\u001b[1;32m      9\u001b[0m \u001b[0;34m\u001b[0m\u001b[0m\n",
            "\u001b[0;32m/tmp/ipython-input-3300144082.py\u001b[0m in \u001b[0;36mcantConejos\u001b[0;34m(mes)\u001b[0m\n\u001b[1;32m      5\u001b[0m     \u001b[0mret\u001b[0m \u001b[0;34m=\u001b[0m \u001b[0;36m1\u001b[0m\u001b[0;34m\u001b[0m\u001b[0;34m\u001b[0m\u001b[0m\n\u001b[1;32m      6\u001b[0m   \u001b[0;32mif\u001b[0m \u001b[0mmes\u001b[0m \u001b[0;34m>\u001b[0m \u001b[0;36m1\u001b[0m\u001b[0;34m:\u001b[0m\u001b[0;34m\u001b[0m\u001b[0;34m\u001b[0m\u001b[0m\n\u001b[0;32m----> 7\u001b[0;31m     \u001b[0mret\u001b[0m \u001b[0;34m=\u001b[0m \u001b[0mcantConejos\u001b[0m\u001b[0;34m(\u001b[0m\u001b[0mmes\u001b[0m\u001b[0;34m-\u001b[0m\u001b[0;36m1\u001b[0m\u001b[0;34m)\u001b[0m \u001b[0;34m+\u001b[0m \u001b[0mcantConejos\u001b[0m\u001b[0;34m(\u001b[0m\u001b[0mmes\u001b[0m\u001b[0;34m-\u001b[0m\u001b[0;36m2\u001b[0m\u001b[0;34m)\u001b[0m\u001b[0;34m\u001b[0m\u001b[0;34m\u001b[0m\u001b[0m\n\u001b[0m\u001b[1;32m      8\u001b[0m   \u001b[0;32mreturn\u001b[0m \u001b[0mret\u001b[0m\u001b[0;34m\u001b[0m\u001b[0;34m\u001b[0m\u001b[0m\n\u001b[1;32m      9\u001b[0m \u001b[0;34m\u001b[0m\u001b[0m\n",
            "\u001b[0;32m/tmp/ipython-input-3300144082.py\u001b[0m in \u001b[0;36mcantConejos\u001b[0;34m(mes)\u001b[0m\n\u001b[1;32m      5\u001b[0m     \u001b[0mret\u001b[0m \u001b[0;34m=\u001b[0m \u001b[0;36m1\u001b[0m\u001b[0;34m\u001b[0m\u001b[0;34m\u001b[0m\u001b[0m\n\u001b[1;32m      6\u001b[0m   \u001b[0;32mif\u001b[0m \u001b[0mmes\u001b[0m \u001b[0;34m>\u001b[0m \u001b[0;36m1\u001b[0m\u001b[0;34m:\u001b[0m\u001b[0;34m\u001b[0m\u001b[0;34m\u001b[0m\u001b[0m\n\u001b[0;32m----> 7\u001b[0;31m     \u001b[0mret\u001b[0m \u001b[0;34m=\u001b[0m \u001b[0mcantConejos\u001b[0m\u001b[0;34m(\u001b[0m\u001b[0mmes\u001b[0m\u001b[0;34m-\u001b[0m\u001b[0;36m1\u001b[0m\u001b[0;34m)\u001b[0m \u001b[0;34m+\u001b[0m \u001b[0mcantConejos\u001b[0m\u001b[0;34m(\u001b[0m\u001b[0mmes\u001b[0m\u001b[0;34m-\u001b[0m\u001b[0;36m2\u001b[0m\u001b[0;34m)\u001b[0m\u001b[0;34m\u001b[0m\u001b[0;34m\u001b[0m\u001b[0m\n\u001b[0m\u001b[1;32m      8\u001b[0m   \u001b[0;32mreturn\u001b[0m \u001b[0mret\u001b[0m\u001b[0;34m\u001b[0m\u001b[0;34m\u001b[0m\u001b[0m\n\u001b[1;32m      9\u001b[0m \u001b[0;34m\u001b[0m\u001b[0m\n",
            "\u001b[0;32m/tmp/ipython-input-3300144082.py\u001b[0m in \u001b[0;36mcantConejos\u001b[0;34m(mes)\u001b[0m\n\u001b[1;32m      5\u001b[0m     \u001b[0mret\u001b[0m \u001b[0;34m=\u001b[0m \u001b[0;36m1\u001b[0m\u001b[0;34m\u001b[0m\u001b[0;34m\u001b[0m\u001b[0m\n\u001b[1;32m      6\u001b[0m   \u001b[0;32mif\u001b[0m \u001b[0mmes\u001b[0m \u001b[0;34m>\u001b[0m \u001b[0;36m1\u001b[0m\u001b[0;34m:\u001b[0m\u001b[0;34m\u001b[0m\u001b[0;34m\u001b[0m\u001b[0m\n\u001b[0;32m----> 7\u001b[0;31m     \u001b[0mret\u001b[0m \u001b[0;34m=\u001b[0m \u001b[0mcantConejos\u001b[0m\u001b[0;34m(\u001b[0m\u001b[0mmes\u001b[0m\u001b[0;34m-\u001b[0m\u001b[0;36m1\u001b[0m\u001b[0;34m)\u001b[0m \u001b[0;34m+\u001b[0m \u001b[0mcantConejos\u001b[0m\u001b[0;34m(\u001b[0m\u001b[0mmes\u001b[0m\u001b[0;34m-\u001b[0m\u001b[0;36m2\u001b[0m\u001b[0;34m)\u001b[0m\u001b[0;34m\u001b[0m\u001b[0;34m\u001b[0m\u001b[0m\n\u001b[0m\u001b[1;32m      8\u001b[0m   \u001b[0;32mreturn\u001b[0m \u001b[0mret\u001b[0m\u001b[0;34m\u001b[0m\u001b[0;34m\u001b[0m\u001b[0m\n\u001b[1;32m      9\u001b[0m \u001b[0;34m\u001b[0m\u001b[0m\n",
            "\u001b[0;32m/tmp/ipython-input-3300144082.py\u001b[0m in \u001b[0;36mcantConejos\u001b[0;34m(mes)\u001b[0m\n\u001b[1;32m      5\u001b[0m     \u001b[0mret\u001b[0m \u001b[0;34m=\u001b[0m \u001b[0;36m1\u001b[0m\u001b[0;34m\u001b[0m\u001b[0;34m\u001b[0m\u001b[0m\n\u001b[1;32m      6\u001b[0m   \u001b[0;32mif\u001b[0m \u001b[0mmes\u001b[0m \u001b[0;34m>\u001b[0m \u001b[0;36m1\u001b[0m\u001b[0;34m:\u001b[0m\u001b[0;34m\u001b[0m\u001b[0;34m\u001b[0m\u001b[0m\n\u001b[0;32m----> 7\u001b[0;31m     \u001b[0mret\u001b[0m \u001b[0;34m=\u001b[0m \u001b[0mcantConejos\u001b[0m\u001b[0;34m(\u001b[0m\u001b[0mmes\u001b[0m\u001b[0;34m-\u001b[0m\u001b[0;36m1\u001b[0m\u001b[0;34m)\u001b[0m \u001b[0;34m+\u001b[0m \u001b[0mcantConejos\u001b[0m\u001b[0;34m(\u001b[0m\u001b[0mmes\u001b[0m\u001b[0;34m-\u001b[0m\u001b[0;36m2\u001b[0m\u001b[0;34m)\u001b[0m\u001b[0;34m\u001b[0m\u001b[0;34m\u001b[0m\u001b[0m\n\u001b[0m\u001b[1;32m      8\u001b[0m   \u001b[0;32mreturn\u001b[0m \u001b[0mret\u001b[0m\u001b[0;34m\u001b[0m\u001b[0;34m\u001b[0m\u001b[0m\n\u001b[1;32m      9\u001b[0m \u001b[0;34m\u001b[0m\u001b[0m\n",
            "\u001b[0;32m/tmp/ipython-input-3300144082.py\u001b[0m in \u001b[0;36mcantConejos\u001b[0;34m(mes)\u001b[0m\n\u001b[1;32m      5\u001b[0m     \u001b[0mret\u001b[0m \u001b[0;34m=\u001b[0m \u001b[0;36m1\u001b[0m\u001b[0;34m\u001b[0m\u001b[0;34m\u001b[0m\u001b[0m\n\u001b[1;32m      6\u001b[0m   \u001b[0;32mif\u001b[0m \u001b[0mmes\u001b[0m \u001b[0;34m>\u001b[0m \u001b[0;36m1\u001b[0m\u001b[0;34m:\u001b[0m\u001b[0;34m\u001b[0m\u001b[0;34m\u001b[0m\u001b[0m\n\u001b[0;32m----> 7\u001b[0;31m     \u001b[0mret\u001b[0m \u001b[0;34m=\u001b[0m \u001b[0mcantConejos\u001b[0m\u001b[0;34m(\u001b[0m\u001b[0mmes\u001b[0m\u001b[0;34m-\u001b[0m\u001b[0;36m1\u001b[0m\u001b[0;34m)\u001b[0m \u001b[0;34m+\u001b[0m \u001b[0mcantConejos\u001b[0m\u001b[0;34m(\u001b[0m\u001b[0mmes\u001b[0m\u001b[0;34m-\u001b[0m\u001b[0;36m2\u001b[0m\u001b[0;34m)\u001b[0m\u001b[0;34m\u001b[0m\u001b[0;34m\u001b[0m\u001b[0m\n\u001b[0m\u001b[1;32m      8\u001b[0m   \u001b[0;32mreturn\u001b[0m \u001b[0mret\u001b[0m\u001b[0;34m\u001b[0m\u001b[0;34m\u001b[0m\u001b[0m\n\u001b[1;32m      9\u001b[0m \u001b[0;34m\u001b[0m\u001b[0m\n",
            "\u001b[0;32m/tmp/ipython-input-3300144082.py\u001b[0m in \u001b[0;36mcantConejos\u001b[0;34m(mes)\u001b[0m\n\u001b[1;32m      5\u001b[0m     \u001b[0mret\u001b[0m \u001b[0;34m=\u001b[0m \u001b[0;36m1\u001b[0m\u001b[0;34m\u001b[0m\u001b[0;34m\u001b[0m\u001b[0m\n\u001b[1;32m      6\u001b[0m   \u001b[0;32mif\u001b[0m \u001b[0mmes\u001b[0m \u001b[0;34m>\u001b[0m \u001b[0;36m1\u001b[0m\u001b[0;34m:\u001b[0m\u001b[0;34m\u001b[0m\u001b[0;34m\u001b[0m\u001b[0m\n\u001b[0;32m----> 7\u001b[0;31m     \u001b[0mret\u001b[0m \u001b[0;34m=\u001b[0m \u001b[0mcantConejos\u001b[0m\u001b[0;34m(\u001b[0m\u001b[0mmes\u001b[0m\u001b[0;34m-\u001b[0m\u001b[0;36m1\u001b[0m\u001b[0;34m)\u001b[0m \u001b[0;34m+\u001b[0m \u001b[0mcantConejos\u001b[0m\u001b[0;34m(\u001b[0m\u001b[0mmes\u001b[0m\u001b[0;34m-\u001b[0m\u001b[0;36m2\u001b[0m\u001b[0;34m)\u001b[0m\u001b[0;34m\u001b[0m\u001b[0;34m\u001b[0m\u001b[0m\n\u001b[0m\u001b[1;32m      8\u001b[0m   \u001b[0;32mreturn\u001b[0m \u001b[0mret\u001b[0m\u001b[0;34m\u001b[0m\u001b[0;34m\u001b[0m\u001b[0m\n\u001b[1;32m      9\u001b[0m \u001b[0;34m\u001b[0m\u001b[0m\n",
            "\u001b[0;32m/tmp/ipython-input-3300144082.py\u001b[0m in \u001b[0;36mcantConejos\u001b[0;34m(mes)\u001b[0m\n\u001b[1;32m      5\u001b[0m     \u001b[0mret\u001b[0m \u001b[0;34m=\u001b[0m \u001b[0;36m1\u001b[0m\u001b[0;34m\u001b[0m\u001b[0;34m\u001b[0m\u001b[0m\n\u001b[1;32m      6\u001b[0m   \u001b[0;32mif\u001b[0m \u001b[0mmes\u001b[0m \u001b[0;34m>\u001b[0m \u001b[0;36m1\u001b[0m\u001b[0;34m:\u001b[0m\u001b[0;34m\u001b[0m\u001b[0;34m\u001b[0m\u001b[0m\n\u001b[0;32m----> 7\u001b[0;31m     \u001b[0mret\u001b[0m \u001b[0;34m=\u001b[0m \u001b[0mcantConejos\u001b[0m\u001b[0;34m(\u001b[0m\u001b[0mmes\u001b[0m\u001b[0;34m-\u001b[0m\u001b[0;36m1\u001b[0m\u001b[0;34m)\u001b[0m \u001b[0;34m+\u001b[0m \u001b[0mcantConejos\u001b[0m\u001b[0;34m(\u001b[0m\u001b[0mmes\u001b[0m\u001b[0;34m-\u001b[0m\u001b[0;36m2\u001b[0m\u001b[0;34m)\u001b[0m\u001b[0;34m\u001b[0m\u001b[0;34m\u001b[0m\u001b[0m\n\u001b[0m\u001b[1;32m      8\u001b[0m   \u001b[0;32mreturn\u001b[0m \u001b[0mret\u001b[0m\u001b[0;34m\u001b[0m\u001b[0;34m\u001b[0m\u001b[0m\n\u001b[1;32m      9\u001b[0m \u001b[0;34m\u001b[0m\u001b[0m\n",
            "\u001b[0;32m/tmp/ipython-input-3300144082.py\u001b[0m in \u001b[0;36mcantConejos\u001b[0;34m(mes)\u001b[0m\n\u001b[1;32m      5\u001b[0m     \u001b[0mret\u001b[0m \u001b[0;34m=\u001b[0m \u001b[0;36m1\u001b[0m\u001b[0;34m\u001b[0m\u001b[0;34m\u001b[0m\u001b[0m\n\u001b[1;32m      6\u001b[0m   \u001b[0;32mif\u001b[0m \u001b[0mmes\u001b[0m \u001b[0;34m>\u001b[0m \u001b[0;36m1\u001b[0m\u001b[0;34m:\u001b[0m\u001b[0;34m\u001b[0m\u001b[0;34m\u001b[0m\u001b[0m\n\u001b[0;32m----> 7\u001b[0;31m     \u001b[0mret\u001b[0m \u001b[0;34m=\u001b[0m \u001b[0mcantConejos\u001b[0m\u001b[0;34m(\u001b[0m\u001b[0mmes\u001b[0m\u001b[0;34m-\u001b[0m\u001b[0;36m1\u001b[0m\u001b[0;34m)\u001b[0m \u001b[0;34m+\u001b[0m \u001b[0mcantConejos\u001b[0m\u001b[0;34m(\u001b[0m\u001b[0mmes\u001b[0m\u001b[0;34m-\u001b[0m\u001b[0;36m2\u001b[0m\u001b[0;34m)\u001b[0m\u001b[0;34m\u001b[0m\u001b[0;34m\u001b[0m\u001b[0m\n\u001b[0m\u001b[1;32m      8\u001b[0m   \u001b[0;32mreturn\u001b[0m \u001b[0mret\u001b[0m\u001b[0;34m\u001b[0m\u001b[0;34m\u001b[0m\u001b[0m\n\u001b[1;32m      9\u001b[0m \u001b[0;34m\u001b[0m\u001b[0m\n",
            "\u001b[0;32m/tmp/ipython-input-3300144082.py\u001b[0m in \u001b[0;36mcantConejos\u001b[0;34m(mes)\u001b[0m\n\u001b[1;32m      5\u001b[0m     \u001b[0mret\u001b[0m \u001b[0;34m=\u001b[0m \u001b[0;36m1\u001b[0m\u001b[0;34m\u001b[0m\u001b[0;34m\u001b[0m\u001b[0m\n\u001b[1;32m      6\u001b[0m   \u001b[0;32mif\u001b[0m \u001b[0mmes\u001b[0m \u001b[0;34m>\u001b[0m \u001b[0;36m1\u001b[0m\u001b[0;34m:\u001b[0m\u001b[0;34m\u001b[0m\u001b[0;34m\u001b[0m\u001b[0m\n\u001b[0;32m----> 7\u001b[0;31m     \u001b[0mret\u001b[0m \u001b[0;34m=\u001b[0m \u001b[0mcantConejos\u001b[0m\u001b[0;34m(\u001b[0m\u001b[0mmes\u001b[0m\u001b[0;34m-\u001b[0m\u001b[0;36m1\u001b[0m\u001b[0;34m)\u001b[0m \u001b[0;34m+\u001b[0m \u001b[0mcantConejos\u001b[0m\u001b[0;34m(\u001b[0m\u001b[0mmes\u001b[0m\u001b[0;34m-\u001b[0m\u001b[0;36m2\u001b[0m\u001b[0;34m)\u001b[0m\u001b[0;34m\u001b[0m\u001b[0;34m\u001b[0m\u001b[0m\n\u001b[0m\u001b[1;32m      8\u001b[0m   \u001b[0;32mreturn\u001b[0m \u001b[0mret\u001b[0m\u001b[0;34m\u001b[0m\u001b[0;34m\u001b[0m\u001b[0m\n\u001b[1;32m      9\u001b[0m \u001b[0;34m\u001b[0m\u001b[0m\n",
            "\u001b[0;32m/tmp/ipython-input-3300144082.py\u001b[0m in \u001b[0;36mcantConejos\u001b[0;34m(mes)\u001b[0m\n\u001b[1;32m      5\u001b[0m     \u001b[0mret\u001b[0m \u001b[0;34m=\u001b[0m \u001b[0;36m1\u001b[0m\u001b[0;34m\u001b[0m\u001b[0;34m\u001b[0m\u001b[0m\n\u001b[1;32m      6\u001b[0m   \u001b[0;32mif\u001b[0m \u001b[0mmes\u001b[0m \u001b[0;34m>\u001b[0m \u001b[0;36m1\u001b[0m\u001b[0;34m:\u001b[0m\u001b[0;34m\u001b[0m\u001b[0;34m\u001b[0m\u001b[0m\n\u001b[0;32m----> 7\u001b[0;31m     \u001b[0mret\u001b[0m \u001b[0;34m=\u001b[0m \u001b[0mcantConejos\u001b[0m\u001b[0;34m(\u001b[0m\u001b[0mmes\u001b[0m\u001b[0;34m-\u001b[0m\u001b[0;36m1\u001b[0m\u001b[0;34m)\u001b[0m \u001b[0;34m+\u001b[0m \u001b[0mcantConejos\u001b[0m\u001b[0;34m(\u001b[0m\u001b[0mmes\u001b[0m\u001b[0;34m-\u001b[0m\u001b[0;36m2\u001b[0m\u001b[0;34m)\u001b[0m\u001b[0;34m\u001b[0m\u001b[0;34m\u001b[0m\u001b[0m\n\u001b[0m\u001b[1;32m      8\u001b[0m   \u001b[0;32mreturn\u001b[0m \u001b[0mret\u001b[0m\u001b[0;34m\u001b[0m\u001b[0;34m\u001b[0m\u001b[0m\n\u001b[1;32m      9\u001b[0m \u001b[0;34m\u001b[0m\u001b[0m\n",
            "\u001b[0;32m/tmp/ipython-input-3300144082.py\u001b[0m in \u001b[0;36mcantConejos\u001b[0;34m(mes)\u001b[0m\n\u001b[1;32m      5\u001b[0m     \u001b[0mret\u001b[0m \u001b[0;34m=\u001b[0m \u001b[0;36m1\u001b[0m\u001b[0;34m\u001b[0m\u001b[0;34m\u001b[0m\u001b[0m\n\u001b[1;32m      6\u001b[0m   \u001b[0;32mif\u001b[0m \u001b[0mmes\u001b[0m \u001b[0;34m>\u001b[0m \u001b[0;36m1\u001b[0m\u001b[0;34m:\u001b[0m\u001b[0;34m\u001b[0m\u001b[0;34m\u001b[0m\u001b[0m\n\u001b[0;32m----> 7\u001b[0;31m     \u001b[0mret\u001b[0m \u001b[0;34m=\u001b[0m \u001b[0mcantConejos\u001b[0m\u001b[0;34m(\u001b[0m\u001b[0mmes\u001b[0m\u001b[0;34m-\u001b[0m\u001b[0;36m1\u001b[0m\u001b[0;34m)\u001b[0m \u001b[0;34m+\u001b[0m \u001b[0mcantConejos\u001b[0m\u001b[0;34m(\u001b[0m\u001b[0mmes\u001b[0m\u001b[0;34m-\u001b[0m\u001b[0;36m2\u001b[0m\u001b[0;34m)\u001b[0m\u001b[0;34m\u001b[0m\u001b[0;34m\u001b[0m\u001b[0m\n\u001b[0m\u001b[1;32m      8\u001b[0m   \u001b[0;32mreturn\u001b[0m \u001b[0mret\u001b[0m\u001b[0;34m\u001b[0m\u001b[0;34m\u001b[0m\u001b[0m\n\u001b[1;32m      9\u001b[0m \u001b[0;34m\u001b[0m\u001b[0m\n",
            "\u001b[0;32m/tmp/ipython-input-3300144082.py\u001b[0m in \u001b[0;36mcantConejos\u001b[0;34m(mes)\u001b[0m\n\u001b[1;32m      5\u001b[0m     \u001b[0mret\u001b[0m \u001b[0;34m=\u001b[0m \u001b[0;36m1\u001b[0m\u001b[0;34m\u001b[0m\u001b[0;34m\u001b[0m\u001b[0m\n\u001b[1;32m      6\u001b[0m   \u001b[0;32mif\u001b[0m \u001b[0mmes\u001b[0m \u001b[0;34m>\u001b[0m \u001b[0;36m1\u001b[0m\u001b[0;34m:\u001b[0m\u001b[0;34m\u001b[0m\u001b[0;34m\u001b[0m\u001b[0m\n\u001b[0;32m----> 7\u001b[0;31m     \u001b[0mret\u001b[0m \u001b[0;34m=\u001b[0m \u001b[0mcantConejos\u001b[0m\u001b[0;34m(\u001b[0m\u001b[0mmes\u001b[0m\u001b[0;34m-\u001b[0m\u001b[0;36m1\u001b[0m\u001b[0;34m)\u001b[0m \u001b[0;34m+\u001b[0m \u001b[0mcantConejos\u001b[0m\u001b[0;34m(\u001b[0m\u001b[0mmes\u001b[0m\u001b[0;34m-\u001b[0m\u001b[0;36m2\u001b[0m\u001b[0;34m)\u001b[0m\u001b[0;34m\u001b[0m\u001b[0;34m\u001b[0m\u001b[0m\n\u001b[0m\u001b[1;32m      8\u001b[0m   \u001b[0;32mreturn\u001b[0m \u001b[0mret\u001b[0m\u001b[0;34m\u001b[0m\u001b[0;34m\u001b[0m\u001b[0m\n\u001b[1;32m      9\u001b[0m \u001b[0;34m\u001b[0m\u001b[0m\n",
            "\u001b[0;32m/tmp/ipython-input-3300144082.py\u001b[0m in \u001b[0;36mcantConejos\u001b[0;34m(mes)\u001b[0m\n\u001b[1;32m      5\u001b[0m     \u001b[0mret\u001b[0m \u001b[0;34m=\u001b[0m \u001b[0;36m1\u001b[0m\u001b[0;34m\u001b[0m\u001b[0;34m\u001b[0m\u001b[0m\n\u001b[1;32m      6\u001b[0m   \u001b[0;32mif\u001b[0m \u001b[0mmes\u001b[0m \u001b[0;34m>\u001b[0m \u001b[0;36m1\u001b[0m\u001b[0;34m:\u001b[0m\u001b[0;34m\u001b[0m\u001b[0;34m\u001b[0m\u001b[0m\n\u001b[0;32m----> 7\u001b[0;31m     \u001b[0mret\u001b[0m \u001b[0;34m=\u001b[0m \u001b[0mcantConejos\u001b[0m\u001b[0;34m(\u001b[0m\u001b[0mmes\u001b[0m\u001b[0;34m-\u001b[0m\u001b[0;36m1\u001b[0m\u001b[0;34m)\u001b[0m \u001b[0;34m+\u001b[0m \u001b[0mcantConejos\u001b[0m\u001b[0;34m(\u001b[0m\u001b[0mmes\u001b[0m\u001b[0;34m-\u001b[0m\u001b[0;36m2\u001b[0m\u001b[0;34m)\u001b[0m\u001b[0;34m\u001b[0m\u001b[0;34m\u001b[0m\u001b[0m\n\u001b[0m\u001b[1;32m      8\u001b[0m   \u001b[0;32mreturn\u001b[0m \u001b[0mret\u001b[0m\u001b[0;34m\u001b[0m\u001b[0;34m\u001b[0m\u001b[0m\n\u001b[1;32m      9\u001b[0m \u001b[0;34m\u001b[0m\u001b[0m\n",
            "\u001b[0;32m/tmp/ipython-input-3300144082.py\u001b[0m in \u001b[0;36mcantConejos\u001b[0;34m(mes)\u001b[0m\n\u001b[1;32m      5\u001b[0m     \u001b[0mret\u001b[0m \u001b[0;34m=\u001b[0m \u001b[0;36m1\u001b[0m\u001b[0;34m\u001b[0m\u001b[0;34m\u001b[0m\u001b[0m\n\u001b[1;32m      6\u001b[0m   \u001b[0;32mif\u001b[0m \u001b[0mmes\u001b[0m \u001b[0;34m>\u001b[0m \u001b[0;36m1\u001b[0m\u001b[0;34m:\u001b[0m\u001b[0;34m\u001b[0m\u001b[0;34m\u001b[0m\u001b[0m\n\u001b[0;32m----> 7\u001b[0;31m     \u001b[0mret\u001b[0m \u001b[0;34m=\u001b[0m \u001b[0mcantConejos\u001b[0m\u001b[0;34m(\u001b[0m\u001b[0mmes\u001b[0m\u001b[0;34m-\u001b[0m\u001b[0;36m1\u001b[0m\u001b[0;34m)\u001b[0m \u001b[0;34m+\u001b[0m \u001b[0mcantConejos\u001b[0m\u001b[0;34m(\u001b[0m\u001b[0mmes\u001b[0m\u001b[0;34m-\u001b[0m\u001b[0;36m2\u001b[0m\u001b[0;34m)\u001b[0m\u001b[0;34m\u001b[0m\u001b[0;34m\u001b[0m\u001b[0m\n\u001b[0m\u001b[1;32m      8\u001b[0m   \u001b[0;32mreturn\u001b[0m \u001b[0mret\u001b[0m\u001b[0;34m\u001b[0m\u001b[0;34m\u001b[0m\u001b[0m\n\u001b[1;32m      9\u001b[0m \u001b[0;34m\u001b[0m\u001b[0m\n",
            "\u001b[0;32m/tmp/ipython-input-3300144082.py\u001b[0m in \u001b[0;36mcantConejos\u001b[0;34m(mes)\u001b[0m\n\u001b[1;32m      5\u001b[0m     \u001b[0mret\u001b[0m \u001b[0;34m=\u001b[0m \u001b[0;36m1\u001b[0m\u001b[0;34m\u001b[0m\u001b[0;34m\u001b[0m\u001b[0m\n\u001b[1;32m      6\u001b[0m   \u001b[0;32mif\u001b[0m \u001b[0mmes\u001b[0m \u001b[0;34m>\u001b[0m \u001b[0;36m1\u001b[0m\u001b[0;34m:\u001b[0m\u001b[0;34m\u001b[0m\u001b[0;34m\u001b[0m\u001b[0m\n\u001b[0;32m----> 7\u001b[0;31m     \u001b[0mret\u001b[0m \u001b[0;34m=\u001b[0m \u001b[0mcantConejos\u001b[0m\u001b[0;34m(\u001b[0m\u001b[0mmes\u001b[0m\u001b[0;34m-\u001b[0m\u001b[0;36m1\u001b[0m\u001b[0;34m)\u001b[0m \u001b[0;34m+\u001b[0m \u001b[0mcantConejos\u001b[0m\u001b[0;34m(\u001b[0m\u001b[0mmes\u001b[0m\u001b[0;34m-\u001b[0m\u001b[0;36m2\u001b[0m\u001b[0;34m)\u001b[0m\u001b[0;34m\u001b[0m\u001b[0;34m\u001b[0m\u001b[0m\n\u001b[0m\u001b[1;32m      8\u001b[0m   \u001b[0;32mreturn\u001b[0m \u001b[0mret\u001b[0m\u001b[0;34m\u001b[0m\u001b[0;34m\u001b[0m\u001b[0m\n\u001b[1;32m      9\u001b[0m \u001b[0;34m\u001b[0m\u001b[0m\n",
            "\u001b[0;32m/tmp/ipython-input-3300144082.py\u001b[0m in \u001b[0;36mcantConejos\u001b[0;34m(mes)\u001b[0m\n\u001b[1;32m      5\u001b[0m     \u001b[0mret\u001b[0m \u001b[0;34m=\u001b[0m \u001b[0;36m1\u001b[0m\u001b[0;34m\u001b[0m\u001b[0;34m\u001b[0m\u001b[0m\n\u001b[1;32m      6\u001b[0m   \u001b[0;32mif\u001b[0m \u001b[0mmes\u001b[0m \u001b[0;34m>\u001b[0m \u001b[0;36m1\u001b[0m\u001b[0;34m:\u001b[0m\u001b[0;34m\u001b[0m\u001b[0;34m\u001b[0m\u001b[0m\n\u001b[0;32m----> 7\u001b[0;31m     \u001b[0mret\u001b[0m \u001b[0;34m=\u001b[0m \u001b[0mcantConejos\u001b[0m\u001b[0;34m(\u001b[0m\u001b[0mmes\u001b[0m\u001b[0;34m-\u001b[0m\u001b[0;36m1\u001b[0m\u001b[0;34m)\u001b[0m \u001b[0;34m+\u001b[0m \u001b[0mcantConejos\u001b[0m\u001b[0;34m(\u001b[0m\u001b[0mmes\u001b[0m\u001b[0;34m-\u001b[0m\u001b[0;36m2\u001b[0m\u001b[0;34m)\u001b[0m\u001b[0;34m\u001b[0m\u001b[0;34m\u001b[0m\u001b[0m\n\u001b[0m\u001b[1;32m      8\u001b[0m   \u001b[0;32mreturn\u001b[0m \u001b[0mret\u001b[0m\u001b[0;34m\u001b[0m\u001b[0;34m\u001b[0m\u001b[0m\n\u001b[1;32m      9\u001b[0m \u001b[0;34m\u001b[0m\u001b[0m\n",
            "\u001b[0;32m/tmp/ipython-input-3300144082.py\u001b[0m in \u001b[0;36mcantConejos\u001b[0;34m(mes)\u001b[0m\n\u001b[1;32m      5\u001b[0m     \u001b[0mret\u001b[0m \u001b[0;34m=\u001b[0m \u001b[0;36m1\u001b[0m\u001b[0;34m\u001b[0m\u001b[0;34m\u001b[0m\u001b[0m\n\u001b[1;32m      6\u001b[0m   \u001b[0;32mif\u001b[0m \u001b[0mmes\u001b[0m \u001b[0;34m>\u001b[0m \u001b[0;36m1\u001b[0m\u001b[0;34m:\u001b[0m\u001b[0;34m\u001b[0m\u001b[0;34m\u001b[0m\u001b[0m\n\u001b[0;32m----> 7\u001b[0;31m     \u001b[0mret\u001b[0m \u001b[0;34m=\u001b[0m \u001b[0mcantConejos\u001b[0m\u001b[0;34m(\u001b[0m\u001b[0mmes\u001b[0m\u001b[0;34m-\u001b[0m\u001b[0;36m1\u001b[0m\u001b[0;34m)\u001b[0m \u001b[0;34m+\u001b[0m \u001b[0mcantConejos\u001b[0m\u001b[0;34m(\u001b[0m\u001b[0mmes\u001b[0m\u001b[0;34m-\u001b[0m\u001b[0;36m2\u001b[0m\u001b[0;34m)\u001b[0m\u001b[0;34m\u001b[0m\u001b[0;34m\u001b[0m\u001b[0m\n\u001b[0m\u001b[1;32m      8\u001b[0m   \u001b[0;32mreturn\u001b[0m \u001b[0mret\u001b[0m\u001b[0;34m\u001b[0m\u001b[0;34m\u001b[0m\u001b[0m\n\u001b[1;32m      9\u001b[0m \u001b[0;34m\u001b[0m\u001b[0m\n",
            "\u001b[0;32m/tmp/ipython-input-3300144082.py\u001b[0m in \u001b[0;36mcantConejos\u001b[0;34m(mes)\u001b[0m\n\u001b[1;32m      5\u001b[0m     \u001b[0mret\u001b[0m \u001b[0;34m=\u001b[0m \u001b[0;36m1\u001b[0m\u001b[0;34m\u001b[0m\u001b[0;34m\u001b[0m\u001b[0m\n\u001b[1;32m      6\u001b[0m   \u001b[0;32mif\u001b[0m \u001b[0mmes\u001b[0m \u001b[0;34m>\u001b[0m \u001b[0;36m1\u001b[0m\u001b[0;34m:\u001b[0m\u001b[0;34m\u001b[0m\u001b[0;34m\u001b[0m\u001b[0m\n\u001b[0;32m----> 7\u001b[0;31m     \u001b[0mret\u001b[0m \u001b[0;34m=\u001b[0m \u001b[0mcantConejos\u001b[0m\u001b[0;34m(\u001b[0m\u001b[0mmes\u001b[0m\u001b[0;34m-\u001b[0m\u001b[0;36m1\u001b[0m\u001b[0;34m)\u001b[0m \u001b[0;34m+\u001b[0m \u001b[0mcantConejos\u001b[0m\u001b[0;34m(\u001b[0m\u001b[0mmes\u001b[0m\u001b[0;34m-\u001b[0m\u001b[0;36m2\u001b[0m\u001b[0;34m)\u001b[0m\u001b[0;34m\u001b[0m\u001b[0;34m\u001b[0m\u001b[0m\n\u001b[0m\u001b[1;32m      8\u001b[0m   \u001b[0;32mreturn\u001b[0m \u001b[0mret\u001b[0m\u001b[0;34m\u001b[0m\u001b[0;34m\u001b[0m\u001b[0m\n\u001b[1;32m      9\u001b[0m \u001b[0;34m\u001b[0m\u001b[0m\n",
            "\u001b[0;32m/tmp/ipython-input-3300144082.py\u001b[0m in \u001b[0;36mcantConejos\u001b[0;34m(mes)\u001b[0m\n\u001b[1;32m      5\u001b[0m     \u001b[0mret\u001b[0m \u001b[0;34m=\u001b[0m \u001b[0;36m1\u001b[0m\u001b[0;34m\u001b[0m\u001b[0;34m\u001b[0m\u001b[0m\n\u001b[1;32m      6\u001b[0m   \u001b[0;32mif\u001b[0m \u001b[0mmes\u001b[0m \u001b[0;34m>\u001b[0m \u001b[0;36m1\u001b[0m\u001b[0;34m:\u001b[0m\u001b[0;34m\u001b[0m\u001b[0;34m\u001b[0m\u001b[0m\n\u001b[0;32m----> 7\u001b[0;31m     \u001b[0mret\u001b[0m \u001b[0;34m=\u001b[0m \u001b[0mcantConejos\u001b[0m\u001b[0;34m(\u001b[0m\u001b[0mmes\u001b[0m\u001b[0;34m-\u001b[0m\u001b[0;36m1\u001b[0m\u001b[0;34m)\u001b[0m \u001b[0;34m+\u001b[0m \u001b[0mcantConejos\u001b[0m\u001b[0;34m(\u001b[0m\u001b[0mmes\u001b[0m\u001b[0;34m-\u001b[0m\u001b[0;36m2\u001b[0m\u001b[0;34m)\u001b[0m\u001b[0;34m\u001b[0m\u001b[0;34m\u001b[0m\u001b[0m\n\u001b[0m\u001b[1;32m      8\u001b[0m   \u001b[0;32mreturn\u001b[0m \u001b[0mret\u001b[0m\u001b[0;34m\u001b[0m\u001b[0;34m\u001b[0m\u001b[0m\n\u001b[1;32m      9\u001b[0m \u001b[0;34m\u001b[0m\u001b[0m\n",
            "\u001b[0;32m/tmp/ipython-input-3300144082.py\u001b[0m in \u001b[0;36mcantConejos\u001b[0;34m(mes)\u001b[0m\n\u001b[1;32m      5\u001b[0m     \u001b[0mret\u001b[0m \u001b[0;34m=\u001b[0m \u001b[0;36m1\u001b[0m\u001b[0;34m\u001b[0m\u001b[0;34m\u001b[0m\u001b[0m\n\u001b[1;32m      6\u001b[0m   \u001b[0;32mif\u001b[0m \u001b[0mmes\u001b[0m \u001b[0;34m>\u001b[0m \u001b[0;36m1\u001b[0m\u001b[0;34m:\u001b[0m\u001b[0;34m\u001b[0m\u001b[0;34m\u001b[0m\u001b[0m\n\u001b[0;32m----> 7\u001b[0;31m     \u001b[0mret\u001b[0m \u001b[0;34m=\u001b[0m \u001b[0mcantConejos\u001b[0m\u001b[0;34m(\u001b[0m\u001b[0mmes\u001b[0m\u001b[0;34m-\u001b[0m\u001b[0;36m1\u001b[0m\u001b[0;34m)\u001b[0m \u001b[0;34m+\u001b[0m \u001b[0mcantConejos\u001b[0m\u001b[0;34m(\u001b[0m\u001b[0mmes\u001b[0m\u001b[0;34m-\u001b[0m\u001b[0;36m2\u001b[0m\u001b[0;34m)\u001b[0m\u001b[0;34m\u001b[0m\u001b[0;34m\u001b[0m\u001b[0m\n\u001b[0m\u001b[1;32m      8\u001b[0m   \u001b[0;32mreturn\u001b[0m \u001b[0mret\u001b[0m\u001b[0;34m\u001b[0m\u001b[0;34m\u001b[0m\u001b[0m\n\u001b[1;32m      9\u001b[0m \u001b[0;34m\u001b[0m\u001b[0m\n",
            "\u001b[0;32m/tmp/ipython-input-3300144082.py\u001b[0m in \u001b[0;36mcantConejos\u001b[0;34m(mes)\u001b[0m\n\u001b[1;32m      5\u001b[0m     \u001b[0mret\u001b[0m \u001b[0;34m=\u001b[0m \u001b[0;36m1\u001b[0m\u001b[0;34m\u001b[0m\u001b[0;34m\u001b[0m\u001b[0m\n\u001b[1;32m      6\u001b[0m   \u001b[0;32mif\u001b[0m \u001b[0mmes\u001b[0m \u001b[0;34m>\u001b[0m \u001b[0;36m1\u001b[0m\u001b[0;34m:\u001b[0m\u001b[0;34m\u001b[0m\u001b[0;34m\u001b[0m\u001b[0m\n\u001b[0;32m----> 7\u001b[0;31m     \u001b[0mret\u001b[0m \u001b[0;34m=\u001b[0m \u001b[0mcantConejos\u001b[0m\u001b[0;34m(\u001b[0m\u001b[0mmes\u001b[0m\u001b[0;34m-\u001b[0m\u001b[0;36m1\u001b[0m\u001b[0;34m)\u001b[0m \u001b[0;34m+\u001b[0m \u001b[0mcantConejos\u001b[0m\u001b[0;34m(\u001b[0m\u001b[0mmes\u001b[0m\u001b[0;34m-\u001b[0m\u001b[0;36m2\u001b[0m\u001b[0;34m)\u001b[0m\u001b[0;34m\u001b[0m\u001b[0;34m\u001b[0m\u001b[0m\n\u001b[0m\u001b[1;32m      8\u001b[0m   \u001b[0;32mreturn\u001b[0m \u001b[0mret\u001b[0m\u001b[0;34m\u001b[0m\u001b[0;34m\u001b[0m\u001b[0m\n\u001b[1;32m      9\u001b[0m \u001b[0;34m\u001b[0m\u001b[0m\n",
            "\u001b[0;32m/tmp/ipython-input-3300144082.py\u001b[0m in \u001b[0;36mcantConejos\u001b[0;34m(mes)\u001b[0m\n\u001b[1;32m      5\u001b[0m     \u001b[0mret\u001b[0m \u001b[0;34m=\u001b[0m \u001b[0;36m1\u001b[0m\u001b[0;34m\u001b[0m\u001b[0;34m\u001b[0m\u001b[0m\n\u001b[1;32m      6\u001b[0m   \u001b[0;32mif\u001b[0m \u001b[0mmes\u001b[0m \u001b[0;34m>\u001b[0m \u001b[0;36m1\u001b[0m\u001b[0;34m:\u001b[0m\u001b[0;34m\u001b[0m\u001b[0;34m\u001b[0m\u001b[0m\n\u001b[0;32m----> 7\u001b[0;31m     \u001b[0mret\u001b[0m \u001b[0;34m=\u001b[0m \u001b[0mcantConejos\u001b[0m\u001b[0;34m(\u001b[0m\u001b[0mmes\u001b[0m\u001b[0;34m-\u001b[0m\u001b[0;36m1\u001b[0m\u001b[0;34m)\u001b[0m \u001b[0;34m+\u001b[0m \u001b[0mcantConejos\u001b[0m\u001b[0;34m(\u001b[0m\u001b[0mmes\u001b[0m\u001b[0;34m-\u001b[0m\u001b[0;36m2\u001b[0m\u001b[0;34m)\u001b[0m\u001b[0;34m\u001b[0m\u001b[0;34m\u001b[0m\u001b[0m\n\u001b[0m\u001b[1;32m      8\u001b[0m   \u001b[0;32mreturn\u001b[0m \u001b[0mret\u001b[0m\u001b[0;34m\u001b[0m\u001b[0;34m\u001b[0m\u001b[0m\n\u001b[1;32m      9\u001b[0m \u001b[0;34m\u001b[0m\u001b[0m\n",
            "\u001b[0;32m/tmp/ipython-input-3300144082.py\u001b[0m in \u001b[0;36mcantConejos\u001b[0;34m(mes)\u001b[0m\n\u001b[1;32m      5\u001b[0m     \u001b[0mret\u001b[0m \u001b[0;34m=\u001b[0m \u001b[0;36m1\u001b[0m\u001b[0;34m\u001b[0m\u001b[0;34m\u001b[0m\u001b[0m\n\u001b[1;32m      6\u001b[0m   \u001b[0;32mif\u001b[0m \u001b[0mmes\u001b[0m \u001b[0;34m>\u001b[0m \u001b[0;36m1\u001b[0m\u001b[0;34m:\u001b[0m\u001b[0;34m\u001b[0m\u001b[0;34m\u001b[0m\u001b[0m\n\u001b[0;32m----> 7\u001b[0;31m     \u001b[0mret\u001b[0m \u001b[0;34m=\u001b[0m \u001b[0mcantConejos\u001b[0m\u001b[0;34m(\u001b[0m\u001b[0mmes\u001b[0m\u001b[0;34m-\u001b[0m\u001b[0;36m1\u001b[0m\u001b[0;34m)\u001b[0m \u001b[0;34m+\u001b[0m \u001b[0mcantConejos\u001b[0m\u001b[0;34m(\u001b[0m\u001b[0mmes\u001b[0m\u001b[0;34m-\u001b[0m\u001b[0;36m2\u001b[0m\u001b[0;34m)\u001b[0m\u001b[0;34m\u001b[0m\u001b[0;34m\u001b[0m\u001b[0m\n\u001b[0m\u001b[1;32m      8\u001b[0m   \u001b[0;32mreturn\u001b[0m \u001b[0mret\u001b[0m\u001b[0;34m\u001b[0m\u001b[0;34m\u001b[0m\u001b[0m\n\u001b[1;32m      9\u001b[0m \u001b[0;34m\u001b[0m\u001b[0m\n",
            "\u001b[0;32m/tmp/ipython-input-3300144082.py\u001b[0m in \u001b[0;36mcantConejos\u001b[0;34m(mes)\u001b[0m\n\u001b[1;32m      5\u001b[0m     \u001b[0mret\u001b[0m \u001b[0;34m=\u001b[0m \u001b[0;36m1\u001b[0m\u001b[0;34m\u001b[0m\u001b[0;34m\u001b[0m\u001b[0m\n\u001b[1;32m      6\u001b[0m   \u001b[0;32mif\u001b[0m \u001b[0mmes\u001b[0m \u001b[0;34m>\u001b[0m \u001b[0;36m1\u001b[0m\u001b[0;34m:\u001b[0m\u001b[0;34m\u001b[0m\u001b[0;34m\u001b[0m\u001b[0m\n\u001b[0;32m----> 7\u001b[0;31m     \u001b[0mret\u001b[0m \u001b[0;34m=\u001b[0m \u001b[0mcantConejos\u001b[0m\u001b[0;34m(\u001b[0m\u001b[0mmes\u001b[0m\u001b[0;34m-\u001b[0m\u001b[0;36m1\u001b[0m\u001b[0;34m)\u001b[0m \u001b[0;34m+\u001b[0m \u001b[0mcantConejos\u001b[0m\u001b[0;34m(\u001b[0m\u001b[0mmes\u001b[0m\u001b[0;34m-\u001b[0m\u001b[0;36m2\u001b[0m\u001b[0;34m)\u001b[0m\u001b[0;34m\u001b[0m\u001b[0;34m\u001b[0m\u001b[0m\n\u001b[0m\u001b[1;32m      8\u001b[0m   \u001b[0;32mreturn\u001b[0m \u001b[0mret\u001b[0m\u001b[0;34m\u001b[0m\u001b[0;34m\u001b[0m\u001b[0m\n\u001b[1;32m      9\u001b[0m \u001b[0;34m\u001b[0m\u001b[0m\n",
            "\u001b[0;32m/tmp/ipython-input-3300144082.py\u001b[0m in \u001b[0;36mcantConejos\u001b[0;34m(mes)\u001b[0m\n\u001b[1;32m      5\u001b[0m     \u001b[0mret\u001b[0m \u001b[0;34m=\u001b[0m \u001b[0;36m1\u001b[0m\u001b[0;34m\u001b[0m\u001b[0;34m\u001b[0m\u001b[0m\n\u001b[1;32m      6\u001b[0m   \u001b[0;32mif\u001b[0m \u001b[0mmes\u001b[0m \u001b[0;34m>\u001b[0m \u001b[0;36m1\u001b[0m\u001b[0;34m:\u001b[0m\u001b[0;34m\u001b[0m\u001b[0;34m\u001b[0m\u001b[0m\n\u001b[0;32m----> 7\u001b[0;31m     \u001b[0mret\u001b[0m \u001b[0;34m=\u001b[0m \u001b[0mcantConejos\u001b[0m\u001b[0;34m(\u001b[0m\u001b[0mmes\u001b[0m\u001b[0;34m-\u001b[0m\u001b[0;36m1\u001b[0m\u001b[0;34m)\u001b[0m \u001b[0;34m+\u001b[0m \u001b[0mcantConejos\u001b[0m\u001b[0;34m(\u001b[0m\u001b[0mmes\u001b[0m\u001b[0;34m-\u001b[0m\u001b[0;36m2\u001b[0m\u001b[0;34m)\u001b[0m\u001b[0;34m\u001b[0m\u001b[0;34m\u001b[0m\u001b[0m\n\u001b[0m\u001b[1;32m      8\u001b[0m   \u001b[0;32mreturn\u001b[0m \u001b[0mret\u001b[0m\u001b[0;34m\u001b[0m\u001b[0;34m\u001b[0m\u001b[0m\n\u001b[1;32m      9\u001b[0m \u001b[0;34m\u001b[0m\u001b[0m\n",
            "\u001b[0;32m/tmp/ipython-input-3300144082.py\u001b[0m in \u001b[0;36mcantConejos\u001b[0;34m(mes)\u001b[0m\n\u001b[1;32m      5\u001b[0m     \u001b[0mret\u001b[0m \u001b[0;34m=\u001b[0m \u001b[0;36m1\u001b[0m\u001b[0;34m\u001b[0m\u001b[0;34m\u001b[0m\u001b[0m\n\u001b[1;32m      6\u001b[0m   \u001b[0;32mif\u001b[0m \u001b[0mmes\u001b[0m \u001b[0;34m>\u001b[0m \u001b[0;36m1\u001b[0m\u001b[0;34m:\u001b[0m\u001b[0;34m\u001b[0m\u001b[0;34m\u001b[0m\u001b[0m\n\u001b[0;32m----> 7\u001b[0;31m     \u001b[0mret\u001b[0m \u001b[0;34m=\u001b[0m \u001b[0mcantConejos\u001b[0m\u001b[0;34m(\u001b[0m\u001b[0mmes\u001b[0m\u001b[0;34m-\u001b[0m\u001b[0;36m1\u001b[0m\u001b[0;34m)\u001b[0m \u001b[0;34m+\u001b[0m \u001b[0mcantConejos\u001b[0m\u001b[0;34m(\u001b[0m\u001b[0mmes\u001b[0m\u001b[0;34m-\u001b[0m\u001b[0;36m2\u001b[0m\u001b[0;34m)\u001b[0m\u001b[0;34m\u001b[0m\u001b[0;34m\u001b[0m\u001b[0m\n\u001b[0m\u001b[1;32m      8\u001b[0m   \u001b[0;32mreturn\u001b[0m \u001b[0mret\u001b[0m\u001b[0;34m\u001b[0m\u001b[0;34m\u001b[0m\u001b[0m\n\u001b[1;32m      9\u001b[0m \u001b[0;34m\u001b[0m\u001b[0m\n",
            "\u001b[0;32m/tmp/ipython-input-3300144082.py\u001b[0m in \u001b[0;36mcantConejos\u001b[0;34m(mes)\u001b[0m\n\u001b[1;32m      5\u001b[0m     \u001b[0mret\u001b[0m \u001b[0;34m=\u001b[0m \u001b[0;36m1\u001b[0m\u001b[0;34m\u001b[0m\u001b[0;34m\u001b[0m\u001b[0m\n\u001b[1;32m      6\u001b[0m   \u001b[0;32mif\u001b[0m \u001b[0mmes\u001b[0m \u001b[0;34m>\u001b[0m \u001b[0;36m1\u001b[0m\u001b[0;34m:\u001b[0m\u001b[0;34m\u001b[0m\u001b[0;34m\u001b[0m\u001b[0m\n\u001b[0;32m----> 7\u001b[0;31m     \u001b[0mret\u001b[0m \u001b[0;34m=\u001b[0m \u001b[0mcantConejos\u001b[0m\u001b[0;34m(\u001b[0m\u001b[0mmes\u001b[0m\u001b[0;34m-\u001b[0m\u001b[0;36m1\u001b[0m\u001b[0;34m)\u001b[0m \u001b[0;34m+\u001b[0m \u001b[0mcantConejos\u001b[0m\u001b[0;34m(\u001b[0m\u001b[0mmes\u001b[0m\u001b[0;34m-\u001b[0m\u001b[0;36m2\u001b[0m\u001b[0;34m)\u001b[0m\u001b[0;34m\u001b[0m\u001b[0;34m\u001b[0m\u001b[0m\n\u001b[0m\u001b[1;32m      8\u001b[0m   \u001b[0;32mreturn\u001b[0m \u001b[0mret\u001b[0m\u001b[0;34m\u001b[0m\u001b[0;34m\u001b[0m\u001b[0m\n\u001b[1;32m      9\u001b[0m \u001b[0;34m\u001b[0m\u001b[0m\n",
            "\u001b[0;32m/tmp/ipython-input-3300144082.py\u001b[0m in \u001b[0;36mcantConejos\u001b[0;34m(mes)\u001b[0m\n\u001b[1;32m      5\u001b[0m     \u001b[0mret\u001b[0m \u001b[0;34m=\u001b[0m \u001b[0;36m1\u001b[0m\u001b[0;34m\u001b[0m\u001b[0;34m\u001b[0m\u001b[0m\n\u001b[1;32m      6\u001b[0m   \u001b[0;32mif\u001b[0m \u001b[0mmes\u001b[0m \u001b[0;34m>\u001b[0m \u001b[0;36m1\u001b[0m\u001b[0;34m:\u001b[0m\u001b[0;34m\u001b[0m\u001b[0;34m\u001b[0m\u001b[0m\n\u001b[0;32m----> 7\u001b[0;31m     \u001b[0mret\u001b[0m \u001b[0;34m=\u001b[0m \u001b[0mcantConejos\u001b[0m\u001b[0;34m(\u001b[0m\u001b[0mmes\u001b[0m\u001b[0;34m-\u001b[0m\u001b[0;36m1\u001b[0m\u001b[0;34m)\u001b[0m \u001b[0;34m+\u001b[0m \u001b[0mcantConejos\u001b[0m\u001b[0;34m(\u001b[0m\u001b[0mmes\u001b[0m\u001b[0;34m-\u001b[0m\u001b[0;36m2\u001b[0m\u001b[0;34m)\u001b[0m\u001b[0;34m\u001b[0m\u001b[0;34m\u001b[0m\u001b[0m\n\u001b[0m\u001b[1;32m      8\u001b[0m   \u001b[0;32mreturn\u001b[0m \u001b[0mret\u001b[0m\u001b[0;34m\u001b[0m\u001b[0;34m\u001b[0m\u001b[0m\n\u001b[1;32m      9\u001b[0m \u001b[0;34m\u001b[0m\u001b[0m\n",
            "\u001b[0;32m/tmp/ipython-input-3300144082.py\u001b[0m in \u001b[0;36mcantConejos\u001b[0;34m(mes)\u001b[0m\n\u001b[0;32m----> 1\u001b[0;31m \u001b[0;32mdef\u001b[0m \u001b[0mcantConejos\u001b[0m\u001b[0;34m(\u001b[0m\u001b[0mmes\u001b[0m\u001b[0;34m)\u001b[0m\u001b[0;34m:\u001b[0m\u001b[0;34m\u001b[0m\u001b[0;34m\u001b[0m\u001b[0m\n\u001b[0m\u001b[1;32m      2\u001b[0m   \u001b[0;32mif\u001b[0m \u001b[0mmes\u001b[0m \u001b[0;34m==\u001b[0m \u001b[0;36m0\u001b[0m\u001b[0;34m:\u001b[0m\u001b[0;34m\u001b[0m\u001b[0;34m\u001b[0m\u001b[0m\n\u001b[1;32m      3\u001b[0m     \u001b[0mret\u001b[0m \u001b[0;34m=\u001b[0m \u001b[0;36m0\u001b[0m\u001b[0;34m\u001b[0m\u001b[0;34m\u001b[0m\u001b[0m\n\u001b[1;32m      4\u001b[0m   \u001b[0;32mif\u001b[0m \u001b[0mmes\u001b[0m \u001b[0;34m==\u001b[0m \u001b[0;36m1\u001b[0m\u001b[0;34m:\u001b[0m\u001b[0;34m\u001b[0m\u001b[0;34m\u001b[0m\u001b[0m\n\u001b[1;32m      5\u001b[0m     \u001b[0mret\u001b[0m \u001b[0;34m=\u001b[0m \u001b[0;36m1\u001b[0m\u001b[0;34m\u001b[0m\u001b[0;34m\u001b[0m\u001b[0m\n",
            "\u001b[0;31mKeyboardInterrupt\u001b[0m: "
          ]
        }
      ]
    },
    {
      "cell_type": "markdown",
      "metadata": {
        "id": "5LOgT_WupRbE"
      },
      "source": [
        "### **Ejercicio 4**\n",
        "\n",
        "Escribir una función recursiva que calcule el número triangular de índice N. El número triangular de índice N es la suma de todos los números desde 1 hasta N.\n",
        "\n",
        "Algunos ejemplos:\n",
        "\n",
        "*T(1) = 1*\n",
        "\n",
        "*T(2) = 3 = 1 + 2*\n",
        "\n",
        "*T(3) = 6 = 1 + 2 + 3*\n",
        "\n",
        "*T(4) = 10 = 1 + 2 + 3 + 4*\n",
        "\n",
        "*T(5) = 15 = 1 + 2 + 3 + 4 + 5*\n",
        "\n",
        "...\n",
        "\n",
        "*T(N) = 1 + 2 + 3 + 4 + ... + N*"
      ]
    },
    {
      "cell_type": "code",
      "metadata": {
        "id": "553FmJ6pqii-",
        "colab": {
          "base_uri": "https://localhost:8080/"
        },
        "outputId": "4f3710e0-a020-4d64-d513-d161123c4ac0"
      },
      "source": [
        "# suma todos los numeros entre 1 y n\n",
        "\n",
        "\n",
        "def triangRecur(n):\n",
        "  ret = n\n",
        "  if n > 1:\n",
        "    ret = ret + triangRecur(n-1)\n",
        "  return ret\n",
        "\n",
        "print(triangRecur(5))\n",
        "\n",
        "#triangRecur(4) =  4 + triangRecur(3)\n",
        "#triangRecur(4) =  4 + 3 + triangRecur(2)\n",
        "#triangRecur(4) =  4 + 3 +  2 + triangRecur(1)\n",
        "#triangRecur(4) =  4 + 3 +  2 + 1"
      ],
      "execution_count": null,
      "outputs": [
        {
          "output_type": "stream",
          "name": "stdout",
          "text": [
            "15\n"
          ]
        }
      ]
    },
    {
      "cell_type": "markdown",
      "metadata": {
        "id": "7JAbyL8nqjZW"
      },
      "source": [
        "### **Ejercicio 5**\n",
        "\n",
        "En las redes sociales se produce una continua interacción y cada vez que un usuario realiza una acción, la comunidad se modifica. Suponiendo que un *influencer* que usa ***Instagram*** cada vez que postea algo, aumenta su cantidad de seguidores según la siguiente regla:\n",
        "- Durante los primeros 20 posteos, siempre suma una cantidad fija de 1000 (mil) seguidores en cada uno.\n",
        "- A partir del posteo 21, la cantidad de seguidores duplica la cantidad previa de seguidores, mas  500 seguidores extra.\n",
        "\n",
        "Implementar una función recursiva que permita saber cuantos seguidores tendra el *Instagramer* luego de una cantidad determinada de posteos."
      ]
    },
    {
      "cell_type": "code",
      "metadata": {
        "id": "5SdJZdQorUIb"
      },
      "source": [],
      "execution_count": null,
      "outputs": []
    },
    {
      "cell_type": "markdown",
      "metadata": {
        "id": "-u_y1o2XrUpw"
      },
      "source": [
        "*texto en cursiva*### **Ejercicio 6**\n",
        "\n",
        "Un equipo de albañiles de una obra, tiene que planificar la colocación de pisos. Dicha tarea se realiza teniendo algunas consideraciones específicas, que tienen que ver con el corte de las baldosas, con el material de pegado y la cantidad de trabajadores que hay en cada momento. En el arranque, el día uno (1), los albañiles colocan siempre 100 baldosas.\n",
        "Luego, la cantidad que se coloca cada día se organiza de esta manera:\n",
        "- Los días pares se colocan el doble de baldosas del día anterior.\n",
        "- Los días impares (salvo el primer día) se coloca una cantidad igual a la suma de las que se colocaron los 2 dias anteriores.\n",
        "\n",
        "Implementar una función que permita saber la cantidad de baldosas que se colocan en total luego de transcurrida una determinada cantidad de días."
      ]
    },
    {
      "cell_type": "code",
      "metadata": {
        "id": "1Vek6PTrse-p",
        "colab": {
          "base_uri": "https://localhost:8080/"
        },
        "outputId": "be6b8f3c-8cc0-4f42-82e0-915dd17a04e8"
      },
      "source": [
        "def cantidadBaldosas(dias:int) -> int:\n",
        "  baldosas = 0\n",
        "  if dias == 1:\n",
        "    baldosas = 100\n",
        "  else:\n",
        "    if dias % 2 == 0:\n",
        "      baldosas = cantidadBaldosas(dias - 1) * 2 + cantidadBaldosas(dias - 1)\n",
        "    else:\n",
        "      baldosas = (cantidadBaldosas(dias - 1) + cantidadBaldosas(dias - 2)) + cantidadBaldosas(dias - 1)\n",
        "  return baldosas\n",
        "\n",
        "print(cantidadBaldosas(3))\n",
        "# dia 3: 100 + 300 + 400-> 700\n",
        "# dia 2: 300\n",
        "# dia 1: 100\n",
        "\n",
        "# Enunciado:\n",
        "# dia1: 100 -> acum 100\n",
        "# dia2: 100 * 2 = 200 -> acum 100 + 200\n",
        "# dia3: 100 + 200 -> 300 + 200 + 100 = 600\n",
        "\n",
        "# Función:\n",
        "# dia1: 100\n",
        "# dia2: 300\n",
        "# dia3: 300 + 100 = 400 -> 400 + 200 + 100"
      ],
      "execution_count": null,
      "outputs": [
        {
          "output_type": "stream",
          "name": "stdout",
          "text": [
            "500\n"
          ]
        }
      ]
    },
    {
      "cell_type": "markdown",
      "metadata": {
        "id": "EVmZea0Cselk"
      },
      "source": [
        "### **Ejercicio 7**\n",
        "\n",
        "Luego de una lluvia muy grande se acumula gran cantidad de agua en un estanque, durante el primer día, el agua comienza a ponerse de color verde y un grupo de científicos decide medir cuantas algas encuentra dentro del tanque. La primer medición le da como resultado 12 algas. Luego deciden ir a realizar la medición todos los días para tratar de establecer un patrón de crecimiento y se encuentran que las algas crecen con la siguiente regla:\n",
        "- Durante los siguientes 10 días (del dia 2 al 11) la cantidad de algas en el tanque es 15 más de las que había el día anterior.\n",
        "- A partir del día 12, la cantidad de algas en el tanque es el triple de las que había el día previo más una cantidad fija de 100.\n",
        "\n",
        "Escriba una función recursiva que calcule la cantidad de algas en el tanque en un día N.\n",
        "\n",
        "Nota: Suponer que no mueren algas en el tanque."
      ]
    },
    {
      "cell_type": "code",
      "metadata": {
        "id": "30rAj4BTtQMo"
      },
      "source": [],
      "execution_count": null,
      "outputs": []
    },
    {
      "cell_type": "markdown",
      "metadata": {
        "id": "ahvaeTRS0Gm7"
      },
      "source": [
        "### **Ejercicio 8**\n",
        "\n",
        "Escribir una función recursiva que calcule la potencia N de un número M (M a la N), ambos números enteros positivos.   "
      ]
    },
    {
      "cell_type": "code",
      "metadata": {
        "id": "w9R8zTz_0Pku"
      },
      "source": [
        "# M⁰ = 1\n",
        "# M¹ = m\n",
        "# M² = M*M\n",
        "# M³ = M*M*M = (M*M) * M = M² * M\n",
        "#.....\n",
        "# M^N = M*M*....*M (N veces) = M^(N-1) * M\n",
        "\n",
        "# N > 0 y M > 0\n",
        "\n"
      ],
      "execution_count": null,
      "outputs": []
    },
    {
      "cell_type": "markdown",
      "metadata": {
        "id": "1ahXjm9z0QND"
      },
      "source": [
        "### **Ejercicio 9**\n",
        "\n",
        "Problema del trigo en el tablero de ajedrez:\n",
        "\n",
        " <img src=\"https://i0.wp.com/matematicascercanas.com/wp-content/uploads/2015/03/leyenda_ajedrez.jpg?w=600&ssl=1\" width=\"400\">\n",
        "\n",
        "Si se colocase sobre un tablero de ajedrez, un grano de trigo en el primer casillero, dos en el segundo, cuarto en el tercero y asi sucesivamente, doblando la cantidad de granos en cada casilla ¿Cuantos granos de trigo habría en el tablero en total al final? Resolver el problema con una función recursiva.\n",
        "\n",
        "Leyenda del Trigo y el tablero de ajedrez y mas datos: https://matematicascercanas.com/2014/03/10/la-leyenda-del-tablero-de-ajedrez-y-los-granos-de-trigo/"
      ]
    },
    {
      "cell_type": "code",
      "metadata": {
        "id": "WLUBQcfx1hGE",
        "colab": {
          "base_uri": "https://localhost:8080/"
        },
        "outputId": "a86054f3-a500-4b20-e737-d5d58a1e82fa"
      },
      "source": [
        "#Solucion 1\n",
        "\n",
        "# Tomamos primer casillero 1\n",
        "def cantTrigoAcum(casillero):\n",
        "  total = 0\n",
        "  if casillero == 1:\n",
        "    total = 1\n",
        "  else:\n",
        "    total = 2 * cantTrigoAcum(casillero - 1)\n",
        "  return total\n",
        "\n",
        "\n",
        "print(cantTrigoAcum(5))\n",
        "\n"
      ],
      "execution_count": null,
      "outputs": [
        {
          "output_type": "stream",
          "name": "stdout",
          "text": [
            "16\n"
          ]
        }
      ]
    },
    {
      "cell_type": "code",
      "source": [
        "#Solucion 3: Convergencia de serie geometrica finita\n",
        "\n",
        "# total N casilleros = 2^0 + 2^1 + 2^2 + 2^3 + ... + 2^(N-2) + 2^(N-1)\n",
        "# 2 * total N casilleros = 2 * (2^0 + 2^1 + 2^2 + 2^3 + ... + 2^(N-2) + 2^(N-1))\n",
        "# 2 * total N casilleros = 2^1 + 2^2 + 2^3 + 2^4 + ... + 2^(N-1) + 2^(N)\n",
        "# 2 * total N casilleros = ( 2^1 + 2^2 + 2^3 + 2^4 + ... + 2^(N-1) ) + 2^(N)\n",
        "# 2 * total N casilleros = total N casilleros - 1 + 2^(N)\n",
        "# total N casilleros = 2^(N) -1\n",
        "\n"
      ],
      "metadata": {
        "id": "joyGShzL21SR"
      },
      "execution_count": null,
      "outputs": []
    },
    {
      "cell_type": "code",
      "source": [
        "print(cantTrigoAcum1(64))\n",
        "print(cantTrigoAcum2(64))\n",
        "print(cantTrigoAcum3(64))"
      ],
      "metadata": {
        "colab": {
          "base_uri": "https://localhost:8080/"
        },
        "id": "upBmSaYM1qWE",
        "outputId": "aca868ff-47df-4881-a56a-18df64434bc4"
      },
      "execution_count": null,
      "outputs": [
        {
          "output_type": "stream",
          "name": "stdout",
          "text": [
            "18446744073709551615\n",
            "18446744073709551615\n",
            "18446744073709551615\n"
          ]
        }
      ]
    },
    {
      "cell_type": "markdown",
      "metadata": {
        "id": "UcGyejNf1hYo"
      },
      "source": [
        "### **Ejercicio 10**\n",
        "\n",
        "En un edificio alto, las cucarachas se van distribuyendo por pisos de esta forma:\n",
        "- En el primer piso hay una cucaracha\n",
        "- En los pisos pares el doble del número de piso (por ejemplo en el piso 8 hay 16 cucarachas)\n",
        "- El resto de los pisos tienen la suma de las cucarachas de los dos pisos anteriores.\n",
        "\n",
        "Escribir una función recursiva que calcule la cantidad de cucarachas en un edificio en función de la cantidad de pisos."
      ]
    },
    {
      "cell_type": "code",
      "metadata": {
        "id": "l_oaoB0S2_Fa"
      },
      "source": [],
      "execution_count": null,
      "outputs": []
    },
    {
      "cell_type": "markdown",
      "metadata": {
        "id": "HnGv90m72_dg"
      },
      "source": [
        "### **Ejercicio 11**\n",
        "\n",
        "Escribir la función recursiva repetirPalabra, que recibe como parámetro una palabra (cadena de caracteres) y un número N. La función debe retornar una nueva cadena que contenga la palabra repetida N veces, por ejemplo:\n",
        "\n",
        "*repetirPalabra(\"hola\",3) -> \"holaholahola\"*"
      ]
    },
    {
      "cell_type": "code",
      "metadata": {
        "id": "sLVYYAqz3zX_"
      },
      "source": [],
      "execution_count": null,
      "outputs": []
    },
    {
      "cell_type": "markdown",
      "metadata": {
        "id": "QL1a0WtI89QA"
      },
      "source": [
        "### **Ejercicio 12**\n",
        "\n",
        "Juan y María empiezan a trabajar el mismo día en dos empresas distintas. Juan arregla un sueldo inicial de \\$40000 con una actualización mensual del 2% y María un sueldo inicial de \\$25000 con una actualización mensual del 5%. Calcular recursivamente los sueldos de Juan y de María luego de transcurridos una cantidad determinada de meses.\n",
        "\n",
        "Luego, escribir una función que retorne cuantos meses tienen que pasar para que el sueldo de María supere al de Juan (Esta parte no hace falta que sea recursiva, pero pueden intentar hacerlo)."
      ]
    },
    {
      "cell_type": "code",
      "metadata": {
        "id": "KMkkp7XX888v"
      },
      "source": [],
      "execution_count": null,
      "outputs": []
    },
    {
      "cell_type": "code",
      "source": [],
      "metadata": {
        "id": "p2dgJbPEANdB"
      },
      "execution_count": null,
      "outputs": []
    },
    {
      "cell_type": "code",
      "source": [],
      "metadata": {
        "id": "v4aikxltANtv"
      },
      "execution_count": null,
      "outputs": []
    },
    {
      "cell_type": "code",
      "source": [
        "print(mesesParaIgualarIterativo(40000,2,25000,5))\n",
        "print(mesesParaIgualarRecursivo(40000,2,25000,5))"
      ],
      "metadata": {
        "colab": {
          "base_uri": "https://localhost:8080/"
        },
        "id": "Xsm8V7PjAsio",
        "outputId": "53d7b6dc-6a7d-4cb9-b1b3-129b25052d6f"
      },
      "execution_count": null,
      "outputs": [
        {
          "output_type": "stream",
          "name": "stdout",
          "text": [
            "18\n",
            "18\n"
          ]
        }
      ]
    },
    {
      "cell_type": "markdown",
      "source": [
        "## **Recursividad sobre vectores**"
      ],
      "metadata": {
        "id": "ygTBKEdjM-p7"
      }
    },
    {
      "cell_type": "code",
      "source": [
        "import numpy as np"
      ],
      "metadata": {
        "id": "qgKqwQUsCvdb"
      },
      "execution_count": null,
      "outputs": []
    },
    {
      "cell_type": "markdown",
      "source": [
        "### **Ejercicio 13**\n",
        "\n",
        "Escribir una función **recursiva** que reciba un vector como parámetro y retorne la suma de todos sus elementos."
      ],
      "metadata": {
        "id": "PehX3FXfI8Az"
      }
    },
    {
      "cell_type": "code",
      "source": [
        "\n",
        "import numpy as np\n",
        "\n",
        "arr = np.array([2,3,1,5,4])\n",
        "\n",
        "#Solucion 1: Usando notacion de subvectores\n",
        "#v1 = [2,3,1,5,4]\n",
        "#suma(v1) = 2+3+1+5+4 = 2 + (3+1+5+4)\n",
        "#suma(v) = v[0] + suma(v[1:])    si len(v) > 0\n",
        "#           0                    si len(v) = 0\n",
        "\n",
        "def sumar(arr):\n",
        "  if len(arr) == 1:\n",
        "    return arr[0]\n",
        "  else:\n",
        "    #print(arr)\n",
        "    # le paso un arreglo de tamaño len(arr)-1\n",
        "    return arr[0] + sumar(arr[1:])\n",
        "\n",
        "print(sumar(arr))\n",
        "\n",
        "# sumar([2,3,1,5,4]) =  2 + sumar([3,1,5,4])\n",
        "#  =  2 + 3 + sumar([1,5,4])\n",
        "#  =  2 + 3 + 1 + sumar([5,4])\n",
        "#  =  2 + 3 + 1 + 5 + sumar([4])\n",
        "#  =  2 + 3 + 1 + 5 + 4"
      ],
      "metadata": {
        "id": "Ndt89A0VI72k",
        "colab": {
          "base_uri": "https://localhost:8080/"
        },
        "outputId": "67bd4123-e5a8-4ff8-99c0-24bc4c654c79"
      },
      "execution_count": null,
      "outputs": [
        {
          "output_type": "stream",
          "name": "stdout",
          "text": [
            "[2 3 1 5 4]\n",
            "[3 1 5 4]\n",
            "[1 5 4]\n",
            "[5 4]\n",
            "15\n"
          ]
        }
      ]
    },
    {
      "cell_type": "code",
      "source": [
        "#Solucion 2: Usando índices y vector completo\n",
        "#v1 = [2,3,1,5,4]\n",
        "#suma(v1) = 2+3+1+5+4 = 2 + (3+1+5+4)\n",
        "#suma(v) = v[0] + suma(v[1:])    si len(v) > 0\n",
        "#           0                    si len(v) = 0\n",
        "\n",
        "#sumar los elementos de v1 desde posicion 0 hasta el final -> sumaRecursiva2(v1, 0)\n",
        "#sumar los elementos de v1 desde posicion 1 hasta el final -> sumaRecursiva2(v1, 1)\n",
        "#sumar los elementos de v1 desde posicion 2 hasta el final -> sumaRecursiva2(v1, 2)\n",
        "#.....\n",
        "#sumar los elementos de v1 desde la ultima posicion hasta el final (solo ultimo elemento) -> sumaRecursiva2(v1, len(v1)-1)\n",
        "\n"
      ],
      "metadata": {
        "id": "9iefiqVmJB1L"
      },
      "execution_count": null,
      "outputs": []
    },
    {
      "cell_type": "code",
      "source": [
        "v1 = np.array([2,3,1,5,4])\n",
        "print(sumaRecursiva1(v1))\n",
        "print(sumaRecursiva2(v1))"
      ],
      "metadata": {
        "id": "KSsa-pbNJFPb",
        "colab": {
          "base_uri": "https://localhost:8080/"
        },
        "outputId": "1ae3671c-c85f-4617-c13d-51198f71e96a"
      },
      "execution_count": null,
      "outputs": [
        {
          "output_type": "stream",
          "name": "stdout",
          "text": [
            "15\n",
            "15\n"
          ]
        }
      ]
    },
    {
      "cell_type": "markdown",
      "source": [
        "### **Ejercicio 14**\n",
        "\n",
        "Escribir una función **recursiva** que retorna *True* si un string es un palindromo y *False* en caso contrario.\n",
        "\n",
        "Nota: Palíndromo es la forma elegante de \"capicua\""
      ],
      "metadata": {
        "id": "vj9KCgvxJV1T"
      }
    },
    {
      "cell_type": "code",
      "source": [
        "import numpy as np\n",
        "\n",
        "arrEjemplo = np.array(['n','e','u','q','u','e','n',])\n",
        "\n",
        "def esPalindromo(arr):\n",
        "  if len(arr) <= 1:\n",
        "    return True\n",
        "  if arr[0] != arr[-1]:\n",
        "    return False\n",
        "  return esPalindromo(arr[1:-1])\n",
        "\n",
        "#neuquen\n",
        "# True             si   len(palabra) <= 1\n",
        "\n",
        "\n"
      ],
      "metadata": {
        "id": "-HieNzw1JVoa"
      },
      "execution_count": null,
      "outputs": []
    },
    {
      "cell_type": "code",
      "source": [
        "print(esPalindromo(arrEjemplo))\n",
        "#print(esPalindromo(\"neuqeen\"))"
      ],
      "metadata": {
        "colab": {
          "base_uri": "https://localhost:8080/"
        },
        "id": "FMwwFx8tE1oN",
        "outputId": "1b70f2dd-4b73-4506-ac0c-351a4a6859fe"
      },
      "execution_count": null,
      "outputs": [
        {
          "output_type": "stream",
          "name": "stdout",
          "text": [
            "False\n"
          ]
        }
      ]
    },
    {
      "cell_type": "markdown",
      "source": [
        "### **Ejercicio 15**\n",
        "\n",
        " Escribir la función unIntercambioRecursivo(arreglo) (o uIR para abreviar) que dado un arreglo “arreglo” intercambia cada par de índices consecutivos de izquierda a derecha (por ejemplo el índice 0 con el 1, luego el 1 con el 2 y así), dejando el mayor a la derecha. La función no devuelve nada ya que modifica el arreglo. Se recomienda realizar una función auxiliar que reciba el arreglo y un índice. La función auxiliar debe ser recursiva.\n",
        "\n",
        "Por ejemplo: Si arr1 = [5, 10, 9, 8, 1, 13] => uIR(arr1) deja el arreglo asi: [5, 9, 8, 1, 10, 13]\n",
        "\n",
        "porque solo se intercambian los siguientes pares: (10,9);(10,8);(10,1).\n",
        "\n",
        "Atencion: La funcion no tiene return, modifica el mismo arreglo"
      ],
      "metadata": {
        "id": "DRJ-bzbeEzGg"
      }
    },
    {
      "cell_type": "code",
      "source": [],
      "metadata": {
        "id": "XPKOxn2_E6XV"
      },
      "execution_count": null,
      "outputs": []
    },
    {
      "cell_type": "markdown",
      "source": [
        "### **Ejercicio 16**\n",
        "\n",
        "Escribir una función que implemente de forma **recursiva** el algoritmo de **búsqueda binaria** sobre un vector.\n",
        "\n",
        "https://es.khanacademy.org/computing/computer-science/algorithms/binary-search/a/binary-search"
      ],
      "metadata": {
        "id": "4yUk0Ww4NO11"
      }
    },
    {
      "cell_type": "code",
      "source": [
        "#v tiene que estar ordenado\n",
        "#busquedaBinaria(v,3) -> posicion del elemento 3 en v    si 3 esta en v\n",
        "#                        None                            si 3 no esta en v\n",
        "#v = [2,3,5,7,8,12,34,56]\n",
        "\n",
        "\n",
        "  #busco posicion central\n",
        "  #comparo datoBuscado con el elemento del vector en la posicion central\n",
        "    # si el datoBuscado es igual -> lo encontre, es decir esta en la posicion central\n",
        "    # si no es igual\n",
        "      # si es menor -> busco el dato en la mitad inferior (0 - posicion central-1)\n",
        "      # si es mayor -> busco el dato en la mitad superior (posicion central+1 - final)\n",
        "import numpy as np\n",
        "def busquedaBinaria(vector:np.array, datoBuscado:int, posInicial:int, posFinal:int)->int:\n",
        "  posDato = None\n",
        "  centro = (posInicial+posFinal)//2\n",
        "  if posFinal < posInicial:\n",
        "    posDato = None\n",
        "  else:\n",
        "    if vector[centro] == datoBuscado:\n",
        "      posDato = centro\n",
        "    elif datoBuscado < vector[centro]:\n",
        "      posDato = busquedaBinaria(vector, datoBuscado, posInicial, centro-1)\n",
        "    else:\n",
        "      posDato = busquedaBinaria(vector, datoBuscado, centro+1, posFinal)\n",
        "  return posDato\n",
        "\n",
        "print(busquedaBinaria(np.array([3,7,12,15,24,37,42,54]),37,0,7))"
      ],
      "metadata": {
        "id": "Behsdk2KNxOj"
      },
      "execution_count": null,
      "outputs": []
    },
    {
      "cell_type": "markdown",
      "source": [
        "### **Ejercicio 17**\n",
        "Implementar una función recursiva para encontrar el máximo elemento de un arreglo"
      ],
      "metadata": {
        "id": "ycxrHIbZKlG7"
      }
    },
    {
      "cell_type": "code",
      "source": [
        "#arreglo = [2,1,3,10,5,4,7]\n",
        "#max(arreglo) = arreglo[0]                                si len(arreglo) = 1\n",
        "#               maximo(arreglo[0] y max(arreglo[1:]))     si len(arreglo) > 1\n",
        "\n",
        "#Suponemos que vector no esta vacio\n",
        "arreglito = [2]\n",
        "\n",
        "def max(arreglo):\n",
        "  if len(arreglo) == 1:\n",
        "    return arreglo[0]\n",
        "  else:\n",
        "    maximo = max(arreglo[1:])\n",
        "\n",
        "    if arreglo[0] > maximo:\n",
        "      return arreglo[0]\n",
        "    else:\n",
        "      return maximo\n",
        "\n",
        "arr2 = [2,1,3,10,5,4,7]\n",
        "print(max(arr2))\n",
        "\n"
      ],
      "metadata": {
        "id": "cP972uHzKk5T",
        "colab": {
          "base_uri": "https://localhost:8080/"
        },
        "outputId": "fb1716b8-e367-48e0-8d83-40114ad40892"
      },
      "execution_count": null,
      "outputs": [
        {
          "output_type": "stream",
          "name": "stdout",
          "text": [
            "10\n"
          ]
        }
      ]
    },
    {
      "cell_type": "markdown",
      "source": [
        "### **Ejercicio 18**\n",
        "Implementar una función recursiva para encontrar la posicion del máximo elemento de un arreglo"
      ],
      "metadata": {
        "id": "8KSSAoUZKqqb"
      }
    },
    {
      "cell_type": "code",
      "source": [
        "#arreglo = [2,1,3,10,5,4,7]\n",
        "#posicionDelMaximo(array, posInicio) = posInicio       si posInicio = len(array)-1\n",
        "#                                    = posicion del max(array[0], array[posicion maximo en el resto])\n",
        "\n"
      ],
      "metadata": {
        "id": "EOIN-S5UKqhj"
      },
      "execution_count": null,
      "outputs": []
    },
    {
      "cell_type": "code",
      "source": [],
      "metadata": {
        "id": "JvUP4mlvMuu_"
      },
      "execution_count": null,
      "outputs": []
    },
    {
      "cell_type": "markdown",
      "source": [
        "Escribir la función recursiva montaña(arr1), que retorna verdadero si arr1 crece hasta la mitad del arreglo y decrece en la segunda parte. Las soluciones que NO sean recursivas no serán tomadas en cuenta.\n",
        "Por ejemplo:\n",
        "\n",
        "Si arr1 = [1, 5, 8, 3, 2] => montaña(arr1) devuelve verdadero\n",
        "\n",
        "Si arr1 = [21, 13, 8, 10, 5] => montaña(arr1) devuelve falso\n",
        "\n",
        "Ayuda: Se puede asumir que la longitud del arreglo es impar.:\n",
        "\n",
        "*   Elemento de la lista\n",
        "*   Elemento de la lista\n",
        "\n"
      ],
      "metadata": {
        "id": "AYFO6G54MtXO"
      }
    },
    {
      "cell_type": "code",
      "source": [
        "def montaña(arr1):\n",
        "  mitad = len(arr1) // 2\n",
        "  return crece(arr1, 0, mitad) and decrece(arr1, mitad)\n",
        "\n",
        "def crece(arr, i, mitad):\n",
        "  if i == mitad:\n",
        "    return True\n",
        "  if arr[i] < arr[i + 1]:\n",
        "    return crece(arr, i + 1, mitad)\n",
        "  return False\n",
        "\n",
        "def decrece(arr, medio):\n",
        "  if medio == len(arr) - 1:\n",
        "    return True\n",
        "  if arr[medio] > arr[medio + 1]:\n",
        "    return decrece2(arr, medio + 1)\n",
        "  return False\n",
        "\n",
        "def decrece2(arr,medio):\n",
        "  if medio == len(arr) - 1:\n",
        "    return True\n",
        "  if arr[-1] < arr[-2]:\n",
        "    return decrece2(arr[:-1], medio)\n",
        "  return False\n",
        "\n",
        "\n",
        "rar = [1,2,3,10,7,8,4]\n",
        "\n",
        "print(len(rar) // 2)\n",
        "print(len(rar))\n",
        "\n",
        "print(montaña(rar))\n",
        "#print(rar[:-1])"
      ],
      "metadata": {
        "colab": {
          "base_uri": "https://localhost:8080/"
        },
        "id": "Uvdsv8UQMt5k",
        "outputId": "0ca42c98-e37b-428a-9efa-5c38bd1ff753"
      },
      "execution_count": null,
      "outputs": [
        {
          "output_type": "stream",
          "name": "stdout",
          "text": [
            "3\n",
            "7\n",
            "False\n"
          ]
        }
      ]
    },
    {
      "cell_type": "code",
      "source": [
        "def montaña(arr, i = 0):\n",
        "    mitad = len(arr) // 2\n",
        "    print(i)\n",
        "    if i >= (len(arr) - 1):\n",
        "        return True\n",
        "    else:\n",
        "        if i < mitad:\n",
        "            if arr[i] < arr[i + 1]:\n",
        "                return montaña(arr, i + 1)\n",
        "            else:\n",
        "                return False\n",
        "        elif arr[i] > arr[i + 1]:\n",
        "            return montaña(arr, i + 1)\n",
        "        else:\n",
        "            return False\n",
        "\n",
        "arr1 = [1,5,8,3,2] #True\n",
        "arr2 = [1,4,8,1,5] #False\n",
        "#print(montaña(arr1))\n",
        "print(montaña(arr2))\n"
      ],
      "metadata": {
        "colab": {
          "base_uri": "https://localhost:8080/"
        },
        "id": "iOxAHIfHSVbk",
        "outputId": "3e7d7541-8ee7-4da7-ad88-f41f9b5b6c5a"
      },
      "execution_count": null,
      "outputs": [
        {
          "output_type": "stream",
          "name": "stdout",
          "text": [
            "0\n",
            "1\n",
            "2\n",
            "3\n",
            "False\n"
          ]
        }
      ]
    }
  ]
}