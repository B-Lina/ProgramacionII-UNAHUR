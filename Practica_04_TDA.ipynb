{
  "cells": [
    {
      "cell_type": "markdown",
      "metadata": {
        "colab_type": "text",
        "id": "view-in-github"
      },
      "source": [
        "<a href=\"https://colab.research.google.com/github/B-Lina/ProgramacionII-UNAHUR/blob/main/Practica_04_TDA.ipynb\" target=\"_parent\"><img src=\"https://colab.research.google.com/assets/colab-badge.svg\" alt=\"Open In Colab\"/></a>"
      ]
    },
    {
      "cell_type": "markdown",
      "metadata": {
        "id": "42630xxYD0gZ"
      },
      "source": [
        "# ![alt text](https://upload.wikimedia.org/wikipedia/commons/thumb/c/c3/Python-logo-notext.svg/50px-Python-logo-notext.svg.png) **Trabajo Práctico 04: Tipos de datos abstractos** ![alt text](https://upload.wikimedia.org/wikipedia/commons/thumb/c/c3/Python-logo-notext.svg/50px-Python-logo-notext.svg.png)\n",
        "\n",
        "En este trabajo práctico, vamos a trabajar con la definición de tipos de datos abstractos en Python.\n",
        "\n",
        "\n",
        "\n",
        "### Martin: **martin.pustilnik@unahur.edu.ar** ###\n"
      ]
    },
    {
      "cell_type": "markdown",
      "metadata": {
        "id": "cwvo5HlCXnwM"
      },
      "source": [
        "**En cada ejercicio, luego de implementar el TDA pedido, tienen que probar cada una de las operaciones en un programa principal, ejecutando cada una de ellas**\n",
        "\n",
        "**En el video les comenté de la función \\_\\_str__ para la representación de variables de los TDAs, en lugar de \\_\\_str__ pueden implementar \\_\\_repr__ que es similar pero más general (No solo sirve para el *print*, sino para la representación en general de variables del TDA)**\n"
      ]
    },
    {
      "cell_type": "code",
      "execution_count": 2,
      "metadata": {
        "id": "Zw0Z6fHghB1P"
      },
      "outputs": [],
      "source": [
        "def validarTipo2(variable, nombre, tipo, condicion = True):\n",
        "  if isinstance(variable, tipo) and condicion:\n",
        "    return variable\n",
        "  else:\n",
        "    raise Exception(\"La variable \" + nombre + \" debe ser de tipo \" + str(tipo) + \". o falla la condicion \"  )\n",
        "\n",
        "def validarTipo(variable, nombre, tipo):\n",
        "  if isinstance(variable, tipo):\n",
        "    return variable\n",
        "  else:\n",
        "    raise Exception(\"La variable \" + nombre + \" debe ser de tipo \" + str(tipo) + \".\")\n",
        "\n",
        "def validarAño(año):\n",
        "  if validarTipo(año, \"año\", int) and año >= 1870:\n",
        "    return año\n",
        "  else:\n",
        "    raise Exception(\"Año incorrecto\")\n",
        "\n",
        "\n",
        "def validarAltura(altura):\n",
        "  if validarTipo(altura, \"altura\", float) and altura > 0:\n",
        "    return altura\n",
        "  else:\n",
        "    raise Exception(\"Altura incorrecta\")\n"
      ]
    },
    {
      "cell_type": "code",
      "execution_count": 1,
      "metadata": {
        "colab": {
          "base_uri": "https://localhost:8080/",
          "height": 305
        },
        "id": "IO7ycQQd3qAB",
        "outputId": "001fa6c9-b359-4e02-b215-95570c4657db"
      },
      "outputs": [
        {
          "ename": "Exception",
          "evalue": "No se puede dividir por cero",
          "output_type": "error",
          "traceback": [
            "\u001b[31m---------------------------------------------------------------------------\u001b[39m",
            "\u001b[31mException\u001b[39m                                 Traceback (most recent call last)",
            "\u001b[36mCell\u001b[39m\u001b[36m \u001b[39m\u001b[32mIn[1]\u001b[39m\u001b[32m, line 8\u001b[39m\n\u001b[32m      5\u001b[39m     \u001b[38;5;28;01melse\u001b[39;00m:\n\u001b[32m      6\u001b[39m       \u001b[38;5;28;01mraise\u001b[39;00m \u001b[38;5;167;01mException\u001b[39;00m(\u001b[33m\"\u001b[39m\u001b[33mNo se puede dividir por cero\u001b[39m\u001b[33m\"\u001b[39m)\n\u001b[32m----> \u001b[39m\u001b[32m8\u001b[39m \u001b[38;5;28mprint\u001b[39m(\u001b[43mdividir\u001b[49m\u001b[43m(\u001b[49m\u001b[32;43m3\u001b[39;49m\u001b[43m,\u001b[49m\u001b[32;43m0\u001b[39;49m\u001b[43m)\u001b[49m)\n",
            "\u001b[36mCell\u001b[39m\u001b[36m \u001b[39m\u001b[32mIn[1]\u001b[39m\u001b[32m, line 6\u001b[39m, in \u001b[36mdividir\u001b[39m\u001b[34m(num, divisor)\u001b[39m\n\u001b[32m      4\u001b[39m   \u001b[38;5;28;01mreturn\u001b[39;00m num /  divisor\n\u001b[32m      5\u001b[39m \u001b[38;5;28;01melse\u001b[39;00m:\n\u001b[32m----> \u001b[39m\u001b[32m6\u001b[39m   \u001b[38;5;28;01mraise\u001b[39;00m \u001b[38;5;167;01mException\u001b[39;00m(\u001b[33m\"\u001b[39m\u001b[33mNo se puede dividir por cero\u001b[39m\u001b[33m\"\u001b[39m)\n",
            "\u001b[31mException\u001b[39m: No se puede dividir por cero"
          ]
        }
      ],
      "source": [
        "\n",
        "#PRE: el dividor no puede ser 0\n",
        "def dividir(num, divisor):\n",
        "    if divisor != 0:\n",
        "      return num /  divisor\n",
        "    else:\n",
        "      raise Exception(\"No se puede dividir por cero\")\n",
        "\n",
        "print(dividir(3,0))"
      ]
    },
    {
      "cell_type": "code",
      "execution_count": null,
      "metadata": {
        "colab": {
          "base_uri": "https://localhost:8080/"
        },
        "id": "94I-TVoBmSXj",
        "outputId": "3d378666-a1bb-441d-b95b-8c409ae76800"
      },
      "outputs": [
        {
          "name": "stdout",
          "output_type": "stream",
          "text": [
            "12\n",
            "12\n"
          ]
        }
      ],
      "source": [
        "dia = 12\n",
        "print(validarTipo(dia, \"dia\", int))\n",
        "print(validarTipo2(dia, \"dia\", int, dia < 32))"
      ]
    },
    {
      "cell_type": "markdown",
      "metadata": {
        "id": "3JyR98y6eSSb"
      },
      "source": [
        "TDA :  objeto real (ej universidad)\n",
        "Modelo computacional:\n",
        "-que cosas nos interesan modelar de la universidad?\n",
        "\n",
        "Modelo1\n",
        "\n",
        "nombre\n",
        "cantidad de alumnos\n",
        "carreras que ofrece\n",
        "\n",
        "-puede haber mas de un modelo...\n",
        "\n",
        "Modelo2\n",
        "nombre\n",
        "los alumnos en si\n",
        "que materias cursa\n",
        "carreras que ofrece\n",
        "\n",
        "-Implementacion1 (estructura de datos de representacion)\n",
        "\n",
        "nombre: va a ser un string\n",
        "las materias:  van a a ser una lista.\n",
        "\n",
        "-Implementacion\n",
        "\n",
        "nombre: va a ser un string\n",
        "las materias:  van a a ser un diccionario.\n",
        "\n",
        "\n"
      ]
    },
    {
      "cell_type": "markdown",
      "metadata": {
        "id": "DyzOhAhyXPt8"
      },
      "source": [
        "### **Ejercicio 1**\n",
        "\n",
        "Implementar el TDA \"Propiedad\" que modela un inmueble, con una estructura definida por los siguientes componentes:\n",
        "- Calle\n",
        "- Número\n",
        "- Localidad\n",
        "- Año de construcción\n",
        "- Cantidad de ambientes\n",
        "\n",
        "Implementar las siguientes operaciones:\n",
        "- Constructor: Debe incluir las validaciones necesarias, teniendo en cuenta que solo se almacenan propiedades construidas luego de 1870.\n",
        "- \\_\\_repr__: Al usar la función *print* con una variable del tipo propiedad debe mostrar: **'calle' 'numero' ('localidad')**.\n",
        "- mismaLocalidad: Operación que recibe dos propiedades y retorna *True* si estan en la misma localidad y *False* en caso contrario.\n",
        "- mayorNumeración: Operación que recibe dos propiedades y si están en la misma calle, retorna la que posee mayor numeración. Si están calles diferentes debe lanzar una excepción.\n",
        "- calculaImpuestoARBA: Operación que retorna el porcentaje de impuesto inmobiliario de una propiedad, según la siguiente regla:\n",
        " - Propiedades entre 1870 y 1949:\n",
        "   - Entre 1 y 3 ambientes: 5% de impuesto\n",
        "   - Entre 4 y 6 ambientes: 10% de impuesto\n",
        "   - Más de 6 ambientes: 25 % de impuesto\n",
        " - Propiedades desde 1950 hasta la actualidad:\n",
        "   - Entre 1 y 5 ambientes: 5% de impuesto\n",
        "   - Más de 5 ambientes: 35 % de impuesto\n"
      ]
    },
    {
      "cell_type": "code",
      "execution_count": 7,
      "metadata": {},
      "outputs": [
        {
          "data": {
            "text/plain": [
              "4108"
            ]
          },
          "execution_count": 7,
          "metadata": {},
          "output_type": "execute_result"
        }
      ],
      "source": [
        "class Propiedad: \n",
        "    def __init__(self,calle,numero,localidad,año,cant_Ambientes):\n",
        "        self.__calle = validarTipo(calle,\"calle\",str)\n",
        "        self.__numero = validarTipo(numero,\"numero\",int)\n",
        "        self.__localidad = localidad\n",
        "        self.__año = año\n",
        "        self.__cant_Ambientes = cant_Ambientes\n",
        "    \n",
        "    def mismaLocalidad(self,localidadVerificar):\n",
        "        if self.__localidad == localidadVerificar:\n",
        "            return True\n",
        "        else:\n",
        "            return \n",
        "        \n",
        "    def mayorNumeracion(self, otra_casa):\n",
        "        if self.__calle != otra_casa.__calle:\n",
        "            raise Exception(\"Las direcciones no pertenecen a la misma calle\")\n",
        "\n",
        "        # Ahora comparamos solo los números\n",
        "        if self.__numero > otra_casa.__numero:\n",
        "            return self.__numero\n",
        "        else:\n",
        "            return otra_casa.__numero\n",
        "        \"\"\"\n",
        "    def mayorNumeracion(self,numero_calle_verificar):\n",
        "        if self.__calle == numero_calle_verificar:\n",
        "            if self.__calle > numero_calle_verificar:\n",
        "                return self.__calle\n",
        "            else:\n",
        "                return numero_calle_verificar\n",
        "        else:\n",
        "            raise Exception(\"Los numeros de calles no son iguales\")\n",
        "            \"\"\"\n",
        "\n",
        "    def calcularImpuestoARBA(self):\n",
        "        añoVerificar = self.__año\n",
        "        ambientesVerificar = self.__cant_Ambientes\n",
        "\n",
        "        porcentaje_Impuesto = 0\n",
        "        if añoVerificar >= 1870 and añoVerificar <=1949:\n",
        "            if ambientesVerificar >=1 and ambientesVerificar <=3: \n",
        "                porcentaje_Impuesto = 5\n",
        "            elif ambientesVerificar >=4 and ambientesVerificar <=6: \n",
        "                porcentaje_Impuesto = 10\n",
        "            elif ambientesVerificar >=6:\n",
        "                porcentaje_Impuesto = 25\n",
        "        elif añoVerificar >= 1950:\n",
        "            if ambientesVerificar >=1 and ambientesVerificar <=5:\n",
        "                porcentaje_Impuesto = 5\n",
        "            elif ambientesVerificar >5:\n",
        "                porcentaje_Impuesto = 35\n",
        "        else:\n",
        "            print(\"Error de año\")\n",
        "        return porcentaje_Impuesto\n",
        "    \n",
        "    def __repr__(self)->str:\n",
        "        return self.__calle + \" \" + self.__numero.__repr__() + \" (\" + self.__localidad + \")\" + \" \" + self.__año.__repr__()\n",
        "propiedad1 = Propiedad(\"Av, vergara\",4106,\"Hurlingham\",2015,5)\n",
        "\n",
        "propiedad2 = Propiedad(\"Av, vergara\",4108,\"Hurlingham\",2020,5)\n",
        "\n",
        "propiedad1.calcularImpuestoARBA()\n",
        "\n",
        "propiedad1.mayorNumeracion(propiedad2)"
      ]
    },
    {
      "cell_type": "code",
      "execution_count": null,
      "metadata": {
        "colab": {
          "base_uri": "https://localhost:8080/"
        },
        "id": "RaEQSMR_cgI_",
        "outputId": "e749b933-b3cb-4f75-bafa-94b0b10e7d46"
      },
      "outputs": [
        {
          "name": "stdout",
          "output_type": "stream",
          "text": [
            "2016\n",
            "False\n",
            "mismaLocalidad? False\n",
            "origone 151 (Hurlingham) 2016\n",
            "origone 151 (Hurlingham) 2016\n",
            "calle 222 (localidad) 1999\n"
          ]
        }
      ],
      "source": [
        "#_calle = \"origone\"\n",
        "# vamos a definir un tda (o un tipo) nuevo\n",
        "class Propiedad:\n",
        "  def __init__(self, calle, numero, localidad, año, cantAmb):\n",
        "      self._calle = validarTipo(calle, \"calle\", str)\n",
        "      # el numero debe ser un int\n",
        "      self._numero = validarTipo(numero, \"numero\", int)\n",
        "      self._localidad = localidad\n",
        "      self.__año = validarTipo(año, \"año\", int)\n",
        "      self._cantAmb = cantAmb\n",
        "\n",
        "  def modificarCalle(self, nuevaCalle):\n",
        "    self._calle = validarTipo(nuevaCalle, \"calle\", str)\n",
        "\n",
        "  # parte de la interfaz\n",
        "  def año(self):\n",
        "    return self.__año\n",
        "\n",
        "  def calle(self):\n",
        "    return self._calle\n",
        "\n",
        "  def año(self):\n",
        "    return self.__año\n",
        "\n",
        "  def localidad(self):\n",
        "    return self._localidad\n",
        "\n",
        "  def mismaLocalidad(self, otraPropiedad):\n",
        "    return self.localidad() == otraPropiedad.localidad()\n",
        "\n",
        "  def mismaLocalidad(prop1, otraPropiedad):\n",
        "    return prop1.localidad() == otraPropiedad.localidad()\n",
        "\n",
        "  def __repr__(self)->str:\n",
        "    return self._calle + \" \" + self._numero.__repr__() + \" (\" + self._localidad + \")\" + \" \" + self.__año.__repr__()\n",
        "\n",
        "\n",
        "unahur = Propiedad(\"origone\",151, \"Hurlingham\", 2016, 1000)\n",
        "print(unahur.año())\n",
        "\n",
        "ungs = Propiedad(\"direccion2\",151, \"Malvinas Argentinas\", 2016, 1000)\n",
        "\n",
        "#metodo de instancia. ponemos el nombre de la instancia\n",
        "print(unahur.mismaLocalidad(ungs))\n",
        "#metodo de clase. ponermos el nombre de la clase\n",
        "print(\"mismaLocalidad?\", Propiedad.mismaLocalidad(unahur, ungs))\n",
        "\n",
        "print(unahur.__repr__())\n",
        "print(unahur)  # asume que estamos llamando al .__repr__()\n",
        "\n",
        "\n",
        "x  = Propiedad(\"calle\", 222, \"localidad\", 1999, 4)\n",
        "print(x)"
      ]
    },
    {
      "cell_type": "code",
      "execution_count": null,
      "metadata": {
        "colab": {
          "base_uri": "https://localhost:8080/"
        },
        "id": "YosE8mYzAsgo",
        "outputId": "776a5f4e-7da2-4519-d619-3a9381a8d9c9"
      },
      "outputs": [
        {
          "name": "stdout",
          "output_type": "stream",
          "text": [
            "Origone 151 (Hurlingham)\n"
          ]
        }
      ],
      "source": [
        "p1 = Propiedad(\"Origone\", 151, \"Hurlingham\", 2016, 100)\n",
        "p2 = Propiedad(\"Origone\", 151, \"Hurlingham\", 2018, 100)\n",
        "# estoy accediendo a la estructura de datos interna\n",
        "\n",
        "#p1.__año = \"perro\"\n",
        "print(p1)"
      ]
    },
    {
      "cell_type": "code",
      "execution_count": 3,
      "metadata": {
        "colab": {
          "base_uri": "https://localhost:8080/"
        },
        "id": "cmPUHcDPqGLy",
        "outputId": "5c7d4dfc-d124-45e7-bd2b-9beac9e75a78"
      },
      "outputs": [
        {
          "name": "stdout",
          "output_type": "stream",
          "text": [
            "1/1/2023\n"
          ]
        }
      ],
      "source": [
        "# __repr__   sumarUnDia(): agrega 1 dia, por ejemplo. 31/3/2022 -> 1/4/2022\n",
        "# asumir que todos los meses tienen 31 dias.\n",
        "class Fecha:\n",
        "  # constructor\n",
        "  def __init__(self, dia, mes, año):\n",
        "    #estructura de datos\n",
        "    self._año = validarTipo(año, \"año\", int)\n",
        "    #PRE: mes > 0 and mes < 13\n",
        "    self._mes = validarTipo2(mes, \"mes\", int, mes > 0 and mes < 13)\n",
        "    #PRE: dia > 0 and dia < 32\n",
        "    self._dia = validarTipo2(dia, \"dia\", int, dia > 0 and dia < 32 )\n",
        "\n",
        "#metodo de clase\n",
        "  def esBicsiesto(año):\n",
        "    if año % 4 == 0:\n",
        "      return True\n",
        "    else:\n",
        "      return False\n",
        "\n",
        "#PRE: mes > 0 and mes < 13\n",
        "#PRE: dia > 0 and dia < 32\n",
        "#metodo de instancia (recibe \"self\")\n",
        "  def sumarUnDia(self):\n",
        "    self._dia = self._dia + 1\n",
        "\n",
        "  def sumarUnDia(self):\n",
        "    self._dia = self._dia + 1\n",
        "    if self._dia == 32:\n",
        "      self._dia = 1\n",
        "      self._mes = self._mes + 1\n",
        "\n",
        "    if self._mes == 13:\n",
        "      self._mes = 1\n",
        "      self._año = self._año + 1\n",
        "\n",
        "\n",
        "  def __repr__(self):\n",
        "    return self._dia.__repr__() + \"/\" +  self._mes.__repr__() + \"/\" + self._año.__repr__()\n",
        "\n",
        "#fecha = Fecha(31,13,2022)\n",
        "fecha = Fecha(31,12,2022)\n",
        "fecha.sumarUnDia()\n",
        "print(fecha)"
      ]
    },
    {
      "cell_type": "markdown",
      "metadata": {
        "id": "rP1dZEXTe-qq"
      },
      "source": [
        "### **Ejercicio 2**\n",
        "\n",
        "Implementar el TDA \"Cuenta\" que modela una cuenta bancaria, la estructura de datos esta compuesta por los siguientes componentes:\n",
        "- Número de cuenta\n",
        "- DNI del titular\n",
        "- Saldo de cuenta actual\n",
        "- Interés anual\n",
        "\n",
        "Implementar las siguientes operaciones:\n",
        "- Constructor: Debe incluir las validaciones necesarias.\n",
        "- \\_\\_repr__: Al usar la función *print* con una variable del tipo cuenta debe mostrar: **Cuenta Nro: 'numero' - Titular: 'dni' ($'saldo')**.\n",
        "- actualizarSaldo: Operación que actualiza el saldo de la cuenta aplicándole el interés diario (interés anual dividido entre 365).\n",
        "- ingresarDinero: Operación que recibe un número e ingresa esa cantidad en la cuenta.\n",
        "- retirarDinero: Operación que recibe un número y extrae esa cantidad de la cuenta (si hay saldo disponible), sino debe lanzar una excepción.\n",
        "\n",
        "Y ademas hacer otro metodo que..."
      ]
    },
    {
      "cell_type": "code",
      "execution_count": 8,
      "metadata": {
        "id": "IEDFppP6hENW"
      },
      "outputs": [
        {
          "name": "stdout",
          "output_type": "stream",
          "text": [
            "Cuenta Nro: 1234 - Titular: 123433 ($214560.0)\n"
          ]
        }
      ],
      "source": [
        "class Cuenta:\n",
        "  def __init__(self, numero, dni, saldo, interes):\n",
        "    self._numero = validarTipo(numero, \"numero\", int)\n",
        "    self._dni = validarTipo(dni, \"dni\", int)\n",
        "    self._saldo = validarTipo(saldo, \"saldo\", float)\n",
        "    self._porcentajeInteresAnual = validarTipo(interes, \"interes\", float)\n",
        "\n",
        "  def diasPasados(dia,mes):\n",
        "    return (mes-1) *31 + dia\n",
        "\n",
        "  def actualizarSaldo (self):\n",
        "    interesDiario = (self._porcentajeInteresAnual / 365) * diasPasados(26,9)\n",
        "    self._saldo = self._saldo + interesDiario\n",
        "    return(self._saldo)\n",
        "\n",
        "  def ingresarDinero(self,ingresoDinero):\n",
        "    self._saldo = self._saldo + ingresoDinero\n",
        "    return(self._saldo)\n",
        "\n",
        "  def retirarDinero(self,retiroDinero):\n",
        "    if self._saldo > 0:\n",
        "      self._saldo = self._saldo - retiroDinero\n",
        "    else:\n",
        "      raise Exception (\"No tiene dinero en la cuenta\")\n",
        "    return(self._saldo)\n",
        "\n",
        "  def __repr__(self):\n",
        "    return f\"Cuenta Nro: {self._numero} - Titular: {self._dni} (${self._saldo})\"\n",
        "\n",
        "cuenta1 = Cuenta(1234,123433,234560.0,3333.33)\n",
        "cuenta1.retirarDinero(20000)\n",
        "#ingresarDinero(cuenta1,20000)\n",
        "#retirarDinero(cuenta1,100000)\n",
        "\n",
        "print(cuenta1)"
      ]
    },
    {
      "cell_type": "markdown",
      "metadata": {
        "id": "x8DVU8HlhE2q"
      },
      "source": [
        "### **Ejercicio 3**\n",
        "\n",
        "Implementar el TDA \"Tiempo\" que modela una duracion en horas, minutos y segundos.\n",
        "\n",
        "Se deben implementar las siguientes operaciones:\n",
        "- Constructor: Debe incluir las validaciones necesarias, la hora debe ser un número positivo y los minutos y segundos deben ser números positivos entre 0 y 59.\n",
        "- \\_\\_repr__: Al usar la función *print* con una variable del tipo tiempo debe mostrar: **'horas':'minutos':'segundos'**.\n",
        "- tiempoASegundos: Operación que toma una variable de tipo Tiempo y retorna la cantidad en segundos.\n",
        "- tiemposDesdeSegundos: Operación que recibe un tiempo en segundos como parámetro y retorna una variable de tipo Tiempo, en horas minutos y segundos.\n",
        "- mayorDuracion: Operación que recibe dos variables de tipo tiempo y retorna la de mayor duración."
      ]
    },
    {
      "cell_type": "code",
      "execution_count": null,
      "metadata": {},
      "outputs": [
        {
          "name": "stdout",
          "output_type": "stream",
          "text": [
            "4830\n",
            "1:1:5\n",
            "2:10:5\n"
          ]
        }
      ],
      "source": [
        "class Tiempo: \n",
        "    def __init__(self,horas,minutos,segundos):\n",
        "        self._horas = validarTipo(horas,\"horas\",int)\n",
        "        self._minutos = validarTipo2(minutos,\"minutos\",int,0 <= minutos <= 59)\n",
        "        self._segundos = validarTipo2(segundos,\"segundos\",int ,0 <= segundos <=59)\n",
        "\n",
        "    def segundos(self):\n",
        "        return self._segundos\n",
        "    def minutos(self):\n",
        "        return self._minutos\n",
        "    def horas(self):\n",
        "        return self._horas\n",
        "    \n",
        "    #tiempoASegundos(tiempo:Tiempo) \n",
        "    def tiempoASegundos(tiempo) -> int:\n",
        "        segundos = tiempo.segundos()\n",
        "        segundos += tiempo.minutos()*60\n",
        "        segundos += tiempo.horas()*3600\n",
        "        return segundos\n",
        "    \"\"\"\n",
        "    def tiempoDesdeSegundo(self):\n",
        "        self._horas = self._segundos //3600\n",
        "        self._minutos = (self._segundos % 3600) //60\n",
        "        self._segundos = self._segundos % 60\n",
        "        return self._horas, self._minutos, self._segundos\n",
        "     \"\"\"\n",
        "    def desdeSegundos(total_segundos):\n",
        "        horas = total_segundos // 3600\n",
        "        minutos = (total_segundos % 3600) // 60\n",
        "        segundos = total_segundos % 60\n",
        "        return Tiempo(horas, minutos, segundos)\n",
        "    \n",
        "    def mayorDuracion(tiempo1, tiempo2):\n",
        "            if tiempo1.tiempoASegundos() >= tiempo2.tiempoASegundos():\n",
        "                return tiempo1\n",
        "            else:\n",
        "                return tiempo2\n",
        "\n",
        "    def __repr__(self):\n",
        "            return f\"{self._horas}:{self._minutos}:{self._segundos}\"\n",
        "\n",
        "t1 = Tiempo(1, 20, 30)\n",
        "t2 = Tiempo(2, 10, 5)\n",
        "print(t1.tiempoASegundos())\n",
        "print(Tiempo.desdeSegundos(3665))\n",
        "print(Tiempo.mayorDuracion(t1, t2))\n",
        "  "
      ]
    },
    {
      "cell_type": "code",
      "execution_count": null,
      "metadata": {
        "colab": {
          "base_uri": "https://localhost:8080/"
        },
        "id": "ZtL44I9lI1Lf",
        "outputId": "78ae118e-3705-4de5-ac05-1aa7dac9497f"
      },
      "outputs": [
        {
          "name": "stdout",
          "output_type": "stream",
          "text": [
            "(61, 1)\n",
            "repr  1:1:1\n"
          ]
        }
      ],
      "source": [
        "# vamos a hacer un TDA que represente el tiempo medido en hs, seg y min\n",
        "\n",
        "# interfaz\n",
        "#  def __init__(self, hs, min, seg):\n",
        "#  def __repr__(self):\n",
        "#  def enMinutos(self):\n",
        "\n",
        "class Tiempo:\n",
        "  def __init__(self, hs, min, seg):\n",
        "    self.__hs = validarTipo(hs, \"hs\", int)\n",
        "    self.__min = validarTipo2(min, \"min\", int,  0 <= min <= 59  )\n",
        "    self.__seg = validarTipo2(seg, \"seg\", int,  0 <= seg <= 59  )\n",
        "\n",
        "  def seg(self):\n",
        "    return self.__seg\n",
        "  def min(self):\n",
        "    return self.__min\n",
        "  def hs(self):\n",
        "    return self.__hs\n",
        "\n",
        "#Metodo de clase a minutos\n",
        "  def tiempoAMinutos(tiempo):\n",
        "      minutos = tiempo.hs() * 60 + tiempo.min()\n",
        "      segundos = tiempo.seg()\n",
        "      return minutos, segundos\n",
        "\n",
        "  def __repr__(self)->str:\n",
        "    return self.__hs.__repr__() + \":\" + self.__min.__repr__() + \":\" + self.__seg.__repr__()\n",
        "\n",
        "t = Tiempo(1, 1, 1)\n",
        "print(Tiempo.tiempoAMinutos(t))\n",
        "print(\"repr \" , t.__repr__())"
      ]
    },
    {
      "cell_type": "markdown",
      "metadata": {
        "id": "5gcdaYCShYkt"
      },
      "source": [
        "\n",
        "### **Ejercicio 4: TDA en dos niveles**\n",
        "\n",
        "Modelar el TDA \"Cronometro\", que contiene un tiempo inicial y un tiempo final.\n",
        "\n",
        "Se deben implementar las siguientes operaciones:\n",
        "\n",
        "- Constructor: Queremos modelar el tiempo inicial y final con el TDA \"Tiempo\". Se pueden tener dos variables que se inicializaran en otra operación de la interface.\n",
        "- Comenzar: Debe recibir las hs,min y seg iniciales.\n",
        "- Finalizar: Debe recibir las hs,min y seg finales.\n",
        "- TiempoEmpleado: Devuelve una variable de tipo Tiempo con la diferencia entre el tiempo inicial y el final."
      ]
    },
    {
      "cell_type": "code",
      "execution_count": null,
      "metadata": {
        "colab": {
          "base_uri": "https://localhost:8080/"
        },
        "id": "5Y-A98mZkTEq",
        "outputId": "045c3d14-a4b6-4e5e-c48d-fafbfab5cdcb"
      },
      "outputs": [
        {
          "name": "stdout",
          "output_type": "stream",
          "text": [
            "1:0:0\n"
          ]
        }
      ],
      "source": [
        "class Cronometro:\n",
        "  def __init__(self):\n",
        "    self._tiempoInicial = None\n",
        "    self._tiempoFinal = None\n",
        "\n",
        "#Al definir las funciones, si se va  llamar a la clase timepo, los paramertros no serian self, tiempo?\n",
        "# Por que la funcion comenzar \n",
        "  def comenzar(self,  hs:int, min:int, seg:int):\n",
        "    self._tiempoInicial = Tiempo(hs, min, seg)\n",
        "\n",
        "  def finalizar(self,  hs:int, min:int, seg:int):\n",
        "    self._tiempoFinal = Tiempo(hs, min, seg)\n",
        "\n",
        "  def __repr__(self)->str:\n",
        "    return self._tiempoInicial.__repr__() + \" \" + self._tiempoFinal.__repr__()\n",
        "\n",
        "  def tiempoEmpleado(self)->Tiempo:\n",
        "    tInicial = self._tiempoInicial.tiempoASegundos()\n",
        "    tFinal = self._tiempoFinal.tiempoASegundos()\n",
        "    dif = tFinal - tInicial\n",
        "\n",
        "    cHs = dif // 3600\n",
        "    dif = dif - cHs * 3600\n",
        "    cMin = dif // 60\n",
        "    cSeg = dif - cMin * 60\n",
        "\n",
        "    return Tiempo(cHs, cMin, cSeg)\n",
        "\n",
        "c = Cronometro()\n",
        "\n",
        "c.comenzar(1,2,20)\n",
        "c.finalizar(2,2,20)\n",
        "\n",
        "# violamos en encapsulamiento, accediendo a la estructura de datos\n",
        "#c._tiempoInicial = Tiempo(3,3,3)\n",
        "print(c.tiempoEmpleado())"
      ]
    },
    {
      "cell_type": "markdown",
      "metadata": {
        "id": "TX3EbDojGmAV"
      },
      "source": [
        "### **Ejercicio 5: TDA en dos niveles**\n",
        "\n",
        "Modelar el TDA \"Rectangulo\" a partir de los dos lados que lo definen.\n",
        "\n",
        "Se deben implementar las siguientes operaciones:\n",
        "\n",
        "- Constructor: Recibe las longitudes de ambos lados\n",
        "- area: calcula y devuelve el area del rectangulo\n",
        "- perimetro: calcula y devuelve el perimetro\n",
        "- \\_\\_repr__ : imprime la longitud de los lados\n",
        "\n",
        "Luego, modelar el TDA \"Cuadrado\" teniendo unicamente como variable interna en la estructura una variable de tipo \"Rectangulo\". El TDA Cuadrado debe tener las mismas operaciones que el TDA Rectangulo.\n",
        "\n",
        "Ayuda:\n",
        "\n",
        "Área(Rectángulo) = lado1 \\* lado2\n",
        "\n",
        "Área(Cuadrado) = lado^2\n",
        "\n",
        "Perímetro(Rectangulo) = 2 \\* lado1 + 2 \\* lado2\n",
        "\n",
        "Perímetro(Cuadrado) = 4 \\* lado"
      ]
    },
    {
      "cell_type": "code",
      "execution_count": null,
      "metadata": {
        "id": "X7EFCmDFG5Ph"
      },
      "outputs": [],
      "source": [
        "class Rectangulo:\n",
        "    def __init__(self, lado1: float, lado2: float):\n",
        "        self._lado1 = lado1\n",
        "        self._lado2 = lado2\n",
        "\n",
        "    def areaRectangulo(self) -> float:\n",
        "        return self._lado1 * self._lado2\n",
        "\n",
        "    def perimetroRectangulo(self) -> float:\n",
        "        return 2 * self._lado1 + 2 * self._lado2\n",
        "\n",
        "class Cuadrado:\n",
        "    def __init__(self, lado):\n",
        "        self._ladoConRectangulo = Rectangulo(lado, lado)\n",
        "\n",
        "    def areaCuadrado(self) -> float:\n",
        "        return self._ladoConRectangulo.areaRectangulo()\n",
        "\n",
        "    def perimetroCuadrado(self) -> float:\n",
        "        return self._ladoConRectangulo.perimetroRectangulo()\n",
        "\n"
      ]
    },
    {
      "cell_type": "code",
      "execution_count": null,
      "metadata": {},
      "outputs": [
        {
          "data": {
            "text/plain": [
              "6"
            ]
          },
          "execution_count": 26,
          "metadata": {},
          "output_type": "execute_result"
        }
      ],
      "source": [
        "unCuadrado = Cuadrado(4)\n",
        "unCuadrado.perimetroCuadrado()\n",
        "unRectangulo = Rectangulo(2,3)\n",
        "unRectangulo.perimetroRectangulo()\n",
        "unRectangulo.areaRectangulo()"
      ]
    },
    {
      "cell_type": "markdown",
      "metadata": {
        "id": "f1uPAbCd4Cp8"
      },
      "source": [
        "### **Ejercicio 06** TDA con arreglos\n",
        "\n",
        "La unaHur nos pidió ayuda para administrar las aulas del campus.\n",
        "Se debe iniciar el TDA Laboratorios con la cantidad de aulas disponibles, cosa que no va a cambiar.\n",
        "\n",
        "Cada aula tiene una cantidad de computadoras, una cantidad de sillas y la cantidad de ventanas.\n",
        "\n",
        "Se recomienda crear primero el TDA Aula.\n",
        "\n",
        "Implementar al menos las siguientes operaciones del TAD Laboratorios:\n",
        "definirAula(indiceAula, cantCompus, cantVentanas, cantSillas)\n",
        "donde el índice está entre 0 y la cantidad de laboratorios con que se inicializó.\n",
        "\n",
        "Si el aula ya existía, se tiene que redefinir(modificar).\n",
        "\n",
        "aulaConMasVentanas():  \n",
        "que devuelve el aula con más ventanas. Notar que no necesariamente están todas las aulas estan definidas.\n",
        "\n",
        "vaciarAulas():\n",
        "que elimina las aulas definidos\n",
        "\n",
        "¡No son las únicas operaciones necesarias, agregar los métodos que crean necesarios, como el constructor!\n",
        "\n",
        "Se recomienda pensarlo antes de mirar una solucion\n",
        "\n",
        "Solucion: https://colab.research.google.com/drive/1wZfUYsuWxeOFgH_XFWaM_pgl71QRFTHZ?usp=sharing"
      ]
    },
    {
      "cell_type": "code",
      "execution_count": null,
      "metadata": {},
      "outputs": [],
      "source": [
        "import numpy as np\n",
        "\n",
        "class Aula:\n",
        "  def __init__(self, id, cantVentanas, cantcompus, cantSillas):\n",
        "    self._id = id\n",
        "    self._cantVentanas = cantVentanas\n",
        "    self._cantCompus = cantcompus\n",
        "    self._cantSillas = cantSillas\n",
        "\n",
        "  def __repr__(self)->str:\n",
        "    return self._id.__repr__() + self._cantVentanas.__repr__() + \\\n",
        "      self._cantCompus.__repr__() + self._cantSillas.__repr__()\n",
        "\n",
        "class Laboratorios:\n",
        "  def __init__(self,  cantAulas):\n",
        "    self._cantAulas = cantAulas\n",
        "    self._aulas = np.full(cantAulas, None, Aula)\n",
        "\n",
        "  def definirAula(self, idAula, cantVentanas, cantcompus, cantSillas):\n",
        "    self._aulas[idAula] = Aula(idAula, cantVentanas, cantcompus, cantSillas)\n",
        "\n",
        "  def __repr__(self)->str:\n",
        "    ret = \"\"\n",
        "    for i in range(self._cantAulas):\n",
        "      ret = ret + self._aulas[i].__repr__() + \"\\n\"\n",
        "    return ret"
      ]
    },
    {
      "cell_type": "code",
      "execution_count": null,
      "metadata": {},
      "outputs": [],
      "source": [
        "labos = Laboratorios(10)\n",
        "labos.definirAula(0, 4, 10, 10)\n",
        "labos.definirAula(1, 5, 12, 15)\n",
        "labos.definirAula(2, 6, 8, 20)\n",
        "labos.definirAula(3, 3, 9, 18)\n",
        "labos.definirAula(4, 7, 11, 22)\n",
        "labos.definirAula(5, 2, 7, 14)\n",
        "labos.definirAula(6, 8, 13, 25)\n",
        "labos.definirAula(7, 4, 10, 16)\n",
        "labos.definirAula(8, 5, 12, 19)\n",
        "labos.definirAula(9, 6, 8, 21)\n",
        "print(labos)"
      ]
    },
    {
      "cell_type": "markdown",
      "metadata": {},
      "source": [
        "# Ejercicio 07b\n",
        "\n",
        "Generar una matiz m de 3x3 y para cada tupla de arr (que representa una coordenda de la matriz m) vamos a poner un 1."
      ]
    },
    {
      "cell_type": "code",
      "execution_count": 40,
      "metadata": {},
      "outputs": [
        {
          "name": "stdout",
          "output_type": "stream",
          "text": [
            "1 2\n",
            "0 1\n",
            "1 1\n",
            "[[0 5 0]\n",
            " [0 5 5]\n",
            " [0 0 0]]\n"
          ]
        }
      ],
      "source": [
        "matriz = np.zeros((3,3),int)\n",
        "arr = np.array([(1,2),(0,1),(1,1)])\n",
        "\n",
        "def ejercicio(matriz,arr):\n",
        "\n",
        "    for i in range(len(arr)):\n",
        "        fila,col = arr[i]\n",
        "        print(fila,col)\n",
        "        matriz[fila][col] = 5\n",
        "    print(matriz)\n",
        "\n",
        "ejercicio(matriz,arr)"
      ]
    },
    {
      "cell_type": "markdown",
      "metadata": {},
      "source": [
        "# Ejercicio 06A\n",
        "\n",
        "a) Implementar el TDA Vehiculo que se reprsentan con una matriz de n x m asientos.\n",
        "En cada asiento necesitamos almacenar el color y el tamaño\n",
        "Se recomienda primero generar el TDA Asiento.\n",
        "Todos deben tener __init__() y __repr__()\n",
        "\n",
        "b) Implementar el metodo agregarAsientos. que recive un arreglo de nuplas con los valores de cada asiento. Ejemplo asientos: np.array([(0,0,5,\"Rojo\"),(0,1,4,\"Verde\")])"
      ]
    },
    {
      "cell_type": "code",
      "execution_count": 23,
      "metadata": {},
      "outputs": [],
      "source": [
        "import numpy as np\n",
        "class Asiento:\n",
        "    def __init__(self,color:str,tamaño:int):\n",
        "        self.__color = color\n",
        "        self.__tamaño = tamaño\n",
        "\n",
        "    def __repr__(self) -> str:\n",
        "        return self.__color.__repr__() + self.__tamaño.__repr__()\n",
        "\n",
        "class Auto:\n",
        "    def __init__(self,filas:int,columnas:int):\n",
        "        self.__asientos = np.full((filas,columnas),None,Asiento)\n",
        "        self.__filas = filas\n",
        "        self.__columnas = columnas\n",
        "        \n",
        "    \n",
        "    def asignarAsientos(self,color:str,tamaño:int,fila:int,columna:int):\n",
        "        asiento1 = Asiento(color,tamaño)\n",
        "        self.__asientos[fila][columna] = asiento1 \n",
        "\n",
        "    def __repr__(self) -> str:\n",
        "        return self.__asientos.__repr__()"
      ]
    },
    {
      "cell_type": "code",
      "execution_count": null,
      "metadata": {},
      "outputs": [
        {
          "name": "stdout",
          "output_type": "stream",
          "text": [
            "array([['Blanco'50, 'C'3],\n",
            "       ['A'4, 'C'2]], dtype=object)\n"
          ]
        }
      ],
      "source": [
        "auto1 = Auto(2,2)\n",
        "auto1.asignarAsientos(\"Blanco\",50,0,0)\n",
        "auto1.asignarAsientos(\"A\",4,1,0)\n",
        "auto1.asignarAsientos(\"C\",3,0,1)\n",
        "auto1.asignarAsientos(\"C\",2,1,1)\n",
        "print(auto1)\n"
      ]
    },
    {
      "cell_type": "markdown",
      "metadata": {
        "id": "T_5Z14m34RGh"
      },
      "source": [
        "### **Ejercicio 07**  TDA con Arreglos\n",
        "\n",
        "La nueva computadora del LIDEC necesita un algoritmo que administre los programas que se cargan en memoria. Para este ejercicio, un programa, es una secuencia de unos y ceros de longitud fija.\n",
        "\n",
        "Cada programa debe tener:\n",
        "\n",
        "-Un nombre\n",
        "\n",
        "-Una secuencia de unos y ceros de tamaño conocido.\n",
        "\n",
        "-En qué fila de la memoria está cargado (-1 si no está cargado).\n",
        "\n",
        "La computadora puede hacer dos cosas, (1) Almacenar un programa en una lista. (2) Cargar el programa en memoria. La memoria es una matriz de una cantidad de filas y columnas conocidas, en donde en cada fila se puede almacenar un programa a la vez.\n",
        "\n",
        "Implementar el TDA Compu que contenga al menos las siguientes operaciones:\n",
        "init(nombre, cantFilas, cantColumnas): Que recibe la cantidad de filas y columnas de la memoria.\n",
        "\n",
        "agregarPrograma(nombrePrograma, listaDatos): Recibe el nombre del programa y la lista de unos y ceros. Si el nombre del programa ya existe, debe arrojar una excepción.\n",
        "\n",
        "cargarPrograma(nombre) → bool: Recibe el nombre del programa que se quiere cargar en memoria. Si el nombre es incorrecto o el programa ya se encontraba en memoria no hace nada. Cada programa debe “entrar” en una sola fila de la memoria. Es decir, solo se carga en memoria la secuencia de unos y ceros dentro de la primera fila que se encuentre disponible. Si el programa no entra en ninguna fila ya sea porque es muy largo o porque no hay filas disponibles, se debe arrojar una excepción.  Por último debe marcar en la lista de programas el número de fila de memoria utilizado, en el programa correspondiente. La función devuelve verdadero si pudo cargar el programa y falso sino.\n",
        "\n",
        "repr(): que muestra la lista de programas, su ubicación en memoria y la memoria de la computadora.\n",
        "\n",
        "Ayuda:  Implementar primero el TDA Programa  y la lista de programas de el tda Compu. Se puede usar cualquier estrategia para ver que fija está disponible, por ejemplo, tener una lista de “filas disponibles” al principio.\n",
        "\n",
        "Notas:\n",
        "No son las únicas operaciones necesarias, agregar las operaciones y funciones que consideren necesarias.\n",
        "\n",
        "Una memoria vacía contiene ceros en todas las posiciones.\n",
        "La memoria es una matriz, pero se recibe una lista como parámetro en las funciones. NO se deben mezclar dos tipos de datos distintos.\n",
        "\n",
        "Recomendamos hacer el ejercicio antes de ver la solucion\n",
        "\n",
        "Solucion: https://colab.research.google.com/drive/1ugkUk9CiBqFrIVR6pO2N7IHIv1MVzkz8?usp=sharing\n"
      ]
    },
    {
      "cell_type": "code",
      "execution_count": null,
      "metadata": {},
      "outputs": [],
      "source": [
        "import numpy as np\n",
        "\n",
        "class Programa:\n",
        "    def __init__(self, nombre, listaCerosYUnos):\n",
        "        self._nombre = nombre\n",
        "        self._listaCerosYUnos = listaCerosYUnos\n",
        "        self._filaEnMemoria = -1  # indicando la fila que ocupa en memoria\n",
        "\n",
        "    def __repr__(self):\n",
        "        return f\"{self._nombre}: cargado en fila {self._filaEnMemoria}\"\n",
        "\n",
        "class Compu:\n",
        "    def __init__(self, nombre, cantFilas, cantColumnas):\n",
        "        self._nombre = nombre\n",
        "        self._cantFilas = cantFilas\n",
        "        self._cantColumnas = cantColumnas\n",
        "        self._memoria = np.zeros((cantFilas, cantColumnas), int)\n",
        "        self._programas = []\n",
        "\n",
        "    def agregarPrograma(self, nombrePrograma, listaCerosYUnos):\n",
        "        for prog in self._programas:\n",
        "            if prog._nombre == nombrePrograma:\n",
        "                raise Exception(\"El nombre del programa ya existe\")\n",
        "        programa = Programa(nombrePrograma, listaCerosYUnos)\n",
        "        self._programas.append(programa)\n",
        "\n",
        "    def cargarPrograma(self, nombre) -> bool:\n",
        "        for prog in self._programas:\n",
        "            if prog._nombre == nombre:\n",
        "                if prog._filaEnMemoria != -1:\n",
        "                    return False  # Ya está cargado\n",
        "                # Buscar fila disponible\n",
        "                for i in range(self._cantFilas):\n",
        "                    if np.all(self._memoria[i] == 0):\n",
        "                        if len(prog._listaCerosYUnos) > self._cantColumnas:\n",
        "                            raise Exception(\"El programa es muy largo para la memoria\")\n",
        "                        self._memoria[i, :len(prog._listaCerosYUnos)] = prog._listaCerosYUnos\n",
        "                        prog._filaEnMemoria = i\n",
        "                        return True\n",
        "                raise Exception(\"No hay filas disponibles\")\n",
        "        return False  # No existe el programa\n",
        "\n",
        "    def __repr__(self) -> str:\n",
        "        ret = \"\"\n",
        "        for prog in self._programas:\n",
        "            ret += f\"{prog}\\n\"\n",
        "        for fila in self._memoria:\n",
        "            ret += \",\".join(str(x) for x in fila) + \"\\n\"\n",
        "        return ret"
      ]
    },
    {
      "cell_type": "code",
      "execution_count": null,
      "metadata": {},
      "outputs": [],
      "source": [
        "# Test del ejercicio\n",
        "clementina = Compu('clementina',3,15)\n",
        "clementina.agregarPrograma('gorila.bas',  [0,1,0,1,0,0,0,1,1,1,1])\n",
        "clementina.agregarPrograma('autoexec.bat',  [0,1,0,1,0,0,1,1,0,1,1,1,1])\n",
        "clementina.agregarPrograma('chrome.exe',  [0,1,0,1,0,0,1,1,0,1,1,1,1,0,0,0,0,1,1,1,1,1])\n",
        "clementina.cargarPrograma('gorila.bas')\n",
        "clementina.cargarPrograma('autoexec.bat')\n",
        "# clementina.cargarPrograma('chrome.exe')  # Esto arroja excepción porque no entra\n",
        "print(clementina)"
      ]
    },
    {
      "cell_type": "code",
      "execution_count": 32,
      "metadata": {
        "id": "pC2eDezS4XZU"
      },
      "outputs": [
        {
          "name": "stdout",
          "output_type": "stream",
          "text": [
            "\n"
          ]
        }
      ],
      "source": [
        "# Asumiendo que parte de la interfaz del TDA Programa es la siguiente:\n",
        "class Programa:\n",
        "  def __init__(self, nombre, listaCerosYUnos):\n",
        "    self._nombre = nombre\n",
        "    self._listaCerosYUnos = listaCerosYUnos\n",
        "    self._filaEnMemoria = -1  # indicando la fila que ocupa en memoria\n",
        "\n",
        "class Compu:\n",
        "  def __init__(self, nombre, cantFilas, cantColumnas):\n",
        "    self._nombre = nombre\n",
        "    self._cantFilas = cantFilas\n",
        "    self._cantColumnas = cantColumnas\n",
        "    # terminar de implementar\n",
        "\n",
        "  def agregarPrograma(self, nombrePrograma, listaCerosYUnos):\n",
        "    # terminar de implementar\n",
        "    programa = Programa(nombrePrograma, listaCerosYUnos)\n",
        "\n",
        "  def cargarPrograma(self, nombre)->bool:\n",
        "    # terminar de implementar\n",
        "    return False\n",
        "\n",
        "  def __repr__(self)-> str:\n",
        "    # terminar de implementar\n",
        "    return \"\"\n",
        "\n",
        "#El TDA Compu deberá superar este test:\n",
        "# creamos una computadora con una memoria de 3x15\n",
        "clementina = Compu('clementina',3,15)\n",
        "# notar que tengo que crear el programa antes de agregarlo a la lista programas\n",
        "clementina.agregarPrograma('gorila.bas',  [0,1,0,1,0,0,0,1,1,1,1])\n",
        "clementina.agregarPrograma('autoexec.bat',  [0,1,0,1,0,0,1,1,0,1,1,1,1])\n",
        "clementina.agregarPrograma('Chome.exe',  [0,1,0,1,0,0,1,1,0,1,1,1,1,0,0,0,0,1,1,1,1,1])\n",
        "clementina.cargarPrograma('gorila.bas')\n",
        "clementina.cargarPrograma('autoexec.bat')\n",
        "# debería arrojar una excepción porque no entra en ninguna fila.\n",
        "# clementina.cargarPrograma(“chrome.exe”)\n",
        "print(clementina)\n",
        "# asumiendo que se cargaron 2 programas en las dos primeras filas, debería imprimir:\n",
        "#gorilla.bas:  cargado en fila 0\n",
        "#autoexec.bat:  cargado en fila 1\n",
        "#chrome.exe: -1 , indicando que no está cargado\n",
        "#0,1,0,1,0,0,0,1,1,1,1,0,0,0\n",
        "#0,1,0,1,0,0,1,1,0,1,1,1,1,0\n",
        "#0,0,0,0,0,0,0,0,0,0,0,0,0,0\n"
      ]
    },
    {
      "cell_type": "markdown",
      "metadata": {
        "id": "30rZj5FbkT9T"
      },
      "source": [
        "### **Ejercicio 08 (opcional)**\n",
        "\n",
        "Las plataformas de música online como ***YouTube*** y ***Spotify*** almacenan la información asociada a las canciones en estructuras de datos complejas para hacer las búsquedas de manera eficiente. Para esto se deben modelar las canciones. Implementar el TDA \"Cancion\" con los siguientes componentes:\n",
        "- Nombre\n",
        "- Artista\n",
        "- Duración\n",
        "- Género musical (6 posibles: Rock, Jazz, Blues, Funk, Reggae y Rap).\n",
        "- Año de edición\n",
        "- Número de likes\n",
        "\n",
        "Implementar las siguientes operaciones:\n",
        "- Constructor: Debe incluir las validaciones necesarias.\n",
        "- \\_\\_repr__: Al usar la función *print* con una variable del tipo canción debe mostrar: **'nombre' - 'artista' ('duracion')**.\n",
        "- mayorDuracion: Operación que recibe dos canciones por parámetros y retorna la de mayor duración.\n",
        "- agregaLikes: Operación que recibe un número e incrementa la cantidad de likes de la canción en ese número.\n",
        "- masVotada: Operacion que recibe dos canciones y sin son del mismo artista y del mismo género musical, retorna la que tiene mayor cantidad de likes. En caso contrario debe lanzar una excepción."
      ]
    },
    {
      "cell_type": "code",
      "execution_count": 25,
      "metadata": {
        "id": "6PllhJFLxsp_"
      },
      "outputs": [],
      "source": [
        "class Cancion:\n",
        "    def __init__(self,nombre,artista,duracion,genero,año,numLikes):\n",
        "        self._nombre = nombre\n",
        "        self._artista = artista\n",
        "        self._duracion = duracion \n",
        "        self._genero = genero \n",
        "        self._año = año \n",
        "        self._numLikes = numLikes\n",
        "    \n",
        "    def mayorDuracion(cancion1, cancion2):\n",
        "        if cancion1._duracion >= cancion2._duracion:\n",
        "            return cancion1 \n",
        "        else:\n",
        "            return cancion2\n",
        "    \n",
        "    def getNroLikes(self):\n",
        "        return self._numLikes\n",
        "        \n",
        "    def agregarLikes(self,numeroLikes):\n",
        "        self._numLikes += numeroLikes\n",
        "        return self._numLikes\n",
        "    \n",
        "    def masVotada(cancion1,cancion2):\n",
        "        if cancion1._artista == cancion2._artista and cancion1._genero == cancion2._genero:\n",
        "            if cancion1._numLikes > cancion2._numLikes:\n",
        "                return cancion1\n",
        "            else:\n",
        "                return cancion2 \n",
        "        else:\n",
        "            raise Exception (\"No tiene el mismo artista/genero\")\n",
        "        \n",
        "    def __repr__(self):\n",
        "        return f\"{self._nombre} - {self._artista} ({self._duracion})\"\n"
      ]
    },
    {
      "cell_type": "code",
      "execution_count": 26,
      "metadata": {},
      "outputs": [
        {
          "name": "stdout",
          "output_type": "stream",
          "text": [
            "Mayor duración: Cancion A\n",
            "Likes c1: 50\n",
            "Likes c1 después: 60\n",
            "Más votada: Cancion B\n"
          ]
        }
      ],
      "source": [
        "c1 = Cancion(\"Cancion A\", \"Artista X\", 210, \"pop\", 2020, 50)  # 3:30 = 210s\n",
        "c2 = Cancion(\"Cancion B\", \"Artista X\", 200, \"pop\", 2021, 75)\n",
        "\n",
        "# mayor duración\n",
        "mayor = Cancion.mayorDuracion(c1, c2)\n",
        "print(\"Mayor duración:\", mayor._nombre)  # muestra \"Cancion A\"\n",
        "\n",
        "# likes\n",
        "print(\"Likes c1:\", c1.getNroLikes())  # 50\n",
        "c1.agregarLikes(10)\n",
        "print(\"Likes c1 después:\", c1.getNroLikes())  # 60\n",
        "\n",
        "# más votada (mismo artista/género)\n",
        "masVotada = Cancion.masVotada(c1, c2)\n",
        "print(\"Más votada:\", masVotada._nombre)  # dependiendo de los likes, aquí \"Cancion B\" (75) o \"Cancion A\" (60)\n"
      ]
    },
    {
      "cell_type": "code",
      "execution_count": 3,
      "metadata": {
        "colab": {
          "base_uri": "https://localhost:8080/"
        },
        "id": "kEzrrUsUyiqM",
        "outputId": "07b7e8b9-9ef8-4320-fbf1-ad648d272e37"
      },
      "outputs": [
        {
          "name": "stdout",
          "output_type": "stream",
          "text": [
            "<__main__.Cancion object at 0x000002A24DB3C950>\n"
          ]
        },
        {
          "ename": "NameError",
          "evalue": "name 'mayorDuracion' is not defined",
          "output_type": "error",
          "traceback": [
            "\u001b[31m---------------------------------------------------------------------------\u001b[39m",
            "\u001b[31mNameError\u001b[39m                                 Traceback (most recent call last)",
            "\u001b[36mCell\u001b[39m\u001b[36m \u001b[39m\u001b[32mIn[3]\u001b[39m\u001b[32m, line 4\u001b[39m\n\u001b[32m      2\u001b[39m cancion2 = Cancion(\u001b[33m\"\u001b[39m\u001b[33mBad Romance\u001b[39m\u001b[33m\"\u001b[39m, \u001b[33m\"\u001b[39m\u001b[33mLuis Miguel\u001b[39m\u001b[33m\"\u001b[39m, \u001b[32m220\u001b[39m, \u001b[33m\"\u001b[39m\u001b[33mBalada\u001b[39m\u001b[33m\"\u001b[39m, \u001b[32m2005\u001b[39m, \u001b[32m111000\u001b[39m)\n\u001b[32m      3\u001b[39m \u001b[38;5;28mprint\u001b[39m(cancion1)\n\u001b[32m----> \u001b[39m\u001b[32m4\u001b[39m \u001b[43mmayorDuracion\u001b[49m((cancion1, cancion2))\n\u001b[32m      5\u001b[39m \u001b[38;5;28mprint\u001b[39m(mayorDuracion(cancion1, cancion2))\n\u001b[32m      6\u001b[39m cancion1.setDuracion(\u001b[32m300\u001b[39m)\n",
            "\u001b[31mNameError\u001b[39m: name 'mayorDuracion' is not defined"
          ]
        }
      ],
      "source": [
        "cancion1 = Cancion(\"Sueña\", \"Luis Miguel\", 180, \"Balada\", 1995, 10000)\n",
        "cancion2 = Cancion(\"Bad Romance\", \"Luis Miguel\", 220, \"Balada\", 2005, 111000)\n",
        "print(cancion1)\n",
        "mayorDuracion((cancion1, cancion2))\n",
        "print(mayorDuracion(cancion1, cancion2))\n",
        "cancion1.setDuracion(300)\n",
        "print(mayorDuracion(cancion1, cancion2))\n",
        "print(cancion2.getNroLikes())\n",
        "cancion2.agregaLikes(5500)\n",
        "print(cancion2.getNroLikes())\n",
        "print(cancion1.masVotada(cancion2))\n",
        "cancion1.agregaLikes(200000)\n",
        "print(cancion1.masVotada(cancion2))\n",
        "\n"
      ]
    },
    {
      "cell_type": "markdown",
      "metadata": {
        "id": "1yx_0M8PtkmE"
      },
      "source": [
        "### **Ejercicio 09 (opcional)**\n",
        "\n",
        "Implementar el TDA \"Quiniela\" que modela un juego de quiniela con dos números premiados. La estructura contiene:\n",
        "- Primer número premiado\n",
        "- Segundo número premiado\n",
        "- Multiplicador (cuánto se paga por cada peso apostado)\n",
        "\n",
        "Implementar las siguientes operaciones:\n",
        "- Constructor: Debe incluir las validaciones necesarias, teniendo en cuenta que los números que participan se encuentran entre 0 y 999.\n",
        "- \\_\\_repr__: Al usar la función *print* con una variable del tipo quiniela debe mostrar: **Primer número ganador: 'numero' - Segundo número ganador: 'numero' - Paga: 'multiplicador'X**.\n",
        "- esNumeroGanador: Operación que recibe un número por parámetros y retorna *True* si el número resultó ganador o *False* en caso contrario.\n",
        "- importeAPagar: Operación que recibe un número y el monto apostado por parámetros y retorna el importe a pagar si la apuesta es ganadora o 0 en caso contrario. Si el número es el primer premio, se paga 'mutiplicador' por cada peso apostado, si es el segundo premio se paga la mitad. Solo se aceptan apuestas hasta $1000.\n",
        "- premiadosCercanos: Operación que retorna *True* si los números premiados están a menos de 10 números de distancia y *False* en caso contrario.\n",
        "\n",
        "\n"
      ]
    },
    {
      "cell_type": "code",
      "execution_count": null,
      "metadata": {
        "id": "05VjOJFp0UP2"
      },
      "outputs": [],
      "source": []
    }
  ],
  "metadata": {
    "colab": {
      "include_colab_link": true,
      "provenance": []
    },
    "kernelspec": {
      "display_name": "Python 3",
      "name": "python3"
    },
    "language_info": {
      "codemirror_mode": {
        "name": "ipython",
        "version": 3
      },
      "file_extension": ".py",
      "mimetype": "text/x-python",
      "name": "python",
      "nbconvert_exporter": "python",
      "pygments_lexer": "ipython3",
      "version": "3.12.0"
    }
  },
  "nbformat": 4,
  "nbformat_minor": 0
}
