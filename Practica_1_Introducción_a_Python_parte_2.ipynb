{
  "cells": [
    {
      "cell_type": "markdown",
      "metadata": {
        "colab_type": "text",
        "id": "view-in-github"
      },
      "source": [
        "<a href=\"https://colab.research.google.com/github/B-Lina/ProgramacionII-UNAHUR/blob/main/Practica_1_Introducci%C3%B3n_a_Python_parte_2.ipynb\" target=\"_parent\"><img src=\"https://colab.research.google.com/assets/colab-badge.svg\" alt=\"Open In Colab\"/></a>"
      ]
    },
    {
      "cell_type": "markdown",
      "metadata": {
        "id": "42630xxYD0gZ"
      },
      "source": [
        "# ![alt text](https://upload.wikimedia.org/wikipedia/commons/thumb/c/c3/Python-logo-notext.svg/50px-Python-logo-notext.svg.png) **Trabajo Práctico 1: Programación en Python parte 2** ![alt text](https://upload.wikimedia.org/wikipedia/commons/thumb/c/c3/Python-logo-notext.svg/50px-Python-logo-notext.svg.png)\n",
        "\n",
        "En este trabajo práctico, vamos a ir resolviendo ejercicios que nos permitan aprender a usar funciones y procedimientos en Python.\n",
        "\n",
        "La idea es que ustedes vayan resolviendo los ejercicios sin la necesidad de instalarse nada en sus computadoras.\n",
        "Antes que nada, creen una copia de este archivo en su ***Google Drive*** para tener permisos de edición, luego pueden compartirlo con quien quieran, tengan cuidado con los permisos al momento de compartir!!!!!!!. Si quieren, nos pueden compartir su documento a los docentes para que hagamos las correcciones.\n",
        "\n",
        "\n",
        "### Martin: **martin.pustilnik@unahur.edu.ar** ###"
      ]
    },
    {
      "cell_type": "code",
      "execution_count": null,
      "metadata": {
        "colab": {
          "base_uri": "https://localhost:8080/"
        },
        "id": "SCLsMGG5s7J0",
        "outputId": "93094256-c0a6-4d07-cf5d-a7dc1469c01f"
      },
      "outputs": [
        {
          "name": "stdout",
          "output_type": "stream",
          "text": [
            "3\n",
            "9\n"
          ]
        }
      ],
      "source": [
        "def suma(x:int = 0, y:int = 0, z:int = 0)->int:\n",
        "  return x+y+z\n",
        "print(suma(1,1,1))\n",
        "print(suma(x = 1, y = 8))"
      ]
    },
    {
      "cell_type": "markdown",
      "metadata": {
        "id": "DyzOhAhyXPt8"
      },
      "source": [
        "### **Ejercicio 1**\n",
        "\n",
        "Escribir un procedimiento que muestre por pantalla la cadena “Hola mundo!!!” cada vez que se la invoque"
      ]
    },
    {
      "cell_type": "code",
      "execution_count": null,
      "metadata": {
        "colab": {
          "base_uri": "https://localhost:8080/"
        },
        "id": "e_93vxkBXYpi",
        "outputId": "06c45140-d871-4b04-8bcc-def3dcb686fc"
      },
      "outputs": [
        {
          "name": "stdout",
          "output_type": "stream",
          "text": [
            "11\n",
            "(4.3, 9)\n",
            "2 3\n"
          ]
        }
      ],
      "source": [
        "# caso 1\n",
        "#PRE: a y b son enteros\n",
        "def funcion2(a:int,b:int, c = 2)-> int:\n",
        "  if type(a) != int:\n",
        "    raise TypeError(\"a debe ser un numero entero\")\n",
        "  if type(b) != int:\n",
        "    raise TypeError(\"b debe ser un numero entero\")\n",
        "  return a+c\n",
        "\n",
        "\n",
        "# caso 2\n",
        "# devuelvo una tupla. es una tupla con dos numeros...\n",
        "def funcion(a:int,b:int, c = 2)->tuple[int,int]:\n",
        "  return a+1,b+c\n",
        "\n",
        "a=1\n",
        "b=1\n",
        "\n",
        "print(funcion2(3,b,8))\n",
        "\n",
        "# imprime una tupla\n",
        "print(funcion(3.3,b,8))\n",
        "#print(funcion(0.2,0.2))\n",
        "\n",
        "#imprime los dos nuemeros de la tupla por separado\n",
        "print(funcion(a,b)[0], funcion(a,b)[1])\n",
        "\n"
      ]
    },
    {
      "cell_type": "markdown",
      "metadata": {
        "id": "_9YcxspbXZQl"
      },
      "source": [
        "### **Ejercicio 2**\n",
        "\n",
        "Escribir un procedimiento que se le pase por parámetros una cadena 'nombre' y muestre por pantalla: “Hola 'nombre'!!!”"
      ]
    },
    {
      "cell_type": "code",
      "execution_count": 3,
      "metadata": {
        "colab": {
          "base_uri": "https://localhost:8080/"
        },
        "id": "GpqCZL84ZSCo",
        "outputId": "443af918-d4da-4287-f9db-9370ff6c97a5"
      },
      "outputs": [
        {
          "name": "stdout",
          "output_type": "stream",
          "text": [
            "Hola Lina\n"
          ]
        }
      ],
      "source": [
        "def ej1(nombre):\n",
        "  print(\"Hola\",nombre)\n",
        "ej1(\"Lina\")"
      ]
    },
    {
      "cell_type": "markdown",
      "metadata": {
        "id": "rXKNqmsmXgLa"
      },
      "source": [
        "### **Ejercicio 3**\n",
        "\n",
        "Escribir una función que calcule y retorne el factorial de un número natural. La operación factorial (!) se define de la siguiente manera:\n",
        "\n",
        "![image.png](data:image/png;base64,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)"
      ]
    },
    {
      "cell_type": "code",
      "execution_count": 34,
      "metadata": {},
      "outputs": [
        {
          "data": {
            "text/plain": [
              "120"
            ]
          },
          "execution_count": 34,
          "metadata": {},
          "output_type": "execute_result"
        }
      ],
      "source": [
        "def factorial (n:int) -> int:\n",
        "    if n < 0:\n",
        "        raise ValueError(\"El numero debe ser no negativo\")\n",
        "    if n == 0:\n",
        "        return 1\n",
        "    resultado = 1\n",
        "    for i in range(1, n+1):\n",
        "        resultado = resultado*i\n",
        "    return resultado\n",
        "\n",
        "factorial(5)\n",
        "        "
      ]
    },
    {
      "cell_type": "markdown",
      "metadata": {
        "id": "731rz7uWYpu6"
      },
      "source": [
        "### **Ejercicio 4**\n",
        "\n",
        "Escribir una función que calcule el total de una factura tras aplicarle el IVA. La función debe recibir el importe sin IVA y el porcentaje de IVA a aplicar, y devolver el total de la factura. Si se invoca la función sin pasarle el porcentaje de IVA, deberá aplicar un 21%."
      ]
    },
    {
      "cell_type": "code",
      "execution_count": 44,
      "metadata": {},
      "outputs": [
        {
          "data": {
            "text/plain": [
              "37500.0"
            ]
          },
          "execution_count": 44,
          "metadata": {},
          "output_type": "execute_result"
        }
      ],
      "source": [
        "#Importe sin iva, porcentaje de iva, total a pagar, por dfecto \n",
        "\n",
        "def calcular_iva(valor_sin_iva:float, porcentaje_iva:float = 21.0)->float:\n",
        "    if valor_sin_iva < 0:\n",
        "        raise ValueError(\"El valor sin iva debe ser no negativo\")\n",
        "    if porcentaje_iva < 0:\n",
        "        raise ValueError(\"El porcentaje de iva debe ser no negativo\")\n",
        "    valor_iva = valor_sin_iva * (porcentaje_iva / 100)\n",
        "    total_a_pagar = valor_sin_iva + valor_iva\n",
        "    #total_a_pagar = valor_sin_iva * (1 + porcentaje_iva / 100)\n",
        "    return total_a_pagar\n",
        "\n",
        "calcular_iva(25000,50)"
      ]
    },
    {
      "cell_type": "markdown",
      "metadata": {
        "id": "RB5dqJlrZSXp"
      },
      "source": [
        "### **Ejercicio 5**\n",
        "\n",
        "Escribir la función máximo, que recibe 2 números por parámetro y retorna el mayor. Luego, usando esta función, escriba un programa que pida 10 números al usuario por teclado y al finalizar informe el mayor por pantalla."
      ]
    },
    {
      "cell_type": "code",
      "execution_count": 53,
      "metadata": {
        "id": "xuPGJIqNsjr-"
      },
      "outputs": [
        {
          "name": "stdout",
          "output_type": "stream",
          "text": [
            "Ingrese el numero  1\n",
            "Ingrese el numero  2\n",
            "Ingrese el numero  3\n",
            "Ingrese el numero  4\n",
            "Ingrese el numero  5\n",
            "Ingrese el numero  6\n",
            "Ingrese el numero  7\n",
            "Ingrese el numero  8\n",
            "Ingrese el numero  9\n",
            "Ingrese el numero  10\n",
            "El numero mayor es:  65.0\n"
          ]
        }
      ],
      "source": [
        "def numero_mayor(numero_1:float, numero_2:float)->float:\n",
        "    if numero_1 > numero_2:\n",
        "        return numero_1\n",
        "    else:\n",
        "        return numero_2\n",
        "\n",
        "for i in range(10):\n",
        "    print(\"Ingrese el numero \", i+1)\n",
        "    numero = float(input())\n",
        "    mayor = 0\n",
        "    mayor = numero_mayor(mayor,numero)\n",
        "print(\"El numero mayor es: \", mayor)\n"
      ]
    },
    {
      "cell_type": "markdown",
      "metadata": {
        "id": "Bv97mRL7Yy6l"
      },
      "source": [
        "### **Ejercicio 6**\n",
        "\n",
        "Escribir una función que calcule el área de un círculo y otra que calcule el volumen de un cilindro usando la primera función."
      ]
    },
    {
      "cell_type": "code",
      "execution_count": 57,
      "metadata": {
        "colab": {
          "base_uri": "https://localhost:8080/"
        },
        "id": "uggVmXI7YyZQ",
        "outputId": "3e465ace-44a5-4c93-8ad3-167ba3519787"
      },
      "outputs": [
        {
          "name": "stdout",
          "output_type": "stream",
          "text": [
            "28.274333882308138\n"
          ]
        },
        {
          "data": {
            "text/plain": [
              "141.3716694115407"
            ]
          },
          "execution_count": 57,
          "metadata": {},
          "output_type": "execute_result"
        }
      ],
      "source": [
        "import math\n",
        "\n",
        "def area_circulo(radio:float)->float:\n",
        "    return math.pi * radio **2\n",
        "    \n",
        "def volumen_cilindro(radio:float, altura:float)->float:\n",
        "    area_base = area_circulo(radio)\n",
        "    return area_base * altura\n",
        "\n",
        "print(area_circulo(3))\n",
        "volumen_cilindro(3,5)"
      ]
    },
    {
      "cell_type": "markdown",
      "metadata": {
        "id": "e81MQrmWY6fp"
      },
      "source": [
        "### **Ejercicio 7**\n",
        "\n",
        "Escribir una función que recibe tres números enteros por parámetros, calcula el promedio y retorna “APROBADO” si el promedio es mayor o igual a 7 o “DESAPROBADO” si es menor.\n",
        "       "
      ]
    },
    {
      "cell_type": "code",
      "execution_count": null,
      "metadata": {},
      "outputs": [
        {
          "name": "stdout",
          "output_type": "stream",
          "text": [
            "Aprobo\n"
          ]
        }
      ],
      "source": [
        "def pomedio(nota1:int,nota_2:int,nota:int)->float:\n",
        "    return (nota1+nota_2+nota)/3\n",
        "\n",
        "\n",
        "if(pomedio(8,7,9))>=7:\n",
        "    print(\"Aprobado\")"
      ]
    },
    {
      "cell_type": "code",
      "execution_count": null,
      "metadata": {
        "id": "TMHUWFN52yZl"
      },
      "outputs": [],
      "source": [
        "def promedio(nota1,nota2,nota3):\n",
        "    if (nota1 + nota2 + nota3)/3 >= 7:\n",
        "      return \"Aprobado\"\n",
        "    else:\n",
        "      return \"Desaprobado\""
      ]
    },
    {
      "cell_type": "markdown",
      "metadata": {
        "id": "HmR1kFhbZCRR"
      },
      "source": [
        "### **Ejercicio 8**\n",
        "\n",
        "Escribir una función que recibe dos números enteros mayores que 1, n y m, y retorna la potencia n a la m. Resolver con una estructura de control repetitiva, **NO** con el operador potencia de Python"
      ]
    },
    {
      "cell_type": "code",
      "execution_count": 60,
      "metadata": {
        "id": "XiMBGGvuXf1q"
      },
      "outputs": [
        {
          "data": {
            "text/plain": [
              "8"
            ]
          },
          "execution_count": 60,
          "metadata": {},
          "output_type": "execute_result"
        }
      ],
      "source": [
        "# potencia(2,3)  = ((2*2)*2)\n",
        "def protencia (n:int,m:int) -> int:\n",
        "    if n < 0 or m < 0:\n",
        "        raise ValueError(\"Los numeros deben ser no negativos\")\n",
        "    else:\n",
        "        resultado = 1 \n",
        "        for i in range(m):\n",
        "            resultado = resultado * n\n",
        "        return resultado\n",
        "\n",
        "protencia(2,3)"
      ]
    },
    {
      "cell_type": "markdown",
      "metadata": {
        "id": "3NBO6ixQZccL"
      },
      "source": [
        "### **Ejercicio 9**\n",
        "\n",
        "Escribir una función que dado un tiempo en horas, minutos y segundos retorne esa misma cantidad en segundos."
      ]
    },
    {
      "cell_type": "code",
      "execution_count": null,
      "metadata": {
        "id": "gYn1Oslemq5f"
      },
      "outputs": [
        {
          "data": {
            "text/plain": [
              "10801"
            ]
          },
          "execution_count": 68,
          "metadata": {},
          "output_type": "execute_result"
        }
      ],
      "source": [
        "def convertidor_Segundos(horas:int, minutos:int, segundos:int)-> int:\n",
        "    if horas < 0 or horas > 60:\n",
        "        raise ValueError(\"Las horas deben estar entre 0 y 60\")\n",
        "    if minutos < 0 or minutos > 60:\n",
        "        raise ValueError(\"Los minutos deben estar entre 0 y 60\")\n",
        "    if segundos < 0 or segundos > 60:\n",
        "        raise ValueError(\"Los segundos deben estar entre 0 y 60\")\n",
        "    total_segundos = (horas*3600) + (minutos*60) + segundos\n",
        "    return total_segundos\n",
        "\n",
        "convertidor_Segundos(2,60,1)"
      ]
    },
    {
      "cell_type": "markdown",
      "metadata": {
        "id": "RwmzPtIrC3b8"
      },
      "source": [
        "### **Ejercicio 10**\n",
        "\n",
        "Escribir una función que dado un año, retorne verdadero si es bisiesto y falso en caso contrario.\n",
        "\n",
        "Nota: Los años bisiestos son múltiplos de 4 y no son múltiplos de 100, pero los años múltiplos de 400 si son bisiestos.\n",
        "Estos son algunos ejemplos de posibles respuestas: 2012 es bisiesto, 2010 no es bisiesto, 2000 es bisiesto, 1900 no es bisiesto"
      ]
    },
    {
      "cell_type": "code",
      "execution_count": 2,
      "metadata": {},
      "outputs": [
        {
          "data": {
            "text/plain": [
              "False"
            ]
          },
          "execution_count": 2,
          "metadata": {},
          "output_type": "execute_result"
        }
      ],
      "source": [
        "def es_bisiesto(año=int)->bool:\n",
        "    if año % 4 == 0 or año % 400 == 0:\n",
        "        return True\n",
        "    elif año % 100 == 0:\n",
        "        return False\n",
        "    else:\n",
        "        return False\n",
        "\n",
        "es_bisiesto(2010)"
      ]
    },
    {
      "cell_type": "markdown",
      "metadata": {
        "id": "LxYbcNCsDVrv"
      },
      "source": [
        "### **Ejercicio 11**\n",
        "\n",
        "Escribir un programa que pida dos años y escriba cuántos años bisiestos hay entre esas dos fechas (incluidos los dos años)."
      ]
    },
    {
      "cell_type": "code",
      "execution_count": 3,
      "metadata": {
        "colab": {
          "base_uri": "https://localhost:8080/"
        },
        "id": "2cgCZHNZDWKZ",
        "outputId": "6fd76480-3c88-46b4-95af-6b8da179ed54"
      },
      "outputs": [
        {
          "name": "stdout",
          "output_type": "stream",
          "text": [
            "2000\n",
            "2004\n",
            "2008\n",
            "2012\n",
            "2016\n",
            "2020\n",
            "2024\n"
          ]
        }
      ],
      "source": [
        "# prompt: Escribir un programa que pida dos años y escriba cuántos años bisiestos hay entre esas dos fechas (incluidos los dos años)\n",
        "\n",
        "def años_biciestos(año_1:int,año_2:int) -> int:\n",
        "    for i in range(año_1,año_2+1):\n",
        "        if es_bisiesto(i):\n",
        "            print(i)\n",
        "    return\n",
        "años_biciestos(2000,2024)\n"
      ]
    },
    {
      "cell_type": "markdown",
      "metadata": {
        "id": "jGQ_YK4kEbDk"
      },
      "source": [
        "### **Ejercicio 12**\n",
        "\n",
        "Escribir una función que tome por parámetro un numero entero y retorne la suma de sus dígitos. Para obtener los digitos deben ir dividiendo (division entera) por 10 sucesivamente y tomando el resto (digito que esta mas a la derecha)."
      ]
    },
    {
      "cell_type": "code",
      "execution_count": 19,
      "metadata": {
        "colab": {
          "base_uri": "https://localhost:8080/"
        },
        "id": "MMOb923zEb3L",
        "outputId": "7d52fa0b-13a1-41b7-d36d-cabe2da099f5"
      },
      "outputs": [
        {
          "name": "stdout",
          "output_type": "stream",
          "text": [
            "10\n"
          ]
        }
      ],
      "source": [
        "import numpy as np\n",
        "numero = 112132\n",
        "#print(numero // 10)\n",
        "#print(numero % 10)\n",
        "\n",
        "# prompt: Escribir una función que tome por parámetro un numero entero y retorne la suma de sus dígitos.\n",
        "# Para obtener los digitos deben ir dividiendo (division entera) por 10 sucesivamente y tomando el resto (digito que esta mas a la derecha).\n",
        "\n",
        "def sumaDigitos(numero: int) -> int:\n",
        "    suma = 0\n",
        "    while numero > 0:\n",
        "        suma += numero % 10\n",
        "        numero = numero // 10\n",
        "    return suma\n",
        "\n",
        "# Ejemplo de uso:\n",
        "print(sumaDigitos(112132))  # Imprime 8\n",
        "        "
      ]
    },
    {
      "cell_type": "markdown",
      "metadata": {
        "id": "vezlqxF8FJh3"
      },
      "source": [
        "\n",
        "### **Ejercicio 13**\n",
        "\n",
        "Escribir un programa que pida números positivos (Debe dejar de pedir números cuando se ingrese uno negativo). Mostrar el número cuya sumatoria de dígitos fue mayor y la cantidad de números cuya sumatoria de dígitos fue menor que 10. Utilizar una o más funciones, según sea necesario."
      ]
    },
    {
      "cell_type": "code",
      "execution_count": null,
      "metadata": {
        "id": "mvrh19zGNriD"
      },
      "outputs": [
        {
          "name": "stdout",
          "output_type": "stream",
          "text": [
            "Ingrese un numero\n",
            "0\n",
            "Ingrese un numero\n",
            "1\n",
            "Ingrese un numero\n",
            "2\n",
            "Ingrese un numero\n",
            "3\n",
            "Ingrese un numero\n",
            "4\n"
          ]
        }
      ],
      "source": [
        "#Pedir numeros positivos\n",
        "#Dejar de pedir cuando sea ngeativo, mostrar el numero con la mayor suma de digitos, cantidad con sumatoria menor a 10 \n"
      ]
    },
    {
      "cell_type": "markdown",
      "metadata": {
        "id": "Jn223k7dFW0V"
      },
      "source": [
        "### **Ejercicio 14**\n",
        "\n",
        "Escribir un programa que solicita el ingreso de números primos. La lectura finalizará cuando ingrese un número que no sea primo. Por cada número, mostrar la suma de sus dígitos. Al finalizar el programa, mostrar el factorial del mayor número ingresado. Utilizar una o más funciones, según sea necesario."
      ]
    },
    {
      "cell_type": "code",
      "execution_count": null,
      "metadata": {
        "id": "fxcc6N6VFXWx"
      },
      "outputs": [],
      "source": []
    }
  ],
  "metadata": {
    "colab": {
      "include_colab_link": true,
      "provenance": []
    },
    "kernelspec": {
      "display_name": "Python 3",
      "name": "python3"
    },
    "language_info": {
      "codemirror_mode": {
        "name": "ipython",
        "version": 3
      },
      "file_extension": ".py",
      "mimetype": "text/x-python",
      "name": "python",
      "nbconvert_exporter": "python",
      "pygments_lexer": "ipython3",
      "version": "3.12.0"
    }
  },
  "nbformat": 4,
  "nbformat_minor": 0
}
