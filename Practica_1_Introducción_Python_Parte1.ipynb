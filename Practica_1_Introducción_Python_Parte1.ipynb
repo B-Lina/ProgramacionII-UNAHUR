{
  "cells": [
    {
      "cell_type": "markdown",
      "metadata": {
        "id": "view-in-github",
        "colab_type": "text"
      },
      "source": [
        "<a href=\"https://colab.research.google.com/github/B-Lina/ProgramacionII-UNAHUR/blob/main/Practica_1_Introducci%C3%B3n_Python_Parte1.ipynb\" target=\"_parent\"><img src=\"https://colab.research.google.com/assets/colab-badge.svg\" alt=\"Open In Colab\"/></a>"
      ]
    },
    {
      "cell_type": "markdown",
      "metadata": {
        "id": "42630xxYD0gZ"
      },
      "source": [
        "# ![alt text](https://upload.wikimedia.org/wikipedia/commons/thumb/c/c3/Python-logo-notext.svg/50px-Python-logo-notext.svg.png) **Trabajo Práctico 1: Introducción a Python Parte 1** ![alt text](https://upload.wikimedia.org/wikipedia/commons/thumb/c/c3/Python-logo-notext.svg/50px-Python-logo-notext.svg.png)\n",
        "\n",
        "En estos ejercicios vamos a trabajar cosas que nos permitan empezar a programar esquinausando Python.\n",
        "\n",
        "La idea es que ustedes vayan resolviendo los ejercicios sin la necesidad de instalarse nada en sus computadoras.\n",
        "Antes que nada, creen una copia de este archivo en su ***Google Drive*** para tener permisos de edición, luego pueden compartirlo con quien quieran, tengan cuidado con los permisos al momento de compartir!!!!!!!. Si quieren, nos pueden compartir su documento para que ayudemos con las dudas.\n",
        "\n",
        "### **martin.pustilnik@unahur.edu.ar** ###\n",
        "\n",
        "En los bloques de código como el que les aparece aca abajo, se puede programar en Python, al pararse dentro del bloque, aparecerá un ícono de \"*play*\" en la esquina superior izquierda, \"*clickeando*\" en este ícono, se ejecuta el código escrito y se muestra la salida debajo, probemos:"
      ]
    },
    {
      "cell_type": "code",
      "execution_count": null,
      "metadata": {
        "colab": {
          "base_uri": "https://localhost:8080/"
        },
        "id": "IH0qfE_oTzyR",
        "outputId": "65357786-3295-4833-eb24-963049d3e432"
      },
      "outputs": [
        {
          "output_type": "stream",
          "name": "stdout",
          "text": [
            "el valor es: 4.0\n",
            "<class 'str'>\n",
            "10.0\n",
            "<class 'int'>\n",
            "5\n"
          ]
        }
      ],
      "source": [
        "varNumerica = True\n",
        "varNumerica = \"10.0\"\n",
        "\n",
        "if \"2\" == 2:\n",
        "  print(\"Hola\")\n",
        "\n",
        "\n",
        "print(\"el valor es: \" + 4.0.__repr__()  + 3.__repr__()  )  #  \"4.0\"    \"3\"\n",
        "\n",
        "\n",
        "\n",
        "print(type(varNumerica))\n",
        "print(varNumerica)\n",
        "\n",
        "varNumerica = 5\n",
        "print(type(varNumerica))\n",
        "print(varNumerica)\n"
      ]
    },
    {
      "cell_type": "code",
      "source": [
        "varEntrada = input(\"Ingresa un numero: \")\n",
        "print(type(varEntrada))\n",
        "print(int(varEntrada))\n",
        "print(4**2)"
      ],
      "metadata": {
        "colab": {
          "base_uri": "https://localhost:8080/"
        },
        "id": "ikPuVTXypcWq",
        "outputId": "07d77c8e-16ce-4347-e89a-4f9b9f6f50d8"
      },
      "execution_count": null,
      "outputs": [
        {
          "output_type": "stream",
          "name": "stdout",
          "text": [
            "Ingresa un numero: 66\n",
            "<class 'str'>\n",
            "66\n",
            "16\n"
          ]
        }
      ]
    },
    {
      "cell_type": "code",
      "source": [
        "\n",
        "\n",
        "dias = 2\n",
        "print(dias + dias)\n",
        "dias = \"2\"\n",
        "print(dias + dias)\n",
        "\n",
        "print(int(\"2\"))\n"
      ],
      "metadata": {
        "colab": {
          "base_uri": "https://localhost:8080/"
        },
        "id": "Z7o0SyMwt-OZ",
        "outputId": "7f704f79-1e54-415b-f4f0-143275778b5c"
      },
      "execution_count": null,
      "outputs": [
        {
          "output_type": "stream",
          "name": "stdout",
          "text": [
            "4\n",
            "22\n",
            "2\n"
          ]
        }
      ]
    },
    {
      "cell_type": "code",
      "source": [
        "#-----------------!----------------------!---------------------\n",
        "#                 10                    50\n",
        "limInicial = 10\n",
        "limFinal = 50\n",
        "\n",
        "num1 = input(\"Ingrese un numero: \")\n",
        "num2 = float(num1)\n",
        "\n",
        "res = (num2 > limInicial) and (num2 < limFinal)\n",
        "\n",
        "print(type(res))\n",
        "print(res)"
      ],
      "metadata": {
        "colab": {
          "base_uri": "https://localhost:8080/"
        },
        "id": "trNThPu8wme1",
        "outputId": "3b498f74-41e0-45cb-a3cb-0af397d2a566"
      },
      "execution_count": null,
      "outputs": [
        {
          "output_type": "stream",
          "name": "stdout",
          "text": [
            "Ingrese un numero: 15\n",
            "<class 'bool'>\n",
            "True\n"
          ]
        }
      ]
    },
    {
      "cell_type": "markdown",
      "metadata": {
        "id": "YiSL7GMcLOO9"
      },
      "source": [
        "Una cosa a tener en cuenta es que todos los bloques de código estan conectados  entre sí, es por eso que si vemos en el bloque de código de abajo, podemos usar la variable \"precio\" declarada en el bloque anterior, veamos un ejemplo:"
      ]
    },
    {
      "cell_type": "code",
      "execution_count": null,
      "metadata": {
        "id": "XTQPIJfZAH8h"
      },
      "outputs": [],
      "source": [
        "var1 = 3; var2=30"
      ]
    },
    {
      "cell_type": "markdown",
      "metadata": {
        "id": "SWxNqIroNiiS"
      },
      "source": [
        "Ahora si, luego de las aclaraciones del caso y sabiendo como escribir y ejecutar código en los bloques de este archivo, empezamos con la guía."
      ]
    },
    {
      "cell_type": "markdown",
      "metadata": {
        "id": "JspwDwHavN5s"
      },
      "source": [
        "#**Primera parte: Declaración de variables y operaciones básicas**"
      ]
    },
    {
      "cell_type": "markdown",
      "metadata": {
        "id": "nbWbQ1jTO3AP"
      },
      "source": [
        "### **Ejercicio 1**\n",
        "\n",
        "Primer programa en Python. Escribir un programa que imprima por pantalla \"Hola mundo\"."
      ]
    },
    {
      "cell_type": "code",
      "execution_count": null,
      "metadata": {
        "id": "joL3PhcCL-6Z"
      },
      "outputs": [],
      "source": []
    },
    {
      "cell_type": "markdown",
      "metadata": {
        "id": "dNJ7NrxMMTXf"
      },
      "source": [
        "### **Ejercicio 2**\n",
        "\n",
        "Escribir un programa que cargue en una variable la cadena de caracteres “Hola mundo” y luego la imprima por pantalla."
      ]
    },
    {
      "cell_type": "code",
      "execution_count": null,
      "metadata": {
        "id": "Y4N45RZKMb3J"
      },
      "outputs": [],
      "source": []
    },
    {
      "cell_type": "markdown",
      "metadata": {
        "id": "G3Dwrq7lNVdx"
      },
      "source": [
        "### **Ejercicio 3**\n",
        "\n",
        "Escribir un programa que cree dos variables enteras, le asigne números arbitrarios (cualquiera) y muestre por pantalla: la suma, la resta, la multiplicación, la división entera y el resto de la división entera."
      ]
    },
    {
      "cell_type": "code",
      "execution_count": null,
      "metadata": {
        "id": "tXIUdY6VN48C"
      },
      "outputs": [],
      "source": []
    },
    {
      "cell_type": "markdown",
      "metadata": {
        "id": "55LHODvxOHbW"
      },
      "source": [
        "### **Ejercicio 4**\n",
        "\n",
        "Implementar algoritmos que permitan:\n",
        "\n",
        "\n",
        "*   Calcular el perímetro y el área de un rectángulo, dada su base y su altura\n",
        "*   Calcular el perímetro y el área de un círculo dado su radio.\n",
        "\n",
        "Declarar las variables necesarias y asignarle números arbitrarios"
      ]
    },
    {
      "cell_type": "code",
      "execution_count": null,
      "metadata": {
        "id": "SvRdQvtQOGgo",
        "colab": {
          "base_uri": "https://localhost:8080/"
        },
        "outputId": "10869a43-fd00-41ed-a338-cfef1b0e0f56"
      },
      "outputs": [
        {
          "output_type": "stream",
          "name": "stdout",
          "text": [
            "0.02653589793408173\n"
          ]
        }
      ],
      "source": [
        "#P(R) = 2*b + 2*h\n",
        "#A(R) = b*h\n",
        "#P(C) = 2*3.14*r\n",
        "#A(C) = 3.14*r*r\n",
        "#Operador potencia: 5**2\n",
        "\n",
        "import math\n",
        "\n",
        "radio = 100\n",
        "area1 = 3.14159*radio**2\n",
        "#area1 = 3.14*radio**2\n",
        "area2 = math.pi*radio**2\n",
        "print(abs(area1 - area2))"
      ]
    },
    {
      "cell_type": "markdown",
      "metadata": {
        "id": "j34Vr_TaN5v7"
      },
      "source": [
        "### **Ejercicio 5**\n",
        "\n",
        "Escribir un programa que pida una temperatura en grados Celsius al usuario, realice la transformación de grados Celsius a Fahrenheit e imprima el resultado por pantalla."
      ]
    },
    {
      "cell_type": "code",
      "execution_count": null,
      "metadata": {
        "id": "2NMYcPsFPVoY"
      },
      "outputs": [],
      "source": [
        "#T(C) = 1.8*C + 32"
      ]
    },
    {
      "cell_type": "markdown",
      "metadata": {
        "id": "V4TXH8iygA5S"
      },
      "source": [
        "### **Ejercicio 6**\n",
        "\n",
        "Escribir un programa que pregunte por el número de horas trabajadas y el costo por hora. Después debe mostrar por pantalla el sueldo que corresponde."
      ]
    },
    {
      "cell_type": "code",
      "execution_count": null,
      "metadata": {
        "id": "q5h196hQgBUy"
      },
      "outputs": [],
      "source": []
    },
    {
      "cell_type": "markdown",
      "metadata": {
        "id": "hiC2Y35TgWN1"
      },
      "source": [
        "### **Ejercicio 7**\n",
        "\n",
        "Escribir un programa que pida un peso (en kg) y una estatura (en metros), calcule el índice de masa corporal y lo almacene en una variable. Luego debe muestrar por pantalla la frase: \"El índice de masa corporal es: \\<imc>\". Donde \\<imc> es el índice de masa corporal calculado."
      ]
    },
    {
      "cell_type": "code",
      "execution_count": null,
      "metadata": {
        "id": "q2Krl_PWgV3v"
      },
      "outputs": [],
      "source": [
        "#IMC(P,H) = P / (H*H)"
      ]
    },
    {
      "cell_type": "markdown",
      "metadata": {
        "id": "qeZrEYeuhP0Z"
      },
      "source": [
        "### **Ejercicio 8**\n",
        "\n",
        "Escribir un programa que pregunte una cantidad a invertir, el interés anual y el número de años, y muestre por pantalla el capital obtenido en la inversión."
      ]
    },
    {
      "cell_type": "code",
      "execution_count": null,
      "metadata": {
        "id": "xB0aHFqRhQRb",
        "colab": {
          "base_uri": "https://localhost:8080/"
        },
        "outputId": "3f7f4038-6449-402f-c39b-31e69483d79b"
      },
      "outputs": [
        {
          "output_type": "stream",
          "name": "stdout",
          "text": [
            "400.0\n"
          ]
        }
      ],
      "source": [
        "#capitalInicial + (interesAnual/100)* capitalInicial *cantidadAños\n",
        "\n",
        "capitalInicial =100\n",
        "interesAnual = 30\n",
        "cantidadAños = 10\n",
        "\n",
        "print(capitalInicial + (interesAnual/100)* capitalInicial *cantidadAños)\n"
      ]
    },
    {
      "cell_type": "markdown",
      "metadata": {
        "id": "_K12p-SIor7W"
      },
      "source": [
        "### **Ejercicio 9**\n",
        "\n",
        "Escribir un programa que pregunte un nombre completo en la consola y después muestre por pantalla ese nombre tres veces, una con todas las letras minúsculas, otra con todas las letras mayúsculas y otra solo con la primera letra del nombre y de los apellidos en mayúscula. Se puede introducir un nombre combinando mayúsculas y minúsculas como se quiera."
      ]
    },
    {
      "cell_type": "code",
      "execution_count": null,
      "metadata": {
        "id": "Ey98WZ5ZosRl",
        "colab": {
          "base_uri": "https://localhost:8080/"
        },
        "outputId": "507154ac-071d-4174-be7f-358d5d5b0497"
      },
      "outputs": [
        {
          "output_type": "stream",
          "name": "stdout",
          "text": [
            "Maria Perez\n",
            "maria perez\n"
          ]
        }
      ],
      "source": [
        "#upper\n",
        "#lower\n",
        "#capitalize\n",
        "#title\n",
        "\n",
        "nombre = \"maria perez\"\n",
        "nombre2 = nombre.title()\n",
        "print(nombre2)\n",
        "print(nombre)\n"
      ]
    },
    {
      "cell_type": "markdown",
      "metadata": {
        "id": "68VGBXIJmixr"
      },
      "source": [
        "### **Ejercicio 10**\n",
        "\n",
        "Escribir un programa que pregunte un nombre en la consola y después muestre por pantalla: \"El \\<NOMBRE> tiene \\<N> letras\", donde \\<NOMBRE> es el nombre ingresado todo en mayúsculas y \\<N> es el número de letras que tienen el nombre."
      ]
    },
    {
      "cell_type": "code",
      "execution_count": null,
      "metadata": {
        "id": "6kSdf8xkmjI3",
        "colab": {
          "base_uri": "https://localhost:8080/"
        },
        "outputId": "db07edc7-e263-4c46-f3aa-5ded5e2e311f"
      },
      "outputs": [
        {
          "output_type": "stream",
          "name": "stdout",
          "text": [
            "11\n"
          ]
        }
      ],
      "source": [
        "print(len(nombre))"
      ]
    },
    {
      "cell_type": "markdown",
      "metadata": {
        "id": "tg91sLnqsz3G"
      },
      "source": [
        "### **Ejercicio 11**\n",
        "\n",
        "Escribir un programa que pida una palabra, reemplace todas las letras \"a\" o \"A\" por \"z\" y muestre el resultado por pantalla."
      ]
    },
    {
      "cell_type": "code",
      "execution_count": null,
      "metadata": {
        "id": "hPpWslcQs0Oa",
        "colab": {
          "base_uri": "https://localhost:8080/"
        },
        "outputId": "b5955712-e8dd-4da6-e4c6-5e76f6e8664d"
      },
      "outputs": [
        {
          "output_type": "stream",
          "name": "stdout",
          "text": [
            "zcz\n"
          ]
        }
      ],
      "source": [
        "#palabra = input(\"Inserte una palabra: \")\n",
        "\n",
        "#lower\n",
        "#upper\n",
        "#title\n",
        "#capitalize\n",
        "#startswith\n",
        "#replace\n",
        "#len(string)\n",
        "\n",
        "#nombre.replace()\n",
        "\n",
        "a = \"Aca\"\n",
        "\n",
        "#a = a.replace(\"a\",\"z\")\n",
        "#a = a.replace(\"A\",\"z\")\n",
        "print((a.replace(\"a\",\"z\")).replace(\"A\",\"z\"))\n",
        "\n"
      ]
    },
    {
      "cell_type": "markdown",
      "metadata": {
        "id": "1qwz086stewZ"
      },
      "source": [
        "### **Ejercicio 12**\n",
        "\n",
        "Escribir un programa que pida dos palabras y muestre por pantalla la concatenacion de ambas.  "
      ]
    },
    {
      "cell_type": "code",
      "execution_count": null,
      "metadata": {
        "id": "blEaekW5Pfo7"
      },
      "outputs": [],
      "source": []
    },
    {
      "cell_type": "markdown",
      "metadata": {
        "id": "yuLrj7QTtnIl"
      },
      "source": [
        "### **Ejercicio 13**\n",
        "\n",
        "Escribir un programa que pida una palabra y un número N y muestre por pantalla la palabra ingresada repetida N veces."
      ]
    },
    {
      "cell_type": "code",
      "execution_count": null,
      "metadata": {
        "id": "faif7mZYteUh",
        "colab": {
          "base_uri": "https://localhost:8080/"
        },
        "outputId": "d6a69703-48d9-437e-8836-396033d6fc6e"
      },
      "outputs": [
        {
          "output_type": "stream",
          "name": "stdout",
          "text": [
            "HolaHolaHolaHolaHola\n"
          ]
        }
      ],
      "source": [
        "palabra = \"Hola\"\n",
        "n = 5\n",
        "print(palabra * 5)"
      ]
    },
    {
      "cell_type": "markdown",
      "metadata": {
        "id": "L9d6sOSpuxCT"
      },
      "source": [
        "#**Segunda parte: Estructuras de control**"
      ]
    },
    {
      "cell_type": "code",
      "execution_count": null,
      "metadata": {
        "id": "_hdb9uKIOfdF"
      },
      "outputs": [],
      "source": [
        "#-----------------!----------------------!---------------------\n",
        "#                 10                    50\n",
        "limInicial = 10\n",
        "limFinal = 50\n",
        "\n",
        "\n",
        "\n"
      ]
    },
    {
      "cell_type": "markdown",
      "metadata": {
        "id": "xp3VZsqMv7d3"
      },
      "source": [
        "### **Ejercicio 14**\n",
        "\n",
        "Escribir un programa que pregunte una edad y muestre por pantalla si es mayor de edad o no."
      ]
    },
    {
      "cell_type": "code",
      "execution_count": null,
      "metadata": {
        "id": "F3lyWaa-v7yv"
      },
      "outputs": [],
      "source": []
    },
    {
      "cell_type": "markdown",
      "metadata": {
        "id": "QNlHtEHdwKBp"
      },
      "source": [
        "### **Ejercicio 15**\n",
        "\n",
        "Escribir un programa que almacene la cadena de caracteres \"contraseña\" en una variable y luego pregunte por la contraseña e imprima por pantalla si la contraseña introducida en la consola coincide con la guardada en la variable sin tener en cuenta mayúsculas y minúsculas."
      ]
    },
    {
      "cell_type": "code",
      "execution_count": null,
      "metadata": {
        "id": "6-AbFKCjwKeq"
      },
      "outputs": [],
      "source": []
    },
    {
      "cell_type": "markdown",
      "metadata": {
        "id": "ZJ0_6OxYPWZJ"
      },
      "source": [
        "### **Ejercicio 15**\n",
        "\n",
        "Escribir un programa pida dos números enteros e informe por pantalla cual es menor de los dos, si son iguales, indicarlo por separado.\n"
      ]
    },
    {
      "cell_type": "code",
      "execution_count": null,
      "metadata": {
        "id": "SII_f1Zftfj5"
      },
      "outputs": [],
      "source": []
    },
    {
      "cell_type": "markdown",
      "metadata": {
        "id": "AnZ1kpoQPn3Y"
      },
      "source": [
        "### **Ejercicio 16**\n",
        "\n",
        "Escribir un programa que pida un número entero e indique si dicho número es par o impar."
      ]
    },
    {
      "cell_type": "code",
      "execution_count": null,
      "metadata": {
        "id": "8TFzQHzKPt-v"
      },
      "outputs": [],
      "source": []
    },
    {
      "cell_type": "markdown",
      "metadata": {
        "id": "Z1-LrF6Swkx_"
      },
      "source": [
        "###**Ejercicio 17**\n",
        "\n",
        "Para pagar un determinado impuesto se debe ser mayor de 18 años y tener unos ingresos iguales o superiores a $100000 mensuales. Escribir un programa que pregunte la edad y los ingresos mensuales y muestre por pantalla si se debe pagar o no."
      ]
    },
    {
      "cell_type": "code",
      "execution_count": null,
      "metadata": {
        "id": "FBMDycRlwlIY"
      },
      "outputs": [],
      "source": []
    },
    {
      "cell_type": "markdown",
      "metadata": {
        "id": "HIjqXTzoPuYU"
      },
      "source": [
        "### **Ejercicio 18**\n",
        "\n",
        "Escribir un programa que pida un número entero del 1 al 7 y muestre por pantalla el día de la semana correspondiente. Controlar que el número se encuentre en el rango correcto, si no es así, informar un error. Por ejemplo, si el número es 2 el día es martes."
      ]
    },
    {
      "cell_type": "code",
      "execution_count": null,
      "metadata": {
        "id": "6SztTz4yPz2k",
        "colab": {
          "base_uri": "https://localhost:8080/"
        },
        "outputId": "df6b9a96-b7c4-4ae8-d8f1-3ff0d0cd3644"
      },
      "outputs": [
        {
          "output_type": "stream",
          "name": "stdout",
          "text": [
            "Lunes\n"
          ]
        }
      ],
      "source": [
        "\n",
        "diaSemana = 1\n",
        "# implementar un \"if\" con elif para responder el ejercicio.\n",
        "\n",
        "if diaSemana == 1:\n",
        "  print(\"Lunes\")\n",
        "elif diaSemana == 2:\n",
        "  print(\"Martes\")\n",
        "elif diaSemana == 3:\n",
        "  print(\"Miercoles\")\n",
        "#...\n",
        "else:\n",
        "  raise Exception(\"Dia invalido\")\n",
        "\n",
        "\n",
        "\n"
      ]
    },
    {
      "cell_type": "markdown",
      "metadata": {
        "id": "KY6T0NWfP0Pq"
      },
      "source": [
        "### **Ejercicio 19**\n",
        "\n",
        "Las y los alumnas y alumnos de un curso se han dividido en dos grupos A y B de acuerdo al género y el nombre. El grupo A esta formado por las personas de genero femenino con una inicial de nombre anterior a la M y las personas de genero masculino con un inicial de nombre posterior a la N y el grupo B por el resto. Escribir un programa que pregunte la inicial y el género, y muestre por pantalla el grupo que corresponde."
      ]
    },
    {
      "cell_type": "code",
      "execution_count": null,
      "metadata": {
        "id": "tXqowWynQzPJ"
      },
      "outputs": [],
      "source": []
    },
    {
      "cell_type": "markdown",
      "metadata": {
        "id": "YgtCaggoQzwr"
      },
      "source": [
        "### **Ejercicio 20**\n",
        "\n",
        "Escribir un programa para una empresa que tiene salas de juegos para todas las edades y quiere calcular de forma automática el precio que debe cobrar a sus clientes por entrar. El programa debe preguntar la edad del cliente y mostrar el precio de la entrada. Si el cliente es menor de 4 años puede entrar gratis, si tiene entre 4 y 18 años debe pagar \\$5 y si es mayor de 18 años, \\$10."
      ]
    },
    {
      "cell_type": "code",
      "execution_count": null,
      "metadata": {
        "id": "C2k49JqwREeG"
      },
      "outputs": [],
      "source": []
    },
    {
      "cell_type": "markdown",
      "metadata": {
        "id": "6h-hloqtswqX"
      },
      "source": [
        "### **Estructuras de control repetitivas**"
      ]
    },
    {
      "cell_type": "code",
      "execution_count": null,
      "metadata": {
        "id": "D7R1eqLtyTb1"
      },
      "outputs": [],
      "source": [
        "#range(inicio, fin, paso)\n"
      ]
    },
    {
      "cell_type": "code",
      "source": [
        "varCondicion = 0\n"
      ],
      "metadata": {
        "id": "xbL3yXdsHouz"
      },
      "execution_count": null,
      "outputs": []
    },
    {
      "cell_type": "markdown",
      "metadata": {
        "id": "i_R4RvnqRE0e"
      },
      "source": [
        "### **Ejercicio 21**\n",
        "\n",
        "Mostrar por pantalla todos los números enteros entre 1 y 10 inclusive, hacerlo usando un bucle while y tambien con un bucle for."
      ]
    },
    {
      "cell_type": "code",
      "execution_count": null,
      "metadata": {
        "id": "8xtW7IzBaE8x"
      },
      "outputs": [],
      "source": [
        "valor = 1\n",
        "\n"
      ]
    },
    {
      "cell_type": "markdown",
      "metadata": {
        "id": "dsdrdUzNRVlx"
      },
      "source": [
        "### **Ejercicio 22**\n",
        "\n",
        "Escribir un programa que pida dos números enteros e imprima todos los números enteros entre ellos."
      ]
    },
    {
      "cell_type": "code",
      "execution_count": null,
      "metadata": {
        "id": "eiPpA7TmRjG_",
        "colab": {
          "base_uri": "https://localhost:8080/"
        },
        "outputId": "532e8bc8-4c5c-4da8-9421-88f77e1ebe0c"
      },
      "outputs": [
        {
          "name": "stdout",
          "output_type": "stream",
          "text": [
            "ingrese un número4\n"
          ]
        }
      ],
      "source": [
        "numero1 = int(input(\"ingrese un número\"))\n"
      ]
    },
    {
      "cell_type": "markdown",
      "metadata": {
        "id": "yuxsSussRjfn"
      },
      "source": [
        "### **Ejercicio 23**\n",
        "\n",
        "Escribir un programa que pregunte un nombre en la consola y un número entero e imprima por pantalla en líneas distintas el nombre tantas veces como el número introducido."
      ]
    },
    {
      "cell_type": "code",
      "execution_count": null,
      "metadata": {
        "id": "DGb1-6f_RsWP"
      },
      "outputs": [],
      "source": [
        "nombre = \"sergio\"\n",
        "N = 5\n",
        "\n"
      ]
    },
    {
      "cell_type": "markdown",
      "metadata": {
        "id": "dnlPkC9XyCLe"
      },
      "source": [
        "###**Ejercicio 24**\n",
        "\n",
        "Escribir un programa que pida un número entero positivo y muestre por pantalla todos los números impares desde 1 hasta ese número."
      ]
    },
    {
      "cell_type": "code",
      "execution_count": null,
      "metadata": {
        "id": "fcDtiO_LyCiJ",
        "colab": {
          "base_uri": "https://localhost:8080/"
        },
        "outputId": "bf8b9820-f448-462d-a853-9b5aef0fd4c6"
      },
      "outputs": [
        {
          "output_type": "stream",
          "name": "stdout",
          "text": [
            "ingrese un numero10\n",
            "1\n",
            "3\n",
            "5\n",
            "7\n",
            "9\n"
          ]
        }
      ],
      "source": [
        "# prompt: Escribir un programa que pida un número entero positivo y muestre por pantalla todos los números impares desde 1 hasta ese número.\n",
        "numero = int(input(\"ingrese un numero\"))\n",
        "for i in range(1,numero+1):\n",
        "  if i % 2 == 1:\n",
        "    print(i)\n"
      ]
    },
    {
      "cell_type": "markdown",
      "metadata": {
        "id": "tsVLTkW8Rs-O"
      },
      "source": [
        "### **Ejercicio 25**\n",
        "\n",
        "Escribir un programa que pida un número entero y muestre por pantalla un triángulo rectángulo como el de más abajo, de altura igual al número introducido.\n",
        "\n",
        "Por ejemplo, si el usuario ingresa el numero 4:\n",
        "\n",
        "\\*\n",
        "\n",
        "\\* *\n",
        "\n",
        "\\* * *\n",
        "\n",
        "\\* * * *"
      ]
    },
    {
      "cell_type": "code",
      "source": [
        "var = 4\n",
        "\n",
        "linea = \"*\"\n",
        "for i in range(4):\n",
        "  print(linea)\n",
        "  linea = linea + \"*\"\n",
        "\n",
        "for i in range(4):\n",
        "  print(\"*\" + \"*\" * i)\n",
        "\n",
        "\n"
      ],
      "metadata": {
        "colab": {
          "base_uri": "https://localhost:8080/"
        },
        "id": "IoXSzU10ZzWG",
        "outputId": "e511d684-cfdd-4e7c-849a-f1825a80f18c"
      },
      "execution_count": null,
      "outputs": [
        {
          "output_type": "stream",
          "name": "stdout",
          "text": [
            "*\n",
            "**\n",
            "***\n",
            "****\n",
            "*\n",
            "**\n",
            "***\n",
            "****\n"
          ]
        }
      ]
    },
    {
      "cell_type": "code",
      "source": [],
      "metadata": {
        "id": "84Ho_XHIaPym"
      },
      "execution_count": null,
      "outputs": []
    },
    {
      "cell_type": "markdown",
      "source": [
        "generar un codigo que modele el problema de viajar a la ciudad D a la ciudad D, dado que: la ciudad A se conecta con la ciudad B, la ciudad B se conecta con la ciudad A, la ciudad C se conecta con la ciudad B, la ciudad B se conecta con la ciudad C, la ciudad C se conecta con la ciudad D, la ciudad D se conecta con la ciudad A."
      ],
      "metadata": {
        "id": "IbwAxm5zZtGc"
      }
    },
    {
      "cell_type": "markdown",
      "metadata": {
        "id": "ZZJCDA32R91Y"
      },
      "source": [
        "### **Ejercicio 26**\n",
        "\n",
        "Escribir un programa que imprima por pantalla todas las fichas del domino, una por línea, sin repetir.\n",
        "\n",
        "0 | 0 - 0 | 1 - 0 | 2 - 0 | 3 - 0 | 4 - 0 | 5 - 0 | 6\n",
        "\n",
        "1 | 1 - 1 | 2 - 1 | 3 - 1 | 4 - 1 | 5 - 1 | 6\n",
        "\n",
        "2 | 2 - 2 | 3 - 2 | 4 - 2 | 5 - 2 | 6\n",
        "\n",
        "3 | 3 - 3 | 4 - 3 | 5 - 3 | 6\n",
        "\n",
        "4 | 4 - 4 | 5 - 4 | 6\n",
        "\n",
        "5 | 5 - 5 | 6\n",
        "\n",
        "6 | 6"
      ]
    },
    {
      "cell_type": "code",
      "execution_count": null,
      "metadata": {
        "id": "LTzYmPPWSFvO",
        "colab": {
          "base_uri": "https://localhost:8080/"
        },
        "outputId": "3e7a70fe-daaa-41b5-f486-de6dc4ff71c7"
      },
      "outputs": [
        {
          "output_type": "stream",
          "name": "stdout",
          "text": [
            "0 | 0 - 0 | 1 - 0 | 2 - 0 | 3 - 0 | 4 - 0 | 5 - 0 | 6 - \n",
            "1 | 1 - 1 | 2 - 1 | 3 - 1 | 4 - 1 | 5 - 1 | 6 - \n",
            "2 | 2 - 2 | 3 - 2 | 4 - 2 | 5 - 2 | 6 - \n",
            "3 | 3 - 3 | 4 - 3 | 5 - 3 | 6 - \n",
            "4 | 4 - 4 | 5 - 4 | 6 - \n",
            "5 | 5 - 5 | 6 - \n",
            "6 | 6 - \n"
          ]
        }
      ],
      "source": [
        "for i in range(7): #0,1,2,3,4,5,6\n",
        "    for j in range(i,7): #i,i+1,i+2,6\n",
        "        print(i,\"|\",j,end=\" - \")\n",
        "    print()"
      ]
    },
    {
      "cell_type": "markdown",
      "metadata": {
        "id": "Hh19diZlyXek"
      },
      "source": [
        "###**Ejercicio 27**\n",
        "\n",
        "Escribir un programa que pida un número entero y muestre por pantalla un triángulo rectángulo como el de más abajo.\n",
        "\n",
        "Si el usuario ingresa el numero 5:\n",
        "\n",
        "1             \n",
        "\n",
        "3 1           \n",
        "\n",
        "5 3 1         \n",
        "\n",
        "7 5 3 1       \n",
        "\n",
        "9 7 5 3 1  "
      ]
    },
    {
      "cell_type": "code",
      "execution_count": null,
      "metadata": {
        "id": "f74HFoKKyX0F",
        "colab": {
          "base_uri": "https://localhost:8080/"
        },
        "outputId": "b1a16a23-2be8-42b5-89d0-2b9cca4770ed"
      },
      "outputs": [
        {
          "output_type": "stream",
          "name": "stdout",
          "text": [
            "1   \n",
            "3   1   \n",
            "5   3   1   \n",
            "7   5   3   1   \n",
            "9   7   5   3   1   \n"
          ]
        }
      ],
      "source": [
        "#N = 2\n",
        "#1\n",
        "#3 1\n",
        "#N = 3\n",
        "#1\n",
        "#3 1\n",
        "#5 3 1\n",
        "#N = 4\n",
        "#1\n",
        "#3 1\n",
        "#5 3 1\n",
        "#7 5 3 1\n",
        "\n",
        "#N = 5\n",
        "#linea = \"\"\n",
        "#for i in range(1,2*N,2): #1,3,5,7,9\n",
        "#  linea = str(i) + \" \" + linea # linea = 9 7 5 3 1\n",
        "#  print(linea)\n",
        "\n",
        "#i=0 -> 1\n",
        "#i=1 -> 3 1\n",
        "#i=2 -> 5 3 1\n",
        "#i=3 -> 7 5 3 1\n",
        "\n",
        "for i in range(N):\n",
        "    for j in reversed(range(1, 2*i+2, 2)):\n",
        "        print(j,\" \", end=\" \")\n",
        "    print()\n"
      ]
    },
    {
      "cell_type": "code",
      "source": [
        "for i in reversed(range(5)):\n",
        "  print(i)"
      ],
      "metadata": {
        "colab": {
          "base_uri": "https://localhost:8080/"
        },
        "id": "r-uE4rPhTOH9",
        "outputId": "889d9168-dc48-4c64-a26a-d632bd2b538c"
      },
      "execution_count": null,
      "outputs": [
        {
          "output_type": "stream",
          "name": "stdout",
          "text": [
            "4\n",
            "3\n",
            "2\n",
            "1\n",
            "0\n"
          ]
        }
      ]
    },
    {
      "cell_type": "markdown",
      "metadata": {
        "id": "59Jbl5dbSGF2"
      },
      "source": [
        "\n",
        "### **Ejercicio 28**\n",
        "\n",
        "Escribir un programa que pida un número natural **N** e imprima por pantalla la suma de los números naturales de 1 hasta **N**.\n",
        "\n",
        "Por ejemplo para **N = 5**, la salida debe ser:\n",
        "\n",
        "1 + 2 + 3 + 4 + 5 = 15\n",
        "\n",
        "Solo debe imprimir el resultado final (por ejemplo 15)"
      ]
    },
    {
      "cell_type": "code",
      "execution_count": null,
      "metadata": {
        "id": "jIt2AeopSiVL",
        "colab": {
          "base_uri": "https://localhost:8080/"
        },
        "outputId": "618064a8-e701-483e-c5c4-9c4c81defa08"
      },
      "outputs": [
        {
          "output_type": "stream",
          "name": "stdout",
          "text": [
            "10\n"
          ]
        }
      ],
      "source": [
        "N = 4\n",
        "suma = 0\n",
        "for i in range(1,N+1): #1,2,3,4,5\n",
        "  suma += i #suma = 1+2+3+4+5\n",
        "print(suma)"
      ]
    },
    {
      "cell_type": "markdown",
      "metadata": {
        "id": "8uQf2g92Sivq"
      },
      "source": [
        "### **Ejercicio 29**\n",
        "\n",
        "Construir un programa que lea un número natural **N** y calcule la suma de los primeros **N** números pares.\n",
        "-  Si N = 2 -> Resultado = 2 + 4\n",
        "-  Si N = 3 -> Resultado = 2 + 4 + 6\n",
        "-  Si N = 4 -> Resultado = 2 + 4 + 6 + 8\n",
        "-  ......\n",
        "-  Para cualquier N -> Resultado = 2 + 4 + 6 +....+ 2*N"
      ]
    },
    {
      "cell_type": "code",
      "execution_count": null,
      "metadata": {
        "id": "9ADJ8tgxSn2Q"
      },
      "outputs": [],
      "source": []
    },
    {
      "cell_type": "markdown",
      "metadata": {
        "id": "ZEi--gNXSoOZ"
      },
      "source": [
        "### **Ejercicio 30**\n",
        "\n",
        "Escribir un programa que pida dos números enteros e informa por pantalla todos los números pares entre ellos."
      ]
    },
    {
      "cell_type": "code",
      "execution_count": null,
      "metadata": {
        "id": "4_bYnYGESvV0"
      },
      "outputs": [],
      "source": []
    },
    {
      "cell_type": "markdown",
      "metadata": {
        "id": "tJwW9zpHSvwA"
      },
      "source": [
        "### **Ejercicio 31**\n",
        "\n",
        "Escribir un programa que pida un número entero y muestre por pantalla la cantidad de cifras de dicho número. Se debe resolver con divisiones sucesivas por 10 usando un bucle while."
      ]
    },
    {
      "cell_type": "code",
      "execution_count": null,
      "metadata": {
        "id": "RjduT381S13q",
        "colab": {
          "base_uri": "https://localhost:8080/"
        },
        "outputId": "5061a824-2ce6-4fd8-ef64-886311c03aea"
      },
      "outputs": [
        {
          "output_type": "stream",
          "name": "stdout",
          "text": [
            "4\n"
          ]
        }
      ],
      "source": [
        "#pedir un numero entero\n",
        "#Contar la cantidad de divisiones sucesivas por 10\n",
        "#1235//10 => resultado=123 y resto 5\n",
        "#123//10 => resultado=12 y resto 3\n",
        "#12//10 => resultado=1 y resto 2\n",
        "#1//10 => resultado=0 y resto 1\n",
        "\n",
        "N = 1234\n",
        "nCifras = 1\n",
        "while N//10 != 0: #N//10 = 0\n",
        "  N = N // 10   #1\n",
        "  nCifras += 1\n",
        "\n",
        "print(nCifras)\n"
      ]
    },
    {
      "cell_type": "code",
      "source": [
        "numero = 0\n",
        "cantidadCifras = 0\n",
        "while numero > 0:\n",
        "  cantidadCifras += 1\n",
        "  numero //= 10\n",
        "\n",
        "print(cantidadCifras)"
      ],
      "metadata": {
        "colab": {
          "base_uri": "https://localhost:8080/"
        },
        "id": "XRPrejrMYpDt",
        "outputId": "fb940642-9060-46b5-c929-9ccad4759743"
      },
      "execution_count": null,
      "outputs": [
        {
          "output_type": "stream",
          "name": "stdout",
          "text": [
            "0\n"
          ]
        }
      ]
    },
    {
      "cell_type": "markdown",
      "metadata": {
        "id": "zo91uPVAS2Tk"
      },
      "source": [
        "### **Ejercicio 32**\n",
        "\n",
        "Escribir un programa que pida un número entero e informe si dicho numero es primo o compuesto."
      ]
    },
    {
      "cell_type": "code",
      "execution_count": null,
      "metadata": {
        "id": "Ouev8laiS9vw",
        "colab": {
          "base_uri": "https://localhost:8080/"
        },
        "outputId": "5329911d-f606-4d5b-932f-489fe707dc63"
      },
      "outputs": [
        {
          "output_type": "stream",
          "name": "stdout",
          "text": [
            "Es primo\n"
          ]
        }
      ],
      "source": [
        "#Un numero es primo si solo es divisible por 1 y por si mismo\n",
        "#Pedir un numero N entero\n",
        "#Revisar si N es divisible por algun numero entre 2 y N-1 (pueden usar el operador resto)\n",
        "#Ver que funcione bien para 0 y 1 tambien\n",
        "\n",
        "#12 es divisible por 2 porque 12 // 2 = 6 (resto 0)\n",
        "\n",
        "N = 0\n",
        "divisor = 2\n",
        "if N > 1:\n",
        "  while N%divisor!=0:\n",
        "    divisor += 1\n",
        "  if divisor == N:\n",
        "    print(\"Es primo\")\n",
        "  else:\n",
        "    print(\"Es compuesto\")\n",
        "else:\n",
        "  print(\"Es primo\")"
      ]
    }
  ],
  "metadata": {
    "colab": {
      "provenance": [],
      "include_colab_link": true
    },
    "kernelspec": {
      "display_name": "Python 3",
      "name": "python3"
    }
  },
  "nbformat": 4,
  "nbformat_minor": 0
}