{
  "cells": [
    {
      "cell_type": "markdown",
      "metadata": {
        "colab_type": "text",
        "id": "view-in-github"
      },
      "source": [
        "<a href=\"https://colab.research.google.com/github/B-Lina/ProgramacionII-UNAHUR/blob/main/Practica_3_Arreglos.ipynb\" target=\"_parent\"><img src=\"https://colab.research.google.com/assets/colab-badge.svg\" alt=\"Open In Colab\"/></a>"
      ]
    },
    {
      "cell_type": "markdown",
      "metadata": {
        "id": "42630xxYD0gZ"
      },
      "source": [
        "# ![alt text](https://upload.wikimedia.org/wikipedia/commons/thumb/c/c3/Python-logo-notext.svg/50px-Python-logo-notext.svg.png) **Práctica 3: Arreglos uni y multidimensionales** ![alt text](https://upload.wikimedia.org/wikipedia/commons/thumb/c/c3/Python-logo-notext.svg/50px-Python-logo-notext.svg.png)\n",
        "\n",
        "En este trabajo práctico, vamos a trabajar con arreglos uni y multidimensionales en Python. Recuerden crear una copia de este archivo en su ***Google Drive*** para tener permisos de edición.\n",
        "\n",
        "\n",
        "\n",
        "### Martin: **martin.pustilnik@unahur.edu.ar** ###"
      ]
    },
    {
      "cell_type": "markdown",
      "metadata": {
        "id": "xjXgmD3mskbR"
      },
      "source": [
        "### **Ejercicio 1**\n",
        "\n",
        "Escribir un programa que le pida al usuario que ingrese 10 números  enteros (primero uno, luego otro, y así hasta que el usuario ingrese 10 numeros). Al final, el programa debe imprimir los números que fueron ingresados en orden inverso, la suma total de los valores y el promedio."
      ]
    },
    {
      "cell_type": "code",
      "execution_count": 1,
      "metadata": {},
      "outputs": [
        {
          "name": "stdout",
          "output_type": "stream",
          "text": [
            "20\n",
            "30\n",
            "40\n",
            "50\n",
            "60\n",
            "70\n",
            "80\n",
            "90\n",
            "10\n",
            "11\n",
            "461\n",
            "46.1\n",
            "11\n",
            "10\n",
            "90\n",
            "80\n",
            "70\n",
            "60\n",
            "50\n",
            "40\n",
            "30\n",
            "20\n"
          ]
        }
      ],
      "source": [
        "import numpy as np\n",
        "\n",
        "suma = 0\n",
        "promedio = 1\n",
        "arreglo = np.zeros(10,int)\n",
        "for i in range(10):\n",
        "    numero = int(input(f\"Ingrese el numero en la posicion {i+1}\" ))\n",
        "    arreglo[i] = numero\n",
        "    print(arreglo[i])\n",
        "    suma = arreglo[i]+suma\n",
        "    \n",
        "print(suma)\n",
        "promedio = suma /10\n",
        "print(promedio)\n",
        "\n",
        "for i in reversed(range(10)):\n",
        "    print(arreglo[i])"
      ]
    },
    {
      "cell_type": "markdown",
      "metadata": {
        "id": "V6tx4ZIXbLW8"
      },
      "source": [
        "### **Ejercicio 1b**\n",
        "\n",
        "Escribir un progrma que imprima un subarreglo sin la primera ni la ultima posicion.\n",
        "\n",
        "Se recomienda usar el operador \":\"   arreglo[desde:hasta:paso]\n",
        "\n",
        "Por ejemplo si arr2 = arr[0:len(arr)], arr2 copia todo el arreglo arr."
      ]
    },
    {
      "cell_type": "code",
      "execution_count": 14,
      "metadata": {},
      "outputs": [
        {
          "name": "stdout",
          "output_type": "stream",
          "text": [
            "[5, 6, 4, 5]\n"
          ]
        }
      ],
      "source": [
        "import numpy as np\n",
        "\n",
        "arreglo = [1,5,6,4,5,7]\n",
        "arreglo_nuevo = arreglo[1:5:1]\n",
        "print(arreglo_nuevo)"
      ]
    },
    {
      "cell_type": "code",
      "execution_count": 1,
      "metadata": {
        "colab": {
          "base_uri": "https://localhost:8080/"
        },
        "id": "1AlKlbKgubug",
        "outputId": "445446ab-8437-4126-c041-f196d94f5f79"
      },
      "outputs": [
        {
          "name": "stdout",
          "output_type": "stream",
          "text": [
            "0 8\n",
            "1 9\n",
            "2 10\n",
            "0 0\n",
            "1 1\n",
            "2 4\n",
            "2 4\n",
            "1 1\n",
            "0 0\n"
          ]
        }
      ],
      "source": [
        "import numpy as np\n",
        "\n",
        "vector = np.zeros((3),int)\n",
        "\n",
        "vector[0] = int(input(\"ingrese un numero\"))\n",
        "vector[1] = int(input(\"ingrese un numero\"))\n",
        "vector[2] = int(input(\"ingrese un numero\"))\n",
        "\n",
        "for indice in range(len(vector)):\n",
        "  vector[indice] = int(input(\"ingrese un numero\"))\n",
        "  print(indice, vector[indice])\n",
        "\n",
        "for indice in range(len(vector)):\n",
        "  vector[indice] = indice*indice\n",
        "  print(indice, vector[indice])\n",
        "\n",
        "for indice in reversed(range(len(vector))):\n",
        "  print(indice, vector[indice])"
      ]
    },
    {
      "cell_type": "markdown",
      "metadata": {
        "id": "xQdIQRhp-STK"
      },
      "source": [
        "### **Ejercicio 2**\n",
        "\n",
        "Escribir una función que recibe un arreglo de enteros por parámetro y lo retorna con el contenido desplazado una posición hacia la derecha: el primero pasa a ser el segundo, el segundo pasa a ser el tercero y así sucesivamente. El último pasa a ser el primero.\n",
        "\n",
        "Luego, escribir un programa que cargue un arreglo con valores ingresados por el usuario y llame a la función con ese arreglo. Mostrar el contenido del arreglo por pantalla, antes y después de la función.\n",
        "\n",
        "Por ejemplo:\n",
        "\n",
        "Arreglo original = [2, 4, 1, 5, 7, 9]\n",
        "\n",
        "Arreglo desplazado = [9, 2, 4, 1, 5, 7]"
      ]
    },
    {
      "cell_type": "code",
      "execution_count": null,
      "metadata": {
        "colab": {
          "base_uri": "https://localhost:8080/"
        },
        "id": "w6qrLd4-XwHB",
        "outputId": "78753d36-462f-4a27-bc28-847583c03ae2"
      },
      "outputs": [
        {
          "name": "stdout",
          "output_type": "stream",
          "text": [
            "9\n",
            "-------------------\n",
            "7\n",
            "5\n",
            "1\n",
            "4\n",
            "2\n",
            "7\n",
            "-------------------\n",
            "9\n",
            "[9 2 4 1 5 7]\n"
          ]
        }
      ],
      "source": [
        "#                   0  1  2  3  4  5  de 0 a len(arreglo)-1\n",
        "import numpy as np\n",
        "arreglo = np.array([2, 4, 1, 5, 7, 9])\n",
        "arreglo2 = np.array([3, 2, 4])\n",
        "\n",
        "def desplazar(arr:np.array):\n",
        "    aux = arr[len(arr)-1]\n",
        "    print(aux)\n",
        "    print(\"-------------------\")\n",
        "    for i in reversed (range(len(arr))):\n",
        "        arr[i]=arr[i-1]\n",
        "        print(arr[i])\n",
        "        \n",
        "    arr[0]=aux\n",
        "    print(\"-------------------\")\n",
        "    print(arr[0])\n",
        "desplazar(arreglo)\n",
        "print(arreglo)"
      ]
    },
    {
      "cell_type": "markdown",
      "metadata": {
        "id": "uMMYGjtoXuJD"
      },
      "source": [
        "### **Ejercicio 3**\n",
        "\n",
        "Desarrollar una función que inserte un elemento en un arreglo de enteros dada la posición de inserción. Al insertar un elemento en una posición, se produce un desplazamiento a la derecha, si el arreglo estaba lleno, el último elemento se pierde.\n",
        "\n",
        "Por ejemplo:\n",
        "\n",
        "Si insertamos el elemento 5 en la posicion 3 del arreglo:\n",
        "\n",
        "Arreglo antes de insertar = [2, 4, 1, 7, 6, 2]\n",
        "\n",
        "Arreglo despues de insertar = [2, 4, 1, ***5***, 7, 6]"
      ]
    },
    {
      "cell_type": "code",
      "execution_count": 10,
      "metadata": {
        "colab": {
          "base_uri": "https://localhost:8080/"
        },
        "id": "u-SyGjz6xn2_",
        "outputId": "db01d221-57c9-498a-aaa1-7f9b8625a2ea"
      },
      "outputs": [
        {
          "name": "stdout",
          "output_type": "stream",
          "text": [
            "2\n",
            "4\n",
            "1\n",
            "5\n",
            "7\n",
            "6\n",
            "[2 4 1 5 7 6]\n"
          ]
        }
      ],
      "source": [
        "import numpy as np\n",
        "\n",
        "#               0  1  2  3  4  5\n",
        "arr = np.array([2, 4, 1, 7, 6, 0])\n",
        "\"\"\"\n",
        "def insertarArr(arr:np.array,numero:int,posicion:int):\n",
        "    aux = 0\n",
        "    for i in range (len(arr)):\n",
        "        if arr[i] == arr[posicion]:\n",
        "            arr[i] = arr[numero]\n",
        "        \n",
        "    for i in range (len(arr)):\n",
        "        print(arr[i])\n",
        "\"\"\"\n",
        "def insertarArr(arr: np.array, numero: int, posicion: int):\n",
        "    # Desplazar a la derecha desde el final hasta la posición\n",
        "    #print(len(arr)-1)\n",
        "    #print(\" ------\")\n",
        "    for i in range(len(arr) - 1, posicion, -1):\n",
        "        #print(arr[i])\n",
        "        arr[i] = arr[i - 1]\n",
        "        #print(arr[i])\n",
        "        #print(\" nnn-----\")\n",
        "    # Insertar el nuevo número\n",
        "    arr[posicion] = numero\n",
        "    # Imprimir el arreglo\n",
        "    for i in range(len(arr)):\n",
        "        print(arr[i])\n",
        "\n",
        "insertarArr(arr,5,3)\n",
        "print(arr)"
      ]
    },
    {
      "cell_type": "markdown",
      "metadata": {
        "id": "bNMqYkKsbIqC"
      },
      "source": [
        "### **Ejercicio 3 bis**  Escribir una funcion que reciba dos arreglos y devuelva otro como resultado de la suma elemento a elemento de los arreglos recibidos como parametro\n",
        "\n",
        "Si\n",
        "\n",
        "a = [1,2,3]\n",
        "b = [4,3,4]\n",
        "\n",
        "entonces tenemos que devolver\n",
        "\n",
        "[5,5,7]"
      ]
    },
    {
      "cell_type": "code",
      "execution_count": 19,
      "metadata": {
        "colab": {
          "base_uri": "https://localhost:8080/"
        },
        "id": "TbzIq25YbIGq",
        "outputId": "ec978d31-365f-4dee-f249-32a3822d8fba"
      },
      "outputs": [
        {
          "name": "stdout",
          "output_type": "stream",
          "text": [
            "7\n",
            "10\n",
            "8\n",
            "15\n",
            "15\n"
          ]
        },
        {
          "data": {
            "text/plain": [
              "array([ 7, 10,  8, 15, 15])"
            ]
          },
          "execution_count": 19,
          "metadata": {},
          "output_type": "execute_result"
        }
      ],
      "source": [
        "import numpy as np\n",
        "\n",
        "v10 = np.array([2, 4, 1, 7, 6, 2])\n",
        "v20 = np.array([5, 6, 7, 8, 9, 5])\n",
        "\n",
        "def sumarArreglos (arr1:np.array,arr2:np.array):\n",
        "    arrSuma = np.zeros(len(arr1)-1,int)\n",
        "    for i in range (len(arr1)-1):\n",
        "        arrSuma[i] = arr1[i] + arr2[i]\n",
        "        print(arrSuma[i])\n",
        "    return arrSuma\n",
        "\n",
        "sumarArreglos(v10,v20)\n",
        "\n",
        "    "
      ]
    },
    {
      "cell_type": "markdown",
      "metadata": {
        "id": "FvY2_qmwX_KA"
      },
      "source": [
        "### **Ejercicio 4**\n",
        "\n",
        "Escribir una función que elimine el elemento que ocupa una determinada posición de un arreglo de enteros.  Al eliminar se debe mantener la continuidad, es decir, los elementos a la derecha del eliminado, deben desplazarse a la izquierda un lugar.\n",
        "\n",
        "Por ejemplo:\n",
        "\n",
        "Si eliminamos el elemento de la posicion 2 del arreglo:\n",
        "\n",
        "Arreglo antes de eliminar = [4, 3, **5**, 8, 6, 7]\n",
        "\n",
        "Arreglo despues de eliminar = [4, 3, 8, 6, 7, 0]"
      ]
    },
    {
      "cell_type": "code",
      "execution_count": 34,
      "metadata": {
        "colab": {
          "base_uri": "https://localhost:8080/"
        },
        "id": "UvYJknRvYTla",
        "outputId": "35e38f49-f139-4db1-e365-07dabfb4d646"
      },
      "outputs": [
        {
          "name": "stdout",
          "output_type": "stream",
          "text": [
            "7\n",
            "[4 3 5 8 7 0]\n"
          ]
        }
      ],
      "source": [
        "arreglo = np.array([4, 3, 5, 8, 6, 7])\n",
        "\n",
        "def eliminarElemento(arr:np.array,posicion:int):\n",
        "    for i in range (posicion,len(arr)-1):\n",
        "        arr[i] = arr[i+1]\n",
        "        print(arr[i])\n",
        "    arreglo[-1] = 0\n",
        "\n",
        "\n",
        "eliminarElemento(arreglo,4)\n",
        "print(arreglo)"
      ]
    },
    {
      "cell_type": "markdown",
      "metadata": {
        "id": "dfuNkFxdYT--"
      },
      "source": [
        "### **Ejercicio 5**\n",
        "\n",
        "Escribir una función que elimine todas las apariciones de un determinado elemento de un arreglo de enteros."
      ]
    },
    {
      "cell_type": "code",
      "execution_count": 2,
      "metadata": {
        "id": "o6twFUebYsO3"
      },
      "outputs": [
        {
          "name": "stdout",
          "output_type": "stream",
          "text": [
            "1\n",
            "3\n",
            "7\n",
            "[1, 3, 3, 4, 4, 5, 6, 7, 7, 8, 9, 2]\n"
          ]
        }
      ],
      "source": [
        "arreglo = [1,2,3,2,4,5,6,2,7,8,9,2]\n",
        "\n",
        "def eliminarRepetido(arr:np.array,numero:int):\n",
        "    numeroRepeticiones = 0\n",
        "    for i in range (len(arr)-1):\n",
        "        if arr[i] == numero:\n",
        "            numeroRepeticiones =+ i\n",
        "            arr[i] = arr[i+1]\n",
        "            print(numeroRepeticiones)\n",
        "\n",
        "eliminarRepetido(arreglo,2)\n",
        "print(arreglo)"
      ]
    },
    {
      "cell_type": "markdown",
      "metadata": {
        "id": "ZJIIFv_zYsrF"
      },
      "source": [
        "### **Ejercicio 6**\n",
        "\n",
        "Escribir un programa que crea y cargar dos matrices de tamaño 3x3, las suma y muestra el resultado."
      ]
    },
    {
      "cell_type": "code",
      "execution_count": 59,
      "metadata": {
        "colab": {
          "base_uri": "https://localhost:8080/"
        },
        "id": "JS3EgBP4ZpLs",
        "outputId": "fcd0a236-1188-4cdb-fff7-e99676c4331c"
      },
      "outputs": [
        {
          "name": "stdout",
          "output_type": "stream",
          "text": [
            "Matriz 1:\n",
            "[[6 8 1]\n",
            " [9 7 8]\n",
            " [2 6 2]]\n",
            "Matriz 2:\n",
            "[[0 3 9]\n",
            " [7 1 3]\n",
            " [8 5 1]]\n",
            "Suma de matrices:\n",
            "[[ 6 11 10]\n",
            " [16  8 11]\n",
            " [10 11  3]]\n"
          ]
        }
      ],
      "source": [
        "import numpy as np\n",
        "\n",
        "matriz1 = np.random.randint(0,10,(3,3))\n",
        "matriz2 = np.random.randint(0,10,(3,3))\n",
        "\n",
        "sumaArreglos = np.zeros((3,3),int)\n",
        "for i in range (len(matriz1)):\n",
        "    for j in range (len(matriz1[0])):\n",
        "        sumaArreglos[i][j]= matriz1[i][j] + matriz2[i][j]\n",
        "\n",
        "print(\"Matriz 1:\")\n",
        "print(matriz1)\n",
        "print(\"Matriz 2:\")\n",
        "print(matriz2)\n",
        "print(\"Suma de matrices:\")\n",
        "print(sumaArreglos)"
      ]
    },
    {
      "cell_type": "markdown",
      "metadata": {
        "id": "0g6QV3ZhZp6J"
      },
      "source": [
        "### **Ejercicio 7**\n",
        "\n",
        "Escribir una función que recibe una matriz y la rellena de la siguiente forma:\n",
        "\n",
        "En la posición M[ n , m ]\n",
        "\n",
        "debe contener n + m.\n"
      ]
    },
    {
      "cell_type": "code",
      "execution_count": 15,
      "metadata": {
        "colab": {
          "base_uri": "https://localhost:8080/"
        },
        "id": "UW1iXcs9aULl",
        "outputId": "1062ef06-0b4e-4d89-aef4-941b4152b3c6"
      },
      "outputs": [
        {
          "name": "stdout",
          "output_type": "stream",
          "text": [
            "[[ 0 10 20]\n",
            " [ 1  1  1]\n",
            " [ 2  2  2]\n",
            " [ 2  2  2]]\n",
            "[[0 1 2]\n",
            " [1 2 3]\n",
            " [2 3 4]\n",
            " [3 4 5]]\n"
          ]
        }
      ],
      "source": [
        "mat1 = np.array([[0,10,20],[1,1,1],[2,2,2],[2,2,2]])\n",
        "matrizPosiciones = np.zeros((4,3),int)\n",
        "\n",
        "for i in range(len(mat1)):\n",
        "    for j in range (len(mat1[0])):\n",
        "        matrizPosiciones[i][j] =i+j\n",
        "\n",
        "print(mat1)\n",
        "\n",
        "print(matrizPosiciones)"
      ]
    },
    {
      "cell_type": "markdown",
      "metadata": {
        "id": "g96hWdmiaUmA"
      },
      "source": [
        "### **Ejercicio 8**\n",
        "\n",
        "Desarrollar una función que recibe una matriz cuadrada de números reales (N x N) por parámetro y calcula la suma de los elementos que están por encima de la diagonal principal (excluyendo la diagonal).\n",
        "\n",
        "En el ejemplo de la imagen, la función deberia retornar: *b + c + f*\n",
        "\n",
        "![texto alternativo](https://economipedia.com/wp-content/uploads/Captura-de-Pantalla-2019-07-29-a-les-13.18.05-1.png)"
      ]
    },
    {
      "cell_type": "code",
      "execution_count": null,
      "metadata": {
        "colab": {
          "base_uri": "https://localhost:8080/"
        },
        "id": "F7UJsyFgbxkf",
        "outputId": "f4817480-1502-4f95-8270-f858e3c30feb"
      },
      "outputs": [
        {
          "name": "stdout",
          "output_type": "stream",
          "text": [
            "36\n",
            "31\n"
          ]
        }
      ],
      "source": [
        "#Muestra la suma de los numeros fuera de la diagonal\n",
        "mat1 = np.array([[0,10,20],[1,1,1],[2,2,2]])\n",
        "sumaDiagonal = 0\n",
        "for i in range (len(mat1)):\n",
        "    for j in range (len(mat1[0])):\n",
        "        if i!=j:\n",
        "            sumaDiagonal += mat1[i][j] \n",
        "print(sumaDiagonal)\n",
        "\n",
        "\n",
        "#Muestra la suma de los numeros sobre la diagonal\n",
        "mat1 = np.array([[0,10,20],[1,1,1],[2,2,2]])\n",
        "suma = 0\n",
        "for i in range(len(mat1)):\n",
        "    for j in range(len(mat1[0])):\n",
        "        if j > i:\n",
        "            suma += mat1[i][j]\n",
        "\n",
        "print(suma)"
      ]
    },
    {
      "cell_type": "markdown",
      "metadata": {
        "id": "ERqaprbtbx5F"
      },
      "source": [
        "### **Ejercicio 9**\n",
        "\n",
        "Escribir una función que retorna *True* si una matriz cuadrada de enteros es matriz diagonal y *False* en caso contrario.\n",
        "\n",
        "Una matriz diagonal es una matriz que tiene ceros en todos sus elementos, menos en la diagonal principal."
      ]
    },
    {
      "cell_type": "code",
      "execution_count": 35,
      "metadata": {
        "id": "ehZJVkc_cWIg"
      },
      "outputs": [
        {
          "name": "stdout",
          "output_type": "stream",
          "text": [
            "[[1 0 0]\n",
            " [0 1 0]\n",
            " [0 0 1]]\n",
            "True\n",
            "[[1 0 0 0]\n",
            " [0 1 0 0]\n",
            " [0 0 1 0]\n",
            " [0 0 0 1]]\n",
            "True\n"
          ]
        }
      ],
      "source": [
        "matrizCuadrada = np.array([[1,0,0],[0,1,0],[0,0,1]])\n",
        "matrizCuadrada2 = np.array([[1,0,0,0],[0,1,0,0],[0,0,1,0],[0,0,0,1]])\n",
        "\n",
        "\"\"\"\n",
        "[[1 0 0]\n",
        " [0 1 0]\n",
        " [0 0 1]]\n",
        "\n",
        "\"\"\"\n",
        "\n",
        "def esDiagonal(matriz):\n",
        "    for i in range(len(matriz)):\n",
        "        for j in range(len(matriz[0])):\n",
        "            if i != j and matriz[i][j] != 0:\n",
        "                return False\n",
        "    return True\n",
        "\n",
        "print(matrizCuadrada)\n",
        "print(esDiagonal(matrizCuadrada))\n",
        "\n",
        "print(matrizCuadrada2)\n",
        "print(esDiagonal(matrizCuadrada2))"
      ]
    },
    {
      "cell_type": "markdown",
      "metadata": {
        "id": "dHytTlIXcW5P"
      },
      "source": [
        "### **Ejercicio 10**\n",
        "\n",
        "Escribir una función que retorna *True* si una matriz cuadrada de enteros es simétrica y *False* en caso contrario.\n",
        "\n",
        "Una matriz simétrica es como la de la imagen (no importan los elementos de la diagonal principal):\n",
        "\n",
        "![texto alternativo](https://economipedia.com/wp-content/uploads/Captura-de-Pantalla-2019-09-23-a-les-15.58.25.png)"
      ]
    },
    {
      "cell_type": "code",
      "execution_count": null,
      "metadata": {
        "id": "3SA7bN6ldIwQ"
      },
      "outputs": [
        {
          "data": {
            "text/plain": [
              "False"
            ]
          },
          "execution_count": 48,
          "metadata": {},
          "output_type": "execute_result"
        }
      ],
      "source": [
        "mat1 = np.array([[1,0,0],[1,1,1],[2,2,2]])\n",
        "mat2 = np.array([['d','s','e'],['s','d','a'],['e','a','d']])\n",
        "\n",
        "# [0,1] = [1,0], [0,2] = [2,0], [1,2] = [2,1]\n",
        "def matrizSimetrica(matriz:np.array) -> np.array:\n",
        "    for i in range (len(matriz)):\n",
        "        for j in range (len(matriz[0])):\n",
        "            if matriz[i][j] != matriz[j][i]:\n",
        "                return False\n",
        "        return True\n",
        "    \n",
        "\n",
        "matrizSimetrica(mat2)\n"
      ]
    },
    {
      "cell_type": "markdown",
      "metadata": {
        "id": "Hiby3e3U2GaE"
      },
      "source": [
        "### **Comentario**\n",
        "\n",
        "En los ejercicios que usan cadenas de caracteres, pueden usar el tipo *str*, salvo que necesiten modificar elementos de la cadena luego de crearla, en ese caso, tienen que usar arreglos de caracteres."
      ]
    },
    {
      "cell_type": "markdown",
      "metadata": {
        "id": "J5x_ui9jeE2c"
      },
      "source": [
        "### **Ejercicio 11**\n",
        "\n",
        "Escribir 3 procedimientos que reciben una cadena de caracteres y..:\n",
        "- Imprima los dos primeros caracteres.\n",
        "- Imprima los tres últimos caracteres.\n",
        "- Imprima la cadena cada dos caracteres. Por ej.: 'recta' debería imprimir 'rca'"
      ]
    },
    {
      "cell_type": "code",
      "execution_count": 77,
      "metadata": {
        "id": "9jAdPSY5egwF"
      },
      "outputs": [],
      "source": [
        "nombres = \"Carolina\"\n",
        "\n",
        "def primerosCaracteres(cadena:str)->str:\n",
        "    return cadena[:2]\n",
        "\n",
        "def ultimosCaracteres(cadena:str)->str:\n",
        "    return cadena[-3:]\n",
        "\n",
        "def dosCaracteres(cadena:str) -> str:\n",
        "    return cadena[::2]"
      ]
    },
    {
      "cell_type": "code",
      "execution_count": 78,
      "metadata": {},
      "outputs": [
        {
          "data": {
            "text/plain": [
              "'Crln'"
            ]
          },
          "execution_count": 78,
          "metadata": {},
          "output_type": "execute_result"
        }
      ],
      "source": [
        "primerosCaracteres(nombres)\n",
        "ultimosCaracteres(nombres)\n",
        "dosCaracteres(nombres)"
      ]
    },
    {
      "cell_type": "markdown",
      "metadata": {
        "id": "2iWbsrQNnofI"
      },
      "source": [
        "### **Ejercicio 12**\n",
        "\n",
        "Escribir una función que recibe una cadena de caracteres y un caracter y retorna una nueva cadena que tiene el caracter entre cada letra de la cadena de entrada.\n",
        "\n",
        "Por ej si la cadena es: ' separar ' y el caracter es: ' x ', debería retornar ' sxexpxaxrxaxr '"
      ]
    },
    {
      "cell_type": "code",
      "execution_count": 4,
      "metadata": {
        "colab": {
          "base_uri": "https://localhost:8080/"
        },
        "id": "9aEXl8tzq1Di",
        "outputId": "b4a636e1-f2fa-4196-b80b-9fcb9df71f54"
      },
      "outputs": [
        {
          "name": "stdout",
          "output_type": "stream",
          "text": [
            "sxexpxaxrxaxrx\n"
          ]
        }
      ],
      "source": [
        "def intercalar_caracter(cadena: str, caracter: str) -> str:\n",
        "    nueva_cadena = \"\"\n",
        "    for letra in cadena:\n",
        "        nueva_cadena += letra + caracter\n",
        "    return nueva_cadena\n",
        "\n",
        "# Ejemplo de uso:\n",
        "print(intercalar_caracter(\"separar\", \"x\"))  # Imprime 'sxexpxaxrxaxr'"
      ]
    },
    {
      "cell_type": "markdown",
      "metadata": {
        "id": "vTxxGJvjx4ul"
      },
      "source": [
        "### **Ejercicio 13**\n",
        "\n",
        "Escribir una función que recibe un arreglo variables de tipo \"Tiempo\" (TDA del ejercicio 4 del TP de TDA) y retorna un nuevo arreglo solo con los tiempos que son mayores a una hora (1:00:00).\n",
        "\n",
        "Escribir un programa para probar a la función.\n",
        "\n",
        "Nota: Van a tener que copiar el TDA \"Tiempo\" en el bloque de código de abajo y para que un *print* de un vector de variables de tipo \"Tiempo\" funcione, tienen que programar la operacion \"\\_\\_repr__()\" en el TDA \"Tiempo\"."
      ]
    },
    {
      "cell_type": "code",
      "execution_count": null,
      "metadata": {
        "id": "TtxqYIhRx5VY"
      },
      "outputs": [],
      "source": [
        "def validarTipo(variable,nombre,tipo, condicion=True):\n",
        "    if isinstance(variable,tipo) and condicion:\n",
        "        return variable\n",
        "    else:\n",
        "        raise Exception (\"La variable\" + nombre + \"deber ser de tipo \"+str(tipo))\n",
        "    \n",
        "class Tiempo:\n",
        "    def __init__(self,horas:int,minutos:int,segundos:int):\n",
        "        self._horas = horas \n",
        "        self._minutos = validarTipo(minutos,\"minutos\",int,0 <= minutos <=59)\n",
        "        self._segundos = validarTipo(segundos,\"segundos\",int,0 <= segundos <= 59)\n",
        "    \n",
        "    def segundos(self):\n",
        "        return self._segundos\n",
        "    def minutos(self):\n",
        "        return self._minutos\n",
        "    def horas(self):\n",
        "        return self._horas\n",
        "    \n",
        "    def __repr__(self) -> str:\n",
        "        return f\"{self._horas:02d}:{self._minutos:02d}:{self._segundos:02d}\"\n",
        "    \n",
        "    def tiempoaSegundos(self):\n",
        "        return self._horas * 3600 + self._minutos * 60 + self._segundos\n",
        "    \n",
        "def tiemposMayoresaUnaHora(fechas) -> list:\n",
        "    fechasHoras = []\n",
        "    for tiempo in fechas:\n",
        "        if tiempo.tiempoaSegundos() > 3600:\n",
        "            fechasHoras.append(tiempo)\n",
        "    return fechasHoras"
      ]
    },
    {
      "cell_type": "code",
      "execution_count": 30,
      "metadata": {},
      "outputs": [
        {
          "name": "stdout",
          "output_type": "stream",
          "text": [
            "3600\n",
            "[01:00:01, 02:10:00]\n"
          ]
        }
      ],
      "source": [
        "\n",
        "mi_tiempo = Tiempo(1,00,00)\n",
        "\n",
        "print(mi_tiempo.tiempoaSegundos())  # Imprime 9015\n",
        "\n",
        "fechasComprobacion = np.array([\n",
        "    Tiempo(0, 59, 59),\n",
        "    Tiempo(1, 0, 1),\n",
        "    Tiempo(2, 10, 0),\n",
        "    Tiempo(0, 30, 0)\n",
        "], dtype=object)\n",
        "\n",
        "print(tiemposMayoresaUnaHora(fechasComprobacion))"
      ]
    },
    {
      "cell_type": "markdown",
      "metadata": {
        "id": "tnlvo6O4q1lG"
      },
      "source": [
        "### **Ejercicio 14**\n",
        "\n",
        "Una de las aplicaciones de matrices en programación es la representación y procesamiento de imágenes. Vamos a ver algunas cosas que se pueden hacer. Para esto primero tenemos que cargarnos una imagen en el colab y generar una matriz a partir de ella.\n",
        "\n",
        "- Descarguen el archivo \"felix.csv\" del siguiente link:\n",
        "https://drive.google.com/file/d/1B18uu-11gnEtdlL3rTA2nolZKKWShxRY/view?usp=sharing\n",
        "- Suban el archivo \"felix.csv\" al \"colab\" para poder cargarlo con el programa de Python de abajo (haciendo click en el icono de la carpeta ![texto alternativo](https://i.ibb.co/jzqwMsc/carpeta.png), de arriba a la izquierda y luego en \"Subir\")\n",
        "- Completen el programa, procesando a la imagen guardada en la matriz \"felix\" para obtener las imágenes de la siguiente figura (La \"A\" es la imagen original), pueden hacer funciones que generen cada transformación en la imagen:\n",
        "\n",
        "![texto alternativo](https://i.ibb.co/BcW3mwF/felix-results.png)"
      ]
    },
    {
      "cell_type": "code",
      "execution_count": 5,
      "metadata": {
        "colab": {
          "base_uri": "https://localhost:8080/",
          "height": 507
        },
        "id": "5RXi-2ZbrXkZ",
        "outputId": "6232a31d-d94b-47a4-9245-6a524d91830a"
      },
      "outputs": [
        {
          "ename": "FileNotFoundError",
          "evalue": "felix.csv not found.",
          "output_type": "error",
          "traceback": [
            "\u001b[31m---------------------------------------------------------------------------\u001b[39m",
            "\u001b[31mFileNotFoundError\u001b[39m                         Traceback (most recent call last)",
            "\u001b[36mCell\u001b[39m\u001b[36m \u001b[39m\u001b[32mIn[5]\u001b[39m\u001b[32m, line 6\u001b[39m\n\u001b[32m      3\u001b[39m \u001b[38;5;28;01mimport\u001b[39;00m\u001b[38;5;250m \u001b[39m\u001b[34;01mcopy\u001b[39;00m\u001b[38;5;250m \u001b[39m\u001b[38;5;28;01mas\u001b[39;00m\u001b[38;5;250m \u001b[39m\u001b[34;01mcp\u001b[39;00m\n\u001b[32m      5\u001b[39m \u001b[38;5;66;03m###Lectura del archivo en la matriz#####\u001b[39;00m\n\u001b[32m----> \u001b[39m\u001b[32m6\u001b[39m felix = \u001b[43mnp\u001b[49m\u001b[43m.\u001b[49m\u001b[43mgenfromtxt\u001b[49m\u001b[43m(\u001b[49m\u001b[33;43m'\u001b[39;49m\u001b[33;43mfelix.csv\u001b[39;49m\u001b[33;43m'\u001b[39;49m\u001b[43m,\u001b[49m\u001b[43m \u001b[49m\u001b[43mdelimiter\u001b[49m\u001b[43m=\u001b[49m\u001b[33;43m'\u001b[39;49m\u001b[33;43m,\u001b[39;49m\u001b[33;43m'\u001b[39;49m\u001b[43m)\u001b[49m\n\u001b[32m      7\u001b[39m \u001b[38;5;66;03m########################################\u001b[39;00m\n\u001b[32m      8\u001b[39m \n\u001b[32m      9\u001b[39m \u001b[38;5;66;03m######Para mostrar matriz como imagen###########\u001b[39;00m\n\u001b[32m     10\u001b[39m plt.imshow(felix)\n",
            "\u001b[36mFile \u001b[39m\u001b[32mc:\\Users\\LENOVO\\AppData\\Local\\Programs\\Python\\Python312\\Lib\\site-packages\\numpy\\lib\\_npyio_impl.py:1990\u001b[39m, in \u001b[36mgenfromtxt\u001b[39m\u001b[34m(fname, dtype, comments, delimiter, skip_header, skip_footer, converters, missing_values, filling_values, usecols, names, excludelist, deletechars, replace_space, autostrip, case_sensitive, defaultfmt, unpack, usemask, loose, invalid_raise, max_rows, encoding, ndmin, like)\u001b[39m\n\u001b[32m   1988\u001b[39m     fname = os.fspath(fname)\n\u001b[32m   1989\u001b[39m \u001b[38;5;28;01mif\u001b[39;00m \u001b[38;5;28misinstance\u001b[39m(fname, \u001b[38;5;28mstr\u001b[39m):\n\u001b[32m-> \u001b[39m\u001b[32m1990\u001b[39m     fid = \u001b[43mnp\u001b[49m\u001b[43m.\u001b[49m\u001b[43mlib\u001b[49m\u001b[43m.\u001b[49m\u001b[43m_datasource\u001b[49m\u001b[43m.\u001b[49m\u001b[43mopen\u001b[49m\u001b[43m(\u001b[49m\u001b[43mfname\u001b[49m\u001b[43m,\u001b[49m\u001b[43m \u001b[49m\u001b[33;43m'\u001b[39;49m\u001b[33;43mrt\u001b[39;49m\u001b[33;43m'\u001b[39;49m\u001b[43m,\u001b[49m\u001b[43m \u001b[49m\u001b[43mencoding\u001b[49m\u001b[43m=\u001b[49m\u001b[43mencoding\u001b[49m\u001b[43m)\u001b[49m\n\u001b[32m   1991\u001b[39m     fid_ctx = contextlib.closing(fid)\n\u001b[32m   1992\u001b[39m \u001b[38;5;28;01melse\u001b[39;00m:\n",
            "\u001b[36mFile \u001b[39m\u001b[32mc:\\Users\\LENOVO\\AppData\\Local\\Programs\\Python\\Python312\\Lib\\site-packages\\numpy\\lib\\_datasource.py:192\u001b[39m, in \u001b[36mopen\u001b[39m\u001b[34m(path, mode, destpath, encoding, newline)\u001b[39m\n\u001b[32m    155\u001b[39m \u001b[38;5;250m\u001b[39m\u001b[33;03m\"\"\"\u001b[39;00m\n\u001b[32m    156\u001b[39m \u001b[33;03mOpen `path` with `mode` and return the file object.\u001b[39;00m\n\u001b[32m    157\u001b[39m \n\u001b[32m   (...)\u001b[39m\u001b[32m    188\u001b[39m \n\u001b[32m    189\u001b[39m \u001b[33;03m\"\"\"\u001b[39;00m\n\u001b[32m    191\u001b[39m ds = DataSource(destpath)\n\u001b[32m--> \u001b[39m\u001b[32m192\u001b[39m \u001b[38;5;28;01mreturn\u001b[39;00m \u001b[43mds\u001b[49m\u001b[43m.\u001b[49m\u001b[43mopen\u001b[49m\u001b[43m(\u001b[49m\u001b[43mpath\u001b[49m\u001b[43m,\u001b[49m\u001b[43m \u001b[49m\u001b[43mmode\u001b[49m\u001b[43m,\u001b[49m\u001b[43m \u001b[49m\u001b[43mencoding\u001b[49m\u001b[43m=\u001b[49m\u001b[43mencoding\u001b[49m\u001b[43m,\u001b[49m\u001b[43m \u001b[49m\u001b[43mnewline\u001b[49m\u001b[43m=\u001b[49m\u001b[43mnewline\u001b[49m\u001b[43m)\u001b[49m\n",
            "\u001b[36mFile \u001b[39m\u001b[32mc:\\Users\\LENOVO\\AppData\\Local\\Programs\\Python\\Python312\\Lib\\site-packages\\numpy\\lib\\_datasource.py:529\u001b[39m, in \u001b[36mDataSource.open\u001b[39m\u001b[34m(self, path, mode, encoding, newline)\u001b[39m\n\u001b[32m    526\u001b[39m     \u001b[38;5;28;01mreturn\u001b[39;00m _file_openers[ext](found, mode=mode,\n\u001b[32m    527\u001b[39m                               encoding=encoding, newline=newline)\n\u001b[32m    528\u001b[39m \u001b[38;5;28;01melse\u001b[39;00m:\n\u001b[32m--> \u001b[39m\u001b[32m529\u001b[39m     \u001b[38;5;28;01mraise\u001b[39;00m \u001b[38;5;167;01mFileNotFoundError\u001b[39;00m(\u001b[33mf\u001b[39m\u001b[33m\"\u001b[39m\u001b[38;5;132;01m{\u001b[39;00mpath\u001b[38;5;132;01m}\u001b[39;00m\u001b[33m not found.\u001b[39m\u001b[33m\"\u001b[39m)\n",
            "\u001b[31mFileNotFoundError\u001b[39m: felix.csv not found."
          ]
        }
      ],
      "source": [
        "import numpy as np\n",
        "import matplotlib.pyplot as plt\n",
        "import copy as cp\n",
        "\n",
        "###Lectura del archivo en la matriz#####\n",
        "felix = np.genfromtxt('felix.csv', delimiter=',')\n",
        "########################################\n",
        "\n",
        "######Para mostrar matriz como imagen###########\n",
        "plt.imshow(felix)\n",
        "plt.show()\n",
        "########################################\n",
        "\n",
        "print(felix[0:4,0:4])"
      ]
    }
  ],
  "metadata": {
    "colab": {
      "include_colab_link": true,
      "provenance": []
    },
    "kernelspec": {
      "display_name": "Python 3",
      "name": "python3"
    },
    "language_info": {
      "codemirror_mode": {
        "name": "ipython",
        "version": 3
      },
      "file_extension": ".py",
      "mimetype": "text/x-python",
      "name": "python",
      "nbconvert_exporter": "python",
      "pygments_lexer": "ipython3",
      "version": "3.12.0"
    }
  },
  "nbformat": 4,
  "nbformat_minor": 0
}
