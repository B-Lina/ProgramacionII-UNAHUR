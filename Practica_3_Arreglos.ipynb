{
  "cells": [
    {
      "cell_type": "markdown",
      "metadata": {
        "id": "view-in-github",
        "colab_type": "text"
      },
      "source": [
        "<a href=\"https://colab.research.google.com/github/B-Lina/ProgramacionII-UNAHUR/blob/main/Practica_3_Arreglos.ipynb\" target=\"_parent\"><img src=\"https://colab.research.google.com/assets/colab-badge.svg\" alt=\"Open In Colab\"/></a>"
      ]
    },
    {
      "cell_type": "markdown",
      "metadata": {
        "id": "42630xxYD0gZ"
      },
      "source": [
        "# ![alt text](https://upload.wikimedia.org/wikipedia/commons/thumb/c/c3/Python-logo-notext.svg/50px-Python-logo-notext.svg.png) **Práctica 3: Arreglos uni y multidimensionales** ![alt text](https://upload.wikimedia.org/wikipedia/commons/thumb/c/c3/Python-logo-notext.svg/50px-Python-logo-notext.svg.png)\n",
        "\n",
        "En este trabajo práctico, vamos a trabajar con arreglos uni y multidimensionales en Python. Recuerden crear una copia de este archivo en su ***Google Drive*** para tener permisos de edición.\n",
        "\n",
        "\n",
        "\n",
        "### Martin: **martin.pustilnik@unahur.edu.ar** ###"
      ]
    },
    {
      "cell_type": "markdown",
      "metadata": {
        "id": "xjXgmD3mskbR"
      },
      "source": [
        "### **Ejercicio 1**\n",
        "\n",
        "Escribir un programa que le pida al usuario que ingrese 10 números  enteros (primero uno, luego otro, y así hasta que el usuario ingrese 10 numeros). Al final, el programa debe imprimir los números que fueron ingresados en orden inverso, la suma total de los valores y el promedio."
      ]
    },
    {
      "cell_type": "markdown",
      "source": [
        "### **Ejercicio 1b**\n",
        "\n",
        "Escribir un progrma que imprima un subarreglo sin la primera ni la ultima posicion.\n",
        "\n",
        "Se recomienda usar el operador \":\"   arreglo[desde:hasta:paso]\n",
        "\n",
        "Por ejemplo si arr2 = arr[0:len(arr)], arr2 copia todo el arreglo arr."
      ],
      "metadata": {
        "id": "V6tx4ZIXbLW8"
      }
    },
    {
      "cell_type": "code",
      "source": [
        "import numpy as np\n",
        "\n",
        "arr = np.array([1,2,3])\n",
        "\n",
        "print(arr[0:len(arr)])\n",
        "print(arr[1:len(arr)])\n",
        "print(arr[1:])\n",
        "print(arr[1:len(arr)-1])"
      ],
      "metadata": {
        "colab": {
          "base_uri": "https://localhost:8080/"
        },
        "id": "TNZtoikJbX1y",
        "outputId": "fa587930-25d4-486e-dc12-18647810e8d7"
      },
      "execution_count": null,
      "outputs": [
        {
          "output_type": "stream",
          "name": "stdout",
          "text": [
            "[1 2 3]\n",
            "[2 3]\n",
            "[2 3]\n",
            "[2]\n"
          ]
        }
      ]
    },
    {
      "cell_type": "code",
      "source": [
        "import numpy as np\n",
        "\n",
        "vector = np.zeros((3),int)\n",
        "\n",
        "vector[0] = int(input(\"ingrese un numero\"))\n",
        "vector[1] = int(input(\"ingrese un numero\"))\n",
        "vector[2] = int(input(\"ingrese un numero\"))\n",
        "\n",
        "for indice in range(len(vector)):\n",
        "  vector[indice] = int(input(\"ingrese un numero\"))\n",
        "  print(indice, vector[indice])\n",
        "\n",
        "for indice in range(len(vector)):\n",
        "  vector[indice] = indice*indice\n",
        "  print(indice, vector[indice])\n",
        "\n",
        "for indice in reversed(range(len(vector))):\n",
        "  print(indice, vector[indice])\n"
      ],
      "metadata": {
        "colab": {
          "base_uri": "https://localhost:8080/"
        },
        "id": "1AlKlbKgubug",
        "outputId": "445446ab-8437-4126-c041-f196d94f5f79"
      },
      "execution_count": null,
      "outputs": [
        {
          "output_type": "stream",
          "name": "stdout",
          "text": [
            "ingrese un numero6\n",
            "ingrese un numero7\n",
            "ingrese un numero8\n",
            "ingrese un numero6\n",
            "0 6\n",
            "ingrese un numero7\n",
            "1 7\n",
            "ingrese un numero8\n",
            "2 8\n"
          ]
        }
      ]
    },
    {
      "cell_type": "code",
      "source": [],
      "metadata": {
        "colab": {
          "base_uri": "https://localhost:8080/"
        },
        "id": "NouHG67q3hY9",
        "outputId": "fe716c40-28a6-4874-92c9-bd9fb29c0d1a"
      },
      "execution_count": null,
      "outputs": [
        {
          "output_type": "stream",
          "name": "stdout",
          "text": [
            "2 4\n",
            "1 1\n",
            "0 0\n"
          ]
        }
      ]
    },
    {
      "cell_type": "code",
      "execution_count": null,
      "metadata": {
        "colab": {
          "base_uri": "https://localhost:8080/"
        },
        "id": "sJuWgqpe8Sjx",
        "outputId": "d2ef3845-f3df-4789-c52f-661cfe715984"
      },
      "outputs": [
        {
          "output_type": "stream",
          "name": "stdout",
          "text": [
            "ingrese indice 05\n",
            "ingrese indice 13\n",
            "ingrese indice 218\n",
            "2 18\n",
            "1 3\n",
            "0 5\n",
            "8.666666666666666\n"
          ]
        }
      ],
      "source": [
        "import numpy as np\n",
        "\n",
        "vector = np.zeros((3),int)\n",
        "\n"
      ]
    },
    {
      "cell_type": "code",
      "source": [
        "for indice in range(len(vector)):\n",
        "  varNueva = len(vector) - indice - 1\n",
        "  print(indice, varNueva)\n"
      ],
      "metadata": {
        "colab": {
          "base_uri": "https://localhost:8080/"
        },
        "id": "wXWplMFa7Fl-",
        "outputId": "12c9411a-68ea-4960-b87f-d23317bb16a0"
      },
      "execution_count": null,
      "outputs": [
        {
          "output_type": "stream",
          "name": "stdout",
          "text": [
            "0 2\n",
            "1 1\n",
            "2 0\n"
          ]
        }
      ]
    },
    {
      "cell_type": "code",
      "source": [
        "import numpy as np\n",
        "\n",
        "arreglo = np.array([2, 4, 1, 5, 7, 9])\n",
        "\n",
        "print(arreglo[1:])\n",
        "\n",
        "print(arreglo[:-1])\n",
        "\n",
        "\n",
        "\n"
      ],
      "metadata": {
        "colab": {
          "base_uri": "https://localhost:8080/"
        },
        "id": "LZSLwLqzojae",
        "outputId": "20fae586-7d09-4a3e-9e84-84e93cd567f5"
      },
      "execution_count": null,
      "outputs": [
        {
          "output_type": "stream",
          "name": "stdout",
          "text": [
            "[4 1 5 7 9]\n",
            "[2 4 1 5 7]\n"
          ]
        }
      ]
    },
    {
      "cell_type": "code",
      "source": [
        "import numpy as np\n",
        "\n",
        "arreglo = np.array([2, 4, 1, 5, 7, 9])\n",
        "\n",
        "print(arreglo[1:])\n",
        "\n",
        "print(arreglo[:-1])\n",
        "\n",
        "# quitamos el primero y el ultimo\n",
        "print(arreglo[1:-1])\n",
        "\n"
      ],
      "metadata": {
        "colab": {
          "base_uri": "https://localhost:8080/"
        },
        "outputId": "5f3baeaa-f62f-4f0c-d1bd-e22b6002e742",
        "id": "AUztwtK9Sy8M"
      },
      "execution_count": null,
      "outputs": [
        {
          "output_type": "stream",
          "name": "stdout",
          "text": [
            "[4 1 5 7 9]\n",
            "[2 4 1 5 7]\n",
            "[4 1 5 7]\n"
          ]
        }
      ]
    },
    {
      "cell_type": "code",
      "execution_count": null,
      "metadata": {
        "colab": {
          "base_uri": "https://localhost:8080/"
        },
        "id": "xDAkOjvHJtbG",
        "outputId": "19a0e154-fb92-40af-936f-23923b460196"
      },
      "outputs": [
        {
          "output_type": "stream",
          "name": "stdout",
          "text": [
            "[4.70546394e-310 0.00000000e+000 1.58101007e-322]\n",
            "0\n",
            "0\n",
            "0\n"
          ]
        }
      ],
      "source": [
        "import numpy as np\n",
        "\n",
        "vector = np.zeros((3),int)\n",
        "\n",
        "arr = np.empty((3))\n",
        "\n",
        "print(arr)\n",
        "\n",
        "#for i in range(len(vector)):\n",
        "#  print(i, vector[i])\n",
        "\n",
        "for elem in vector:\n",
        "  print(elem)\n",
        "\n",
        "\n"
      ]
    },
    {
      "cell_type": "markdown",
      "metadata": {
        "id": "xQdIQRhp-STK"
      },
      "source": [
        "### **Ejercicio 2**\n",
        "\n",
        "Escribir una función que recibe un arreglo de enteros por parámetro y lo retorna con el contenido desplazado una posición hacia la derecha: el primero pasa a ser el segundo, el segundo pasa a ser el tercero y así sucesivamente. El último pasa a ser el primero.\n",
        "\n",
        "Luego, escribir un programa que cargue un arreglo con valores ingresados por el usuario y llame a la función con ese arreglo. Mostrar el contenido del arreglo por pantalla, antes y después de la función.\n",
        "\n",
        "Por ejemplo:\n",
        "\n",
        "Arreglo original = [2, 4, 1, 5, 7, 9]\n",
        "\n",
        "Arreglo desplazado = [9, 2, 4, 1, 5, 7]"
      ]
    },
    {
      "cell_type": "code",
      "execution_count": null,
      "metadata": {
        "colab": {
          "base_uri": "https://localhost:8080/"
        },
        "id": "w6qrLd4-XwHB",
        "outputId": "78753d36-462f-4a27-bc28-847583c03ae2"
      },
      "outputs": [
        {
          "output_type": "stream",
          "name": "stdout",
          "text": [
            "[9 2 4 1 5 7]\n",
            "[4 3 2]\n"
          ]
        }
      ],
      "source": [
        "#                   0  1  2  3  4  5  de 0 a len(arreglo)-1\n",
        "arreglo = np.array([2, 4, 1, 5, 7, 9])\n",
        "arreglo2 = np.array([3, 2, 4])\n",
        "\n"
      ]
    },
    {
      "cell_type": "markdown",
      "metadata": {
        "id": "uMMYGjtoXuJD"
      },
      "source": [
        "### **Ejercicio 3**\n",
        "\n",
        "Desarrollar una función que inserte un elemento en un arreglo de enteros dada la posición de inserción. Al insertar un elemento en una posición, se produce un desplazamiento a la derecha, si el arreglo estaba lleno, el último elemento se pierde.\n",
        "\n",
        "Por ejemplo:\n",
        "\n",
        "Si insertamos el elemento 5 en la posicion 3 del arreglo:\n",
        "\n",
        "Arreglo antes de insertar = [2, 4, 1, 7, 6, 2]\n",
        "\n",
        "Arreglo despues de insertar = [2, 4, 1, ***5***, 7, 6]"
      ]
    },
    {
      "cell_type": "code",
      "source": [
        "import numpy as np\n",
        "\n",
        "#               0  1  2  3  4  5\n",
        "arr = np.array([2, 4, 1, 7, 6, 2])\n",
        "\n",
        "\n",
        "insertarArr(arr,5,3)\n",
        "print(arr)"
      ],
      "metadata": {
        "colab": {
          "base_uri": "https://localhost:8080/"
        },
        "id": "u-SyGjz6xn2_",
        "outputId": "db01d221-57c9-498a-aaa1-7f9b8625a2ea"
      },
      "execution_count": null,
      "outputs": [
        {
          "output_type": "stream",
          "name": "stdout",
          "text": [
            "4 5\n",
            "3 4\n",
            "[2 4 1 5 7 6]\n"
          ]
        }
      ]
    },
    {
      "cell_type": "markdown",
      "source": [
        "### **Ejercicio 3 bis**  Escribir una funcion que reciba dos arreglos y devuelva otro como resultado de la suma elemento a elemento de los arreglos recibidos como parametro\n",
        "\n",
        "Si\n",
        "\n",
        "a = [1,2,3]\n",
        "b = [4,3,4]\n",
        "\n",
        "entonces tenemos que devolver\n",
        "\n",
        "[5,5,7]"
      ],
      "metadata": {
        "id": "bNMqYkKsbIqC"
      }
    },
    {
      "cell_type": "code",
      "source": [
        "import numpy as np\n",
        "\n",
        "v10 = np.array([2, 4, 1, 7, 6, 2])\n",
        "v20 = np.array([5, 6, 7, 8, 9, 5])"
      ],
      "metadata": {
        "id": "TbzIq25YbIGq",
        "colab": {
          "base_uri": "https://localhost:8080/"
        },
        "outputId": "ec978d31-365f-4dee-f249-32a3822d8fba"
      },
      "execution_count": null,
      "outputs": [
        {
          "output_type": "stream",
          "name": "stdout",
          "text": [
            "[ 7 10  8 15 15  7]\n",
            "[ 7 10  8 15 15  7]\n"
          ]
        },
        {
          "output_type": "execute_result",
          "data": {
            "text/plain": [
              "array([[5, 5, 7]])"
            ]
          },
          "metadata": {},
          "execution_count": 16
        }
      ]
    },
    {
      "cell_type": "code",
      "execution_count": null,
      "metadata": {
        "id": "rQEF6QpbX-r0",
        "colab": {
          "base_uri": "https://localhost:8080/"
        },
        "outputId": "7b357557-1845-4ec6-fa4a-574f2d3143b3"
      },
      "outputs": [
        {
          "output_type": "stream",
          "name": "stdout",
          "text": [
            "Pos: 4, Vec i+1: 2, Vec i: 6\n",
            "Pos: 3, Vec i+1: 6, Vec i: 7\n"
          ]
        },
        {
          "output_type": "execute_result",
          "data": {
            "text/plain": [
              "array([2, 4, 1, 5, 7, 6])"
            ]
          },
          "metadata": {},
          "execution_count": 8
        }
      ],
      "source": [
        "\n",
        "\n",
        "vector3 = np.array([2, 4, 1, 7, 6, 2])\n"
      ]
    },
    {
      "cell_type": "markdown",
      "source": [
        "******"
      ],
      "metadata": {
        "id": "_ZcJBWW0bB9f"
      }
    },
    {
      "cell_type": "markdown",
      "metadata": {
        "id": "FvY2_qmwX_KA"
      },
      "source": [
        "### **Ejercicio 4**\n",
        "\n",
        "Escribir una función que elimine el elemento que ocupa una determinada posición de un arreglo de enteros.  Al eliminar se debe mantener la continuidad, es decir, los elementos a la derecha del eliminado, deben desplazarse a la izquierda un lugar.\n",
        "\n",
        "Por ejemplo:\n",
        "\n",
        "Si eliminamos el elemento de la posicion 2 del arreglo:\n",
        "\n",
        "Arreglo antes de eliminar = [4, 3, **5**, 8, 6, 7]\n",
        "\n",
        "Arreglo despues de eliminar = [4, 3, 8, 6, 7, 0]"
      ]
    },
    {
      "cell_type": "code",
      "execution_count": null,
      "metadata": {
        "id": "UvYJknRvYTla",
        "colab": {
          "base_uri": "https://localhost:8080/"
        },
        "outputId": "35e38f49-f139-4db1-e365-07dabfb4d646"
      },
      "outputs": [
        {
          "output_type": "stream",
          "name": "stdout",
          "text": [
            "[4 3 8 6 7 0]\n"
          ]
        }
      ],
      "source": [
        "arreglo = np.array([4, 3, 5, 8, 6, 7])"
      ]
    },
    {
      "cell_type": "markdown",
      "metadata": {
        "id": "dfuNkFxdYT--"
      },
      "source": [
        "### **Ejercicio 5**\n",
        "\n",
        "Escribir una función que elimine todas las apariciones de un determinado elemento de un arreglo de enteros."
      ]
    },
    {
      "cell_type": "code",
      "execution_count": null,
      "metadata": {
        "id": "o6twFUebYsO3"
      },
      "outputs": [],
      "source": []
    },
    {
      "cell_type": "markdown",
      "metadata": {
        "id": "ZJIIFv_zYsrF"
      },
      "source": [
        "### **Ejercicio 6**\n",
        "\n",
        "Escribir un programa que crea y cargar dos matrices de tamaño 3x3, las suma y muestra el resultado."
      ]
    },
    {
      "cell_type": "code",
      "execution_count": null,
      "metadata": {
        "colab": {
          "base_uri": "https://localhost:8080/"
        },
        "id": "JS3EgBP4ZpLs",
        "outputId": "fcd0a236-1188-4cdb-fff7-e99676c4331c"
      },
      "outputs": [
        {
          "output_type": "stream",
          "name": "stdout",
          "text": [
            "111\n",
            "111\n",
            "111\n",
            "\n"
          ]
        }
      ],
      "source": [
        "import numpy as np\n",
        "\n",
        "\n",
        "\n"
      ]
    },
    {
      "cell_type": "markdown",
      "metadata": {
        "id": "0g6QV3ZhZp6J"
      },
      "source": [
        "### **Ejercicio 7**\n",
        "\n",
        "Escribir una función que recibe una matriz y la rellena de la siguiente forma:\n",
        "\n",
        "En la posición M[ n , m ]\n",
        "\n",
        "debe contener n + m.\n"
      ]
    },
    {
      "cell_type": "code",
      "execution_count": null,
      "metadata": {
        "id": "UW1iXcs9aULl",
        "colab": {
          "base_uri": "https://localhost:8080/"
        },
        "outputId": "1062ef06-0b4e-4d89-aef4-941b4152b3c6"
      },
      "outputs": [
        {
          "output_type": "stream",
          "name": "stdout",
          "text": [
            "[[0 1 2]\n",
            " [1 2 3]\n",
            " [2 3 4]\n",
            " [3 4 5]]\n"
          ]
        }
      ],
      "source": [
        "mat1 = np.array([[0,10,20],[1,1,1],[2,2,2],[2,2,2]])\n"
      ]
    },
    {
      "cell_type": "markdown",
      "metadata": {
        "id": "g96hWdmiaUmA"
      },
      "source": [
        "### **Ejercicio 8**\n",
        "\n",
        "Desarrollar una función que recibe una matriz cuadrada de números reales (N x N) por parámetro y calcula la suma de los elementos que están por encima de la diagonal principal (excluyendo la diagonal).\n",
        "\n",
        "En el ejemplo de la imagen, la función deberia retornar: *b + c + f*\n",
        "\n",
        "![texto alternativo](https://economipedia.com/wp-content/uploads/Captura-de-Pantalla-2019-07-29-a-les-13.18.05-1.png)"
      ]
    },
    {
      "cell_type": "markdown",
      "source": [],
      "metadata": {
        "id": "tKuFSSeMf4wF"
      }
    },
    {
      "cell_type": "code",
      "execution_count": null,
      "metadata": {
        "id": "F7UJsyFgbxkf",
        "colab": {
          "base_uri": "https://localhost:8080/"
        },
        "outputId": "f4817480-1502-4f95-8270-f858e3c30feb"
      },
      "outputs": [
        {
          "output_type": "stream",
          "name": "stdout",
          "text": [
            "31\n",
            "31\n"
          ]
        }
      ],
      "source": [
        "mat1 = np.array([[0,10,20],[1,1,1],[2,2,2]])"
      ]
    },
    {
      "cell_type": "markdown",
      "metadata": {
        "id": "ERqaprbtbx5F"
      },
      "source": [
        "### **Ejercicio 9**\n",
        "\n",
        "Escribir una función que retorna *True* si una matriz cuadrada de enteros es matriz diagonal y *False* en caso contrario.\n",
        "\n",
        "Una matriz diagonal es una matriz que tiene ceros en todos sus elementos, menos en la diagonal principal."
      ]
    },
    {
      "cell_type": "code",
      "execution_count": null,
      "metadata": {
        "id": "ehZJVkc_cWIg"
      },
      "outputs": [],
      "source": []
    },
    {
      "cell_type": "markdown",
      "metadata": {
        "id": "dHytTlIXcW5P"
      },
      "source": [
        "### **Ejercicio 10**\n",
        "\n",
        "Escribir una función que retorna *True* si una matriz cuadrada de enteros es simétrica y *False* en caso contrario.\n",
        "\n",
        "Una matriz simétrica es como la de la imagen (no importan los elementos de la diagonal principal):\n",
        "\n",
        "![texto alternativo](https://economipedia.com/wp-content/uploads/Captura-de-Pantalla-2019-09-23-a-les-15.58.25.png)"
      ]
    },
    {
      "cell_type": "code",
      "execution_count": null,
      "metadata": {
        "id": "3SA7bN6ldIwQ"
      },
      "outputs": [],
      "source": [
        "mat1 = np.array([[0,0,0],[1,1,1],[2,2,2]])\n",
        "mat2 = np.array([['d','s','e'],['s','d','a'],['e','a','d']])\n",
        "\n"
      ]
    },
    {
      "cell_type": "code",
      "execution_count": null,
      "metadata": {
        "id": "SEbvTG6x3lqs"
      },
      "outputs": [],
      "source": [
        "[]"
      ]
    },
    {
      "cell_type": "markdown",
      "metadata": {
        "id": "Hiby3e3U2GaE"
      },
      "source": [
        "### **Comentario**\n",
        "\n",
        "En los ejercicios que usan cadenas de caracteres, pueden usar el tipo *str*, salvo que necesiten modificar elementos de la cadena luego de crearla, en ese caso, tienen que usar arreglos de caracteres."
      ]
    },
    {
      "cell_type": "markdown",
      "metadata": {
        "id": "J5x_ui9jeE2c"
      },
      "source": [
        "### **Ejercicio 11**\n",
        "\n",
        "Escribir 3 procedimientos que reciben una cadena de caracteres y..:\n",
        "- Imprima los dos primeros caracteres.\n",
        "- Imprima los tres últimos caracteres.\n",
        "- Imprima la cadena cada dos caracteres. Por ej.: 'recta' debería imprimir 'rca'"
      ]
    },
    {
      "cell_type": "code",
      "execution_count": null,
      "metadata": {
        "id": "9jAdPSY5egwF"
      },
      "outputs": [],
      "source": []
    },
    {
      "cell_type": "markdown",
      "metadata": {
        "id": "2iWbsrQNnofI"
      },
      "source": [
        "### **Ejercicio 12**\n",
        "\n",
        "Escribir una función que recibe una cadena de caracteres y un caracter y retorna una nueva cadena que tiene el caracter entre cada letra de la cadena de entrada.\n",
        "\n",
        "Por ej si la cadena es: ' separar ' y el caracter es: ' x ', debería retornar ' sxexpxaxrxaxr '"
      ]
    },
    {
      "cell_type": "code",
      "execution_count": null,
      "metadata": {
        "colab": {
          "base_uri": "https://localhost:8080/"
        },
        "id": "9aEXl8tzq1Di",
        "outputId": "b4a636e1-f2fa-4196-b80b-9fcb9df71f54"
      },
      "outputs": [
        {
          "name": "stdout",
          "output_type": "stream",
          "text": [
            "0 1\n",
            "2 3\n",
            "4 5\n",
            "6 7\n",
            "['a' 'x' 'b' 'x' 'c' 'x' 'h' 'x']\n"
          ]
        }
      ],
      "source": [
        "\n"
      ]
    },
    {
      "cell_type": "markdown",
      "metadata": {
        "id": "vTxxGJvjx4ul"
      },
      "source": [
        "### **Ejercicio 13**\n",
        "\n",
        "Escribir una función que recibe un arreglo variables de tipo \"Tiempo\" (TDA del ejercicio 4 del TP de TDA) y retorna un nuevo arreglo solo con los tiempos que son mayores a una hora (1:00:00).\n",
        "\n",
        "Escribir un programa para probar a la función.\n",
        "\n",
        "Nota: Van a tener que copiar el TDA \"Tiempo\" en el bloque de código de abajo y para que un *print* de un vector de variables de tipo \"Tiempo\" funcione, tienen que programar la operacion \"\\_\\_repr__()\" en el TDA \"Tiempo\"."
      ]
    },
    {
      "cell_type": "code",
      "execution_count": null,
      "metadata": {
        "id": "TtxqYIhRx5VY"
      },
      "outputs": [],
      "source": []
    },
    {
      "cell_type": "markdown",
      "metadata": {
        "id": "tnlvo6O4q1lG"
      },
      "source": [
        "### **Ejercicio 14**\n",
        "\n",
        "Una de las aplicaciones de matrices en programación es la representación y procesamiento de imágenes. Vamos a ver algunas cosas que se pueden hacer. Para esto primero tenemos que cargarnos una imagen en el colab y generar una matriz a partir de ella.\n",
        "\n",
        "- Descarguen el archivo \"felix.csv\" del siguiente link:\n",
        "https://drive.google.com/file/d/1B18uu-11gnEtdlL3rTA2nolZKKWShxRY/view?usp=sharing\n",
        "- Suban el archivo \"felix.csv\" al \"colab\" para poder cargarlo con el programa de Python de abajo (haciendo click en el icono de la carpeta ![texto alternativo](https://i.ibb.co/jzqwMsc/carpeta.png), de arriba a la izquierda y luego en \"Subir\")\n",
        "- Completen el programa, procesando a la imagen guardada en la matriz \"felix\" para obtener las imágenes de la siguiente figura (La \"A\" es la imagen original), pueden hacer funciones que generen cada transformación en la imagen:\n",
        "\n",
        "![texto alternativo](https://i.ibb.co/BcW3mwF/felix-results.png)"
      ]
    },
    {
      "cell_type": "code",
      "execution_count": null,
      "metadata": {
        "colab": {
          "base_uri": "https://localhost:8080/",
          "height": 507
        },
        "id": "5RXi-2ZbrXkZ",
        "outputId": "6232a31d-d94b-47a4-9245-6a524d91830a"
      },
      "outputs": [
        {
          "output_type": "display_data",
          "data": {
            "text/plain": [
              "<Figure size 640x480 with 1 Axes>"
            ],
            "image/png": "[encoded data removed]"
          },
          "metadata": {}
        },
        {
          "output_type": "stream",
          "name": "stdout",
          "text": [
            "[[1. 1. 1. 1.]\n",
            " [1. 1. 1. 1.]\n",
            " [1. 1. 1. 1.]\n",
            " [1. 1. 1. 1.]]\n"
          ]
        }
      ],
      "source": [
        "import numpy as np\n",
        "import matplotlib.pyplot as plt\n",
        "import copy as cp\n",
        "\n",
        "###Lectura del archivo en la matriz#####\n",
        "felix = np.genfromtxt('felix.csv', delimiter=',')\n",
        "########################################\n",
        "\n",
        "######Para mostrar matriz como imagen###########\n",
        "plt.imshow(felix)\n",
        "plt.show()\n",
        "########################################\n",
        "\n",
        "print(felix[0:4,0:4])"
      ]
    }
  ],
  "metadata": {
    "colab": {
      "provenance": [],
      "include_colab_link": true
    },
    "kernelspec": {
      "display_name": "Python 3",
      "name": "python3"
    }
  },
  "nbformat": 4,
  "nbformat_minor": 0
}