{
  "nbformat": 4,
  "nbformat_minor": 0,
  "metadata": {
    "colab": {
      "provenance": [],
      "include_colab_link": true
    },
    "kernelspec": {
      "name": "python3",
      "display_name": "Python 3"
    }
  },
  "cells": [
    {
      "cell_type": "markdown",
      "metadata": {
        "id": "view-in-github",
        "colab_type": "text"
      },
      "source": [
        "<a href=\"https://colab.research.google.com/github/B-Lina/ProgramacionII-UNAHUR/blob/main/Practica_04_TDA.ipynb\" target=\"_parent\"><img src=\"https://colab.research.google.com/assets/colab-badge.svg\" alt=\"Open In Colab\"/></a>"
      ]
    },
    {
      "cell_type": "markdown",
      "metadata": {
        "id": "42630xxYD0gZ"
      },
      "source": [
        "# ![alt text](https://upload.wikimedia.org/wikipedia/commons/thumb/c/c3/Python-logo-notext.svg/50px-Python-logo-notext.svg.png) **Trabajo Práctico 04: Tipos de datos abstractos** ![alt text](https://upload.wikimedia.org/wikipedia/commons/thumb/c/c3/Python-logo-notext.svg/50px-Python-logo-notext.svg.png)\n",
        "\n",
        "En este trabajo práctico, vamos a trabajar con la definición de tipos de datos abstractos en Python.\n",
        "\n",
        "\n",
        "\n",
        "### Martin: **martin.pustilnik@unahur.edu.ar** ###\n"
      ]
    },
    {
      "cell_type": "markdown",
      "metadata": {
        "id": "cwvo5HlCXnwM"
      },
      "source": [
        "**En cada ejercicio, luego de implementar el TDA pedido, tienen que probar cada una de las operaciones en un programa principal, ejecutando cada una de ellas**\n",
        "\n",
        "**En el video les comenté de la función \\_\\_str__ para la representación de variables de los TDAs, en lugar de \\_\\_str__ pueden implementar \\_\\_repr__ que es similar pero más general (No solo sirve para el *print*, sino para la representación en general de variables del TDA)**\n"
      ]
    },
    {
      "cell_type": "code",
      "source": [
        "def validarTipo2(variable, nombre, tipo, condicion = True):\n",
        "  if isinstance(variable, tipo) and condicion:\n",
        "    return variable\n",
        "  else:\n",
        "    raise Exception(\"La variable \" + nombre + \" debe ser de tipo \" + str(tipo) + \". o falla la condicion \"  )\n",
        "\n",
        "def validarTipo(variable, nombre, tipo):\n",
        "  if isinstance(variable, tipo):\n",
        "    return variable\n",
        "  else:\n",
        "    raise Exception(\"La variable \" + nombre + \" debe ser de tipo \" + str(tipo) + \".\")\n",
        "\n",
        "def validarAño(año):\n",
        "  if validarTipo(año, \"año\", int) and año >= 1870:\n",
        "    return año\n",
        "  else:\n",
        "    raise Exception(\"Año incorrecto\")\n",
        "\n",
        "\n",
        "def validarAltura(altura):\n",
        "  if validarTipo(altura, \"altura\", float) and altura > 0:\n",
        "    return altura\n",
        "  else:\n",
        "    raise Exception(\"Altura incorrecta\")\n"
      ],
      "metadata": {
        "id": "Zw0Z6fHghB1P"
      },
      "execution_count": null,
      "outputs": []
    },
    {
      "cell_type": "code",
      "source": [
        "\n",
        "#PRE: el dividor no puede ser 0\n",
        "def dividir(num, divisor):\n",
        "    if divisor != 0:\n",
        "      return num /  divisor\n",
        "    else:\n",
        "      raise Exception(\"No se puede dividir por cero\")\n",
        "\n",
        "print(dividir(3,0))"
      ],
      "metadata": {
        "colab": {
          "base_uri": "https://localhost:8080/",
          "height": 305
        },
        "id": "IO7ycQQd3qAB",
        "outputId": "001fa6c9-b359-4e02-b215-95570c4657db"
      },
      "execution_count": null,
      "outputs": [
        {
          "output_type": "error",
          "ename": "Exception",
          "evalue": "No se puede dividir por cero",
          "traceback": [
            "\u001b[0;31m---------------------------------------------------------------------------\u001b[0m",
            "\u001b[0;31mException\u001b[0m                                 Traceback (most recent call last)",
            "\u001b[0;32m/tmp/ipython-input-1216177999.py\u001b[0m in \u001b[0;36m<cell line: 0>\u001b[0;34m()\u001b[0m\n\u001b[1;32m      5\u001b[0m       \u001b[0;32mraise\u001b[0m \u001b[0mException\u001b[0m\u001b[0;34m(\u001b[0m\u001b[0;34m\"No se puede dividir por cero\"\u001b[0m\u001b[0;34m)\u001b[0m\u001b[0;34m\u001b[0m\u001b[0;34m\u001b[0m\u001b[0m\n\u001b[1;32m      6\u001b[0m \u001b[0;34m\u001b[0m\u001b[0m\n\u001b[0;32m----> 7\u001b[0;31m \u001b[0mprint\u001b[0m\u001b[0;34m(\u001b[0m\u001b[0mdividir\u001b[0m\u001b[0;34m(\u001b[0m\u001b[0;36m3\u001b[0m\u001b[0;34m,\u001b[0m\u001b[0;36m0\u001b[0m\u001b[0;34m)\u001b[0m\u001b[0;34m)\u001b[0m\u001b[0;34m\u001b[0m\u001b[0;34m\u001b[0m\u001b[0m\n\u001b[0m",
            "\u001b[0;32m/tmp/ipython-input-1216177999.py\u001b[0m in \u001b[0;36mdividir\u001b[0;34m(num, divisor)\u001b[0m\n\u001b[1;32m      3\u001b[0m       \u001b[0;32mreturn\u001b[0m \u001b[0mnum\u001b[0m \u001b[0;34m/\u001b[0m  \u001b[0mdivisor\u001b[0m\u001b[0;34m\u001b[0m\u001b[0;34m\u001b[0m\u001b[0m\n\u001b[1;32m      4\u001b[0m     \u001b[0;32melse\u001b[0m\u001b[0;34m:\u001b[0m\u001b[0;34m\u001b[0m\u001b[0;34m\u001b[0m\u001b[0m\n\u001b[0;32m----> 5\u001b[0;31m       \u001b[0;32mraise\u001b[0m \u001b[0mException\u001b[0m\u001b[0;34m(\u001b[0m\u001b[0;34m\"No se puede dividir por cero\"\u001b[0m\u001b[0;34m)\u001b[0m\u001b[0;34m\u001b[0m\u001b[0;34m\u001b[0m\u001b[0m\n\u001b[0m\u001b[1;32m      6\u001b[0m \u001b[0;34m\u001b[0m\u001b[0m\n\u001b[1;32m      7\u001b[0m \u001b[0mprint\u001b[0m\u001b[0;34m(\u001b[0m\u001b[0mdividir\u001b[0m\u001b[0;34m(\u001b[0m\u001b[0;36m3\u001b[0m\u001b[0;34m,\u001b[0m\u001b[0;36m0\u001b[0m\u001b[0;34m)\u001b[0m\u001b[0;34m)\u001b[0m\u001b[0;34m\u001b[0m\u001b[0;34m\u001b[0m\u001b[0m\n",
            "\u001b[0;31mException\u001b[0m: No se puede dividir por cero"
          ]
        }
      ]
    },
    {
      "cell_type": "code",
      "source": [
        "\n",
        "\n",
        "dia = 12\n",
        "print(validarTipo(dia, \"dia\", int))\n",
        "print(validarTipo2(dia, \"dia\", int, dia < 32))"
      ],
      "metadata": {
        "colab": {
          "base_uri": "https://localhost:8080/"
        },
        "id": "94I-TVoBmSXj",
        "outputId": "3d378666-a1bb-441d-b95b-8c409ae76800"
      },
      "execution_count": null,
      "outputs": [
        {
          "output_type": "stream",
          "name": "stdout",
          "text": [
            "12\n",
            "12\n"
          ]
        }
      ]
    },
    {
      "cell_type": "markdown",
      "source": [
        "TDA :  objeto real (ej universidad)\n",
        "Modelo computacional:\n",
        "-que cosas nos interesan modelar de la universidad?\n",
        "\n",
        "Modelo1\n",
        "\n",
        "nombre\n",
        "cantidad de alumnos\n",
        "carreras que ofrece\n",
        "\n",
        "-puede haber mas de un modelo...\n",
        "\n",
        "Modelo2\n",
        "nombre\n",
        "los alumnos en si\n",
        "que materias cursa\n",
        "carreras que ofrece\n",
        "\n",
        "-Implementacion1 (estructura de datos de representacion)\n",
        "\n",
        "nombre: va a ser un string\n",
        "las materias:  van a a ser una lista.\n",
        "\n",
        "-Implementacion\n",
        "\n",
        "nombre: va a ser un string\n",
        "las materias:  van a a ser un diccionario.\n",
        "\n",
        "\n"
      ],
      "metadata": {
        "id": "3JyR98y6eSSb"
      }
    },
    {
      "cell_type": "markdown",
      "metadata": {
        "id": "DyzOhAhyXPt8"
      },
      "source": [
        "### **Ejercicio 1**\n",
        "\n",
        "Implementar el TDA \"Propiedad\" que modela un inmueble, con una estructura definida por los siguientes componentes:\n",
        "- Calle\n",
        "- Número\n",
        "- Localidad\n",
        "- Año de construcción\n",
        "- Cantidad de ambientes\n",
        "\n",
        "Implementar las siguientes operaciones:\n",
        "- Constructor: Debe incluir las validaciones necesarias, teniendo en cuenta que solo se almacenan propiedades construidas luego de 1870.\n",
        "- \\_\\_repr__: Al usar la función *print* con una variable del tipo propiedad debe mostrar: **'calle' 'numero' ('localidad')**.\n",
        "- mismaLocalidad: Operación que recibe dos propiedades y retorna *True* si estan en la misma localidad y *False* en caso contrario.\n",
        "- mayorNumeración: Operación que recibe dos propiedades y si están en la misma calle, retorna la que posee mayor numeración. Si están calles diferentes debe lanzar una excepción.\n",
        "- calculaImpuestoARBA: Operación que retorna el porcentaje de impuesto inmobiliario de una propiedad, según la siguiente regla:\n",
        " - Propiedades entre 1870 y 1949:\n",
        "   - Entre 1 y 3 ambientes: 5% de impuesto\n",
        "   - Entre 4 y 6 ambientes: 10% de impuesto\n",
        "   - Más de 6 ambientes: 25 % de impuesto\n",
        " - Propiedades desde 1950 hasta la actualidad:\n",
        "   - Entre 1 y 5 ambientes: 5% de impuesto\n",
        "   - Más de 5 ambientes: 35 % de impuesto\n"
      ]
    },
    {
      "cell_type": "code",
      "metadata": {
        "id": "RaEQSMR_cgI_",
        "colab": {
          "base_uri": "https://localhost:8080/"
        },
        "outputId": "e749b933-b3cb-4f75-bafa-94b0b10e7d46"
      },
      "source": [
        "\n",
        "\n",
        "\n",
        "#_calle = \"origone\"\n",
        "# vamos a definir un tda (o un tipo) nuevo\n",
        "class Propiedad:\n",
        "  def __init__(self, calle, numero, localidad, año, cantAmb):\n",
        "      self._calle = validarTipo(calle, \"calle\", str)\n",
        "      # el numero debe ser un int\n",
        "      self._numero = validarTipo(numero, \"numero\", int)\n",
        "      self._localidad = localidad\n",
        "      self.__año = validarTipo(año, \"año\", int)\n",
        "      self._cantAmb = cantAmb\n",
        "\n",
        "  def modificarCalle(self, nuevaCalle):\n",
        "    self._calle = validarTipo(nuevaCalle, \"calle\", str)\n",
        "\n",
        "  # parte de la interfaz\n",
        "  def año(self):\n",
        "    return self.__año\n",
        "\n",
        "  def calle(self):\n",
        "    return self._calle\n",
        "\n",
        "  def año(self):\n",
        "    return self.__año\n",
        "\n",
        "  def localidad(self):\n",
        "    return self._localidad\n",
        "\n",
        "  def mismaLocalidad(self, otraPropiedad):\n",
        "    return self.localidad() == otraPropiedad.localidad()\n",
        "\n",
        "  def mismaLocalidad(prop1, otraPropiedad):\n",
        "    return prop1.localidad() == otraPropiedad.localidad()\n",
        "\n",
        "  def __repr__(self)->str:\n",
        "    return self._calle + \" \" + self._numero.__repr__() + \" (\" + self._localidad + \")\" + \" \" + self.__año.__repr__()\n",
        "\n",
        "\n",
        "unahur = Propiedad(\"origone\",151, \"Hurlingham\", 2016, 1000)\n",
        "print(unahur.año())\n",
        "\n",
        "ungs = Propiedad(\"direccion2\",151, \"Malvinas Argentinas\", 2016, 1000)\n",
        "\n",
        "#metodo de instancia. ponemos el nombre de la instancia\n",
        "print(unahur.mismaLocalidad(ungs))\n",
        "#metodo de clase. ponermos el nombre de la clase\n",
        "print(\"mismaLocalidad?\", Propiedad.mismaLocalidad(unahur, ungs))\n",
        "\n",
        "print(unahur.__repr__())\n",
        "print(unahur)  # asume que estamos llamando al .__repr__()\n",
        "\n",
        "\n",
        "x  = Propiedad(\"calle\", 222, \"localidad\", 1999, 4)\n",
        "print(x)"
      ],
      "execution_count": null,
      "outputs": [
        {
          "output_type": "stream",
          "name": "stdout",
          "text": [
            "2016\n",
            "False\n",
            "mismaLocalidad? False\n",
            "origone 151 (Hurlingham) 2016\n",
            "origone 151 (Hurlingham) 2016\n",
            "calle 222 (localidad) 1999\n"
          ]
        }
      ]
    },
    {
      "cell_type": "code",
      "source": [
        "p1 = Propiedad(\"Origone\", 151, \"Hurlingham\", 2016, 100)\n",
        "p2 = Propiedad(\"Origone\", 151, \"Hurlingham\", 2018, 100)\n",
        "# estoy accediendo a la estructura de datos interna\n",
        "\n",
        "#p1.__año = \"perro\"\n",
        "print(p1)\n",
        "\n"
      ],
      "metadata": {
        "colab": {
          "base_uri": "https://localhost:8080/"
        },
        "id": "YosE8mYzAsgo",
        "outputId": "776a5f4e-7da2-4519-d619-3a9381a8d9c9"
      },
      "execution_count": null,
      "outputs": [
        {
          "output_type": "stream",
          "name": "stdout",
          "text": [
            "Origone 151 (Hurlingham)\n"
          ]
        }
      ]
    },
    {
      "cell_type": "code",
      "source": [
        "# __repr__   sumarUnDia(): agrega 1 dia, por ejemplo. 31/3/2022 -> 1/4/2022\n",
        "# asumir que todos los meses tienen 31 dias.\n",
        "class Fecha:\n",
        "  # constructor\n",
        "  def __init__(self, dia, mes, año):\n",
        "    #estructura de datos\n",
        "    self._año = validarTipo(año, \"año\", int)\n",
        "    #PRE: mes > 0 and mes < 13\n",
        "    self._mes = validarTipo2(mes, \"mes\", int, mes > 0 and mes < 13)\n",
        "    #PRE: dia > 0 and dia < 32\n",
        "    self._dia = validarTipo2(dia, \"dia\", int, dia > 0 and dia < 32 )\n",
        "\n",
        "#metodo de clase\n",
        "  def esBicsiesto(año):\n",
        "    if año % 4 == 0:\n",
        "      return True\n",
        "    else:\n",
        "      return False\n",
        "\n",
        "#PRE: mes > 0 and mes < 13\n",
        "#PRE: dia > 0 and dia < 32\n",
        "#metodo de instancia (recibe \"self\")\n",
        "  def sumarUnDia(self):\n",
        "    self._dia = self._dia + 1\n",
        "\n",
        "  def sumarUnDia(self):\n",
        "    self._dia = self._dia + 1\n",
        "    if self._dia == 32:\n",
        "      self._dia = 1\n",
        "      self._mes = self._mes + 1\n",
        "\n",
        "    if self._mes == 13:\n",
        "      self._mes = 1\n",
        "      self._año = self._año + 1\n",
        "\n",
        "\n",
        "  def __repr__(self):\n",
        "    return self._dia.__repr__() + \"/\" +  self._mes.__repr__() + \"/\" + self._año.__repr__()\n",
        "\n",
        "#fecha = Fecha(31,13,2022)\n",
        "fecha = Fecha(31,12,2022)\n",
        "fecha.sumarUnDia()\n",
        "print(fecha)\n"
      ],
      "metadata": {
        "id": "cmPUHcDPqGLy",
        "colab": {
          "base_uri": "https://localhost:8080/"
        },
        "outputId": "5c7d4dfc-d124-45e7-bd2b-9beac9e75a78"
      },
      "execution_count": null,
      "outputs": [
        {
          "output_type": "stream",
          "name": "stdout",
          "text": [
            "1/1/2023\n"
          ]
        }
      ]
    },
    {
      "cell_type": "markdown",
      "metadata": {
        "id": "rP1dZEXTe-qq"
      },
      "source": [
        "### **Ejercicio 2**\n",
        "\n",
        "Implementar el TDA \"Cuenta\" que modela una cuenta bancaria, la estructura de datos esta compuesta por los siguientes componentes:\n",
        "- Número de cuenta\n",
        "- DNI del titular\n",
        "- Saldo de cuenta actual\n",
        "- Interés anual\n",
        "\n",
        "Implementar las siguientes operaciones:\n",
        "- Constructor: Debe incluir las validaciones necesarias.\n",
        "- \\_\\_repr__: Al usar la función *print* con una variable del tipo cuenta debe mostrar: **Cuenta Nro: 'numero' - Titular: 'dni' ($'saldo')**.\n",
        "- actualizarSaldo: Operación que actualiza el saldo de la cuenta aplicándole el interés diario (interés anual dividido entre 365).\n",
        "- ingresarDinero: Operación que recibe un número e ingresa esa cantidad en la cuenta.\n",
        "- retirarDinero: Operación que recibe un número y extrae esa cantidad de la cuenta (si hay saldo disponible), sino debe lanzar una excepción.\n",
        "\n",
        "Y ademas hacer otro metodo que..."
      ]
    },
    {
      "cell_type": "code",
      "metadata": {
        "id": "IEDFppP6hENW"
      },
      "source": [
        "class Cuenta:\n",
        "  def __init__(self, numero, dni, saldo, interes):\n",
        "    self._numero = validarTipo(numero, \"numero\", int)\n",
        "    self._dni = validarTipo(dni, \"dni\", int)\n",
        "    self._saldo = validarTipo(saldo, \"saldo\", float)\n",
        "    self._porcentajeInteresAnual = validarTipo(interes, \"interes\", float)\n",
        "\n"
      ],
      "execution_count": null,
      "outputs": []
    },
    {
      "cell_type": "markdown",
      "metadata": {
        "id": "x8DVU8HlhE2q"
      },
      "source": [
        "### **Ejercicio 3**\n",
        "\n",
        "Implementar el TDA \"Tiempo\" que modela una duracion en horas, minutos y segundos.\n",
        "\n",
        "Se deben implementar las siguientes operaciones:\n",
        "- Constructor: Debe incluir las validaciones necesarias, la hora debe ser un número positivo y los minutos y segundos deben ser números positivos entre 0 y 59.\n",
        "- \\_\\_repr__: Al usar la función *print* con una variable del tipo tiempo debe mostrar: **'horas':'minutos':'segundos'**.\n",
        "- tiempoASegundos: Operación que toma una variable de tipo Tiempo y retorna la cantidad en segundos.\n",
        "- tiemposDesdeSegundos: Operación que recibe un tiempo en segundos como parámetro y retorna una variable de tipo Tiempo, en horas minutos y segundos.\n",
        "- mayorDuracion: Operación que recibe dos variables de tipo tiempo y retorna la de mayor duración."
      ]
    },
    {
      "cell_type": "code",
      "source": [
        "\n",
        "\n",
        "# vamos a hacer un TDA que represente el tiempo medido en hs, seg y min\n",
        "\n",
        "# interfaz\n",
        "#  def __init__(self, hs, min, seg):\n",
        "#  def __repr__(self):\n",
        "#  def enMinutos(self):\n",
        "\n",
        "class Tiempo:\n",
        "  def __init__(self, hs, min, seg):\n",
        "    self.__hs = validarTipo(hs, \"hs\", int)\n",
        "    self.__min = validarTipo2(min, \"min\", int,  0 <= min <= 59  )\n",
        "    self.__seg = validarTipo2(seg, \"seg\", int,  0 <= seg <= 59  )\n",
        "\n",
        "  def seg(self):\n",
        "    return self.__seg\n",
        "  def min(self):\n",
        "    return self.__min\n",
        "  def hs(self):\n",
        "    return self.__hs\n",
        "\n",
        "#Metodo de clase\n",
        "  def tiempoASegundos(tiempo) -> int:\n",
        "    segundos = tiempo.seg()\n",
        "    segundos += tiempo.min() * 60\n",
        "    segundos += tiempo.hs() * 3600\n",
        "    return segundos\n",
        "\n",
        "# metodo de instancia\n",
        "#  def tiempoASegundos(self) -> int:\n",
        "\n",
        "\n",
        "# es un metodo de clase.\n",
        "#  def tiempoDesdeSegundos(segundos: int) -> Tiempo:\n",
        "#    var = Tiempo()\n",
        "#    return var\n",
        "\n",
        "\n",
        "#  def __repr__(self)->str:\n",
        "#    return str(self.__hs) + \":\" + str(self.__min) + \":\" + str(self.__seg)\n",
        "\n",
        "  def __repr__(self)->str:\n",
        "    return self.__hs.__repr__() + \":\" + self.__min.__repr__() + \":\" + self.__seg.__repr__()\n",
        "\n",
        "t = Tiempo(1, 1, 1)\n",
        "print(Tiempo.tiempoASegundos(t))\n",
        "print(\"repr \" , t.__repr__())\n"
      ],
      "metadata": {
        "id": "ZtL44I9lI1Lf",
        "colab": {
          "base_uri": "https://localhost:8080/"
        },
        "outputId": "78ae118e-3705-4de5-ac05-1aa7dac9497f"
      },
      "execution_count": null,
      "outputs": [
        {
          "output_type": "stream",
          "name": "stdout",
          "text": [
            "3661\n",
            "repr  1:1:1\n"
          ]
        }
      ]
    },
    {
      "cell_type": "code",
      "source": [
        "\n",
        "\n",
        "var = \"hola\"\n",
        "print(str(.))\n"
      ],
      "metadata": {
        "colab": {
          "base_uri": "https://localhost:8080/",
          "height": 106
        },
        "id": "p0ugXDvzAWzI",
        "outputId": "f708ebe6-9432-4039-80d3-d76de9417eaf"
      },
      "execution_count": null,
      "outputs": [
        {
          "output_type": "error",
          "ename": "SyntaxError",
          "evalue": "invalid syntax (<ipython-input-19-74aa19494d01>, line 2)",
          "traceback": [
            "\u001b[0;36m  File \u001b[0;32m\"<ipython-input-19-74aa19494d01>\"\u001b[0;36m, line \u001b[0;32m2\u001b[0m\n\u001b[0;31m    print(str(.))\u001b[0m\n\u001b[0m              ^\u001b[0m\n\u001b[0;31mSyntaxError\u001b[0m\u001b[0;31m:\u001b[0m invalid syntax\n"
          ]
        }
      ]
    },
    {
      "cell_type": "markdown",
      "source": [
        "\n",
        "### **Ejercicio 4: TDA en dos niveles**\n",
        "\n",
        "Modelar el TDA \"Cronometro\", que contiene un tiempo inicial y un tiempo final.\n",
        "\n",
        "Se deben implementar las siguientes operaciones:\n",
        "\n",
        "- Constructor: Queremos modelar el tiempo inicial y final con el TDA \"Tiempo\". Se pueden tener dos variables que se inicializaran en otra operación de la interface.\n",
        "- Comenzar: Debe recibir las hs,min y seg iniciales.\n",
        "- Finalizar: Debe recibir las hs,min y seg finales.\n",
        "- TiempoEmpleado: Devuelve una variable de tipo Tiempo con la diferencia entre el tiempo inicial y el final."
      ],
      "metadata": {
        "id": "5gcdaYCShYkt"
      }
    },
    {
      "cell_type": "code",
      "metadata": {
        "id": "5Y-A98mZkTEq",
        "colab": {
          "base_uri": "https://localhost:8080/"
        },
        "outputId": "045c3d14-a4b6-4e5e-c48d-fafbfab5cdcb"
      },
      "source": [
        "\n",
        "class Cronometro:\n",
        "  def __init__(self):\n",
        "    self._tiempoInicial = None\n",
        "    self._tiempoFinal = None\n",
        "\n",
        "c = Cronometro()\n",
        "\n",
        "# violamos en encapsulamiento, accediendo a la estructura de datos\n",
        "c._tiempoInicial = Tiempo(3,3,3)\n",
        "print(c)\n",
        "# aca no\n",
        "print(c)\n"
      ],
      "execution_count": null,
      "outputs": [
        {
          "output_type": "stream",
          "name": "stdout",
          "text": [
            "<__main__.Cronometro object at 0x787fdc9c9b50>\n",
            "<__main__.Cronometro object at 0x787fdc9c9b50>\n"
          ]
        }
      ]
    },
    {
      "cell_type": "markdown",
      "source": [
        "### **Ejercicio 5: TDA en dos niveles**\n",
        "\n",
        "Modelar el TDA \"Rectangulo\" a partir de los dos lados que lo definen.\n",
        "\n",
        "Se deben implementar las siguientes operaciones:\n",
        "\n",
        "- Constructor: Recibe las longitudes de ambos lados\n",
        "- area: calcula y devuelve el area del rectangulo\n",
        "- perimetro: calcula y devuelve el perimetro\n",
        "- \\_\\_repr__ : imprime la longitud de los lados\n",
        "\n",
        "Luego, modelar el TDA \"Cuadrado\" teniendo unicamente como variable interna en la estructura una variable de tipo \"Rectangulo\". El TDA Cuadrado debe tener las mismas operaciones que el TDA Rectangulo.\n",
        "\n",
        "Ayuda:\n",
        "\n",
        "Área(Rectángulo) = lado1 \\* lado2\n",
        "\n",
        "Área(Cuadrado) = lado^2\n",
        "\n",
        "Perímetro(Rectangulo) = 2 \\* lado1 + 2 \\* lado2\n",
        "\n",
        "Perímetro(Cuadrado) = 4 \\* lado"
      ],
      "metadata": {
        "id": "TX3EbDojGmAV"
      }
    },
    {
      "cell_type": "code",
      "source": [
        "class Rectangulo:\n",
        "  def __init__(self, lado1, lado2):\n",
        "    self._lado1 = lado1\n",
        "    self._lado2 = lado2\n",
        "\n",
        "class Cuadrado:\n",
        "  def __init__(self, lado):\n",
        "    self._ladoConRectangulo = Rectangulo(lado, lado)\n",
        "\n",
        "unCuadrado = Cuadrado(4)\n",
        "\n"
      ],
      "metadata": {
        "id": "X7EFCmDFG5Ph"
      },
      "execution_count": null,
      "outputs": []
    },
    {
      "cell_type": "markdown",
      "source": [
        "### **Ejercicio 06** TDA con arreglos\n",
        "\n",
        "La unaHur nos pidió ayuda para administrar las aulas del campus.\n",
        "Se debe iniciar el TDA Laboratorios con la cantidad de aulas disponibles, cosa que no va a cambiar.\n",
        "\n",
        "Cada aula tiene una cantidad de computadoras, una cantidad de sillas y la cantidad de ventanas.\n",
        "\n",
        "Se recomienda crear primero el TDA Aula.\n",
        "\n",
        "Implementar al menos las siguientes operaciones del TAD Laboratorios:\n",
        "definirAula(indiceAula, cantCompus, cantVentanas, cantSillas)\n",
        "donde el índice está entre 0 y la cantidad de laboratorios con que se inicializó.\n",
        "\n",
        "Si el aula ya existía, se tiene que redefinir(modificar).\n",
        "\n",
        "aulaConMasVentanas():  \n",
        "que devuelve el aula con más ventanas. Notar que no necesariamente están todas las aulas estan definidas.\n",
        "\n",
        "vaciarAulas():\n",
        "que elimina las aulas definidos\n",
        "\n",
        "¡No son las únicas operaciones necesarias, agregar los métodos que crean necesarios, como el constructor!\n",
        "\n",
        "Se recomienda pensarlo antes de mirar una solucion\n",
        "\n",
        "Solucion: https://colab.research.google.com/drive/1wZfUYsuWxeOFgH_XFWaM_pgl71QRFTHZ?usp=sharing"
      ],
      "metadata": {
        "id": "f1uPAbCd4Cp8"
      }
    },
    {
      "cell_type": "code",
      "source": [
        "import numpy as np\n",
        "\n",
        "class Aula:\n",
        "  def __init__(self, id, cantVentanas, cantcompus, cantSillas):\n",
        "    self._id = id\n",
        "    self._cantVentanas = cantVentanas\n",
        "    self._cantCompus = cantcompus\n",
        "    self._cantSillas = cantSillas\n",
        "\n",
        "  def __repr__(self)->str:\n",
        "    return self._id.__repr__() #+ self._cantVentanas.__repr__() + self._cantCompus.__repr__() +\n",
        "    #self._cantSillas.__repr__()\n",
        "\n",
        "\n",
        "\n",
        "\n"
      ],
      "metadata": {
        "id": "sRXV6chG4BJw"
      },
      "execution_count": null,
      "outputs": []
    },
    {
      "cell_type": "markdown",
      "source": [
        "### **Ejercicio 07**  TDA con Arreglos\n",
        "\n",
        "La nueva computadora del LIDEC necesita un algoritmo que administre los programas que se cargan en memoria. Para este ejercicio, un programa, es una secuencia de unos y ceros de longitud fija.\n",
        "\n",
        "Cada programa debe tener:\n",
        "\n",
        "-Un nombre\n",
        "\n",
        "-Una secuencia de unos y ceros de tamaño conocido.\n",
        "\n",
        "-En qué fila de la memoria está cargado (-1 si no está cargado).\n",
        "\n",
        "La computadora puede hacer dos cosas, (1) Almacenar un programa en una lista. (2) Cargar el programa en memoria. La memoria es una matriz de una cantidad de filas y columnas conocidas, en donde en cada fila se puede almacenar un programa a la vez.\n",
        "\n",
        "Implementar el TDA Compu que contenga al menos las siguientes operaciones:\n",
        "init(nombre, cantFilas, cantColumnas): Que recibe la cantidad de filas y columnas de la memoria.\n",
        "\n",
        "agregarPrograma(nombrePrograma, listaDatos): Recibe el nombre del programa y la lista de unos y ceros. Si el nombre del programa ya existe, debe arrojar una excepción.\n",
        "\n",
        "cargarPrograma(nombre) → bool: Recibe el nombre del programa que se quiere cargar en memoria. Si el nombre es incorrecto o el programa ya se encontraba en memoria no hace nada. Cada programa debe “entrar” en una sola fila de la memoria. Es decir, solo se carga en memoria la secuencia de unos y ceros dentro de la primera fila que se encuentre disponible. Si el programa no entra en ninguna fila ya sea porque es muy largo o porque no hay filas disponibles, se debe arrojar una excepción.  Por último debe marcar en la lista de programas el número de fila de memoria utilizado, en el programa correspondiente. La función devuelve verdadero si pudo cargar el programa y falso sino.\n",
        "\n",
        "repr(): que muestra la lista de programas, su ubicación en memoria y la memoria de la computadora.\n",
        "\n",
        "Ayuda:  Implementar primero el TDA Programa  y la lista de programas de el tda Compu. Se puede usar cualquier estrategia para ver que fija está disponible, por ejemplo, tener una lista de “filas disponibles” al principio.\n",
        "\n",
        "Notas:\n",
        "No son las únicas operaciones necesarias, agregar las operaciones y funciones que consideren necesarias.\n",
        "\n",
        "Una memoria vacía contiene ceros en todas las posiciones.\n",
        "La memoria es una matriz, pero se recibe una lista como parámetro en las funciones. NO se deben mezclar dos tipos de datos distintos.\n",
        "\n",
        "Recomendamos hacer el ejercicio antes de ver la solucion\n",
        "\n",
        "Solucion: https://colab.research.google.com/drive/1ugkUk9CiBqFrIVR6pO2N7IHIv1MVzkz8?usp=sharing\n"
      ],
      "metadata": {
        "id": "T_5Z14m34RGh"
      }
    },
    {
      "cell_type": "code",
      "source": [
        "# Asumiendo que parte de la interfaz del TDA Programa es la siguiente:\n",
        "class Programa:\n",
        "  def __init__(self, nombre, listaCerosYUnos):\n",
        "    self._nombre = nombre\n",
        "    self._listaCerosYUnos = listaCerosYUnos\n",
        "    self._filaEnMemoria = -1  # indicando la fila que ocupa en memoria\n",
        "\n",
        "class Compu:\n",
        "  def __init__(self, nombre, cantFilas, cantColumnas):\n",
        "    self._nombre = nombre\n",
        "    self._cantFilas = cantFilas\n",
        "    self._cantColumnas = cantColumnas\n",
        "    # terminar de implementar\n",
        "\n",
        "  def agregarPrograma(self, nombrePrograma, listaCerosYUnos):\n",
        "    # terminar de implementar\n",
        "    programa = Programa(nombrePrograma, listaCerosYUnos)\n",
        "\n",
        "  def cargarPrograma(self, nombre)->bool:\n",
        "    # terminar de implementar\n",
        "    return False\n",
        "\n",
        "  def __repr__(self)-> str:\n",
        "    # terminar de implementar\n",
        "    return \"\"\n",
        "\n",
        "#El TDA Compu deberá superar este test:\n",
        "# creamos una computadora con una memoria de 3x15\n",
        "clementina = Compu('clementina',3,15)\n",
        "# notar que tengo que crear el programa antes de agregarlo a la lista programas\n",
        "clementina.agregarPrograma('gorila.bas',  [0,1,0,1,0,0,0,1,1,1,1])\n",
        "clementina.agregarPrograma('autoexec.bat',  [0,1,0,1,0,0,1,1,0,1,1,1,1])\n",
        "clementina.agregarPrograma('Chome.exe',  [0,1,0,1,0,0,1,1,0,1,1,1,1,0,0,0,0,1,1,1,1,1])\n",
        "clementina.cargarPrograma('gorila.bas')\n",
        "clementina.cargarPrograma('autoexec.bat')\n",
        "# debería arrojar una excepción porque no entra en ninguna fila.\n",
        "# clementina.cargarPrograma(“chrome.exe”)\n",
        "print(clementina)\n",
        "# asumiendo que se cargaron 2 programas en las dos primeras filas, debería imprimir:\n",
        "#gorilla.bas:  cargado en fila 0\n",
        "#autoexec.bat:  cargado en fila 1\n",
        "#chrome.exe: -1 , indicando que no está cargado\n",
        "#0,1,0,1,0,0,0,1,1,1,1,0,0,0\n",
        "#0,1,0,1,0,0,1,1,0,1,1,1,1,0\n",
        "#0,0,0,0,0,0,0,0,0,0,0,0,0,0\n"
      ],
      "metadata": {
        "id": "pC2eDezS4XZU"
      },
      "execution_count": null,
      "outputs": []
    },
    {
      "cell_type": "markdown",
      "metadata": {
        "id": "30rZj5FbkT9T"
      },
      "source": [
        "### **Ejercicio 08 (opcional)**\n",
        "\n",
        "Las plataformas de música online como ***YouTube*** y ***Spotify*** almacenan la información asociada a las canciones en estructuras de datos complejas para hacer las búsquedas de manera eficiente. Para esto se deben modelar las canciones. Implementar el TDA \"Cancion\" con los siguientes componentes:\n",
        "- Nombre\n",
        "- Artista\n",
        "- Duración\n",
        "- Género musical (6 posibles: Rock, Jazz, Blues, Funk, Reggae y Rap).\n",
        "- Año de edición\n",
        "- Número de likes\n",
        "\n",
        "Implementar las siguientes operaciones:\n",
        "- Constructor: Debe incluir las validaciones necesarias.\n",
        "- \\_\\_repr__: Al usar la función *print* con una variable del tipo canción debe mostrar: **'nombre' - 'artista' ('duracion')**.\n",
        "- mayorDuracion: Operación que recibe dos canciones por parámetros y retorna la de mayor duración.\n",
        "- agregaLikes: Operación que recibe un número e incrementa la cantidad de likes de la canción en ese número.\n",
        "- masVotada: Operacion que recibe dos canciones y sin son del mismo artista y del mismo género musical, retorna la que tiene mayor cantidad de likes. En caso contrario debe lanzar una excepción."
      ]
    },
    {
      "cell_type": "code",
      "metadata": {
        "id": "6PllhJFLxsp_"
      },
      "source": [
        "\n"
      ],
      "execution_count": null,
      "outputs": []
    },
    {
      "cell_type": "code",
      "source": [
        "cancion1 = Cancion(\"Sueña\", \"Luis Miguel\", 180, \"Balada\", 1995, 10000)\n",
        "cancion2 = Cancion(\"Bad Romance\", \"Luis Miguel\", 220, \"Balada\", 2005, 111000)\n",
        "print(cancion1)\n",
        "print(mayorDuracion(cancion1, cancion2))\n",
        "cancion1.setDuracion(300)\n",
        "print(mayorDuracion(cancion1, cancion2))\n",
        "print(cancion2.getNroLikes())\n",
        "cancion2.agregaLikes(5500)\n",
        "print(cancion2.getNroLikes())\n",
        "print(cancion1.masVotada(cancion2))\n",
        "cancion1.agregaLikes(200000)\n",
        "print(cancion1.masVotada(cancion2))"
      ],
      "metadata": {
        "colab": {
          "base_uri": "https://localhost:8080/"
        },
        "id": "kEzrrUsUyiqM",
        "outputId": "07b7e8b9-9ef8-4320-fbf1-ad648d272e37"
      },
      "execution_count": null,
      "outputs": [
        {
          "output_type": "stream",
          "name": "stdout",
          "text": [
            "Sueña - Luis Miguel(180)\n",
            "Bad Romance\n",
            "Sueña\n",
            "111000\n",
            "116500\n",
            "Bad Romance\n",
            "Sueña\n"
          ]
        }
      ]
    },
    {
      "cell_type": "markdown",
      "metadata": {
        "id": "1yx_0M8PtkmE"
      },
      "source": [
        "### **Ejercicio 09 (opcional)**\n",
        "\n",
        "Implementar el TDA \"Quiniela\" que modela un juego de quiniela con dos números premiados. La estructura contiene:\n",
        "- Primer número premiado\n",
        "- Segundo número premiado\n",
        "- Multiplicador (cuánto se paga por cada peso apostado)\n",
        "\n",
        "Implementar las siguientes operaciones:\n",
        "- Constructor: Debe incluir las validaciones necesarias, teniendo en cuenta que los números que participan se encuentran entre 0 y 999.\n",
        "- \\_\\_repr__: Al usar la función *print* con una variable del tipo quiniela debe mostrar: **Primer número ganador: 'numero' - Segundo número ganador: 'numero' - Paga: 'multiplicador'X**.\n",
        "- esNumeroGanador: Operación que recibe un número por parámetros y retorna *True* si el número resultó ganador o *False* en caso contrario.\n",
        "- importeAPagar: Operación que recibe un número y el monto apostado por parámetros y retorna el importe a pagar si la apuesta es ganadora o 0 en caso contrario. Si el número es el primer premio, se paga 'mutiplicador' por cada peso apostado, si es el segundo premio se paga la mitad. Solo se aceptan apuestas hasta $1000.\n",
        "- premiadosCercanos: Operación que retorna *True* si los números premiados están a menos de 10 números de distancia y *False* en caso contrario.\n",
        "\n",
        "\n"
      ]
    },
    {
      "cell_type": "code",
      "source": [],
      "metadata": {
        "id": "05VjOJFp0UP2"
      },
      "execution_count": null,
      "outputs": []
    }
  ]
}